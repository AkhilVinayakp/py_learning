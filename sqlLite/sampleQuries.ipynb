{
 "cells": [
  {
   "cell_type": "code",
   "execution_count": 1,
   "metadata": {},
   "outputs": [],
   "source": [
    "# file contains sample sql quries"
   ]
  },
  {
   "cell_type": "code",
   "execution_count": 3,
   "metadata": {},
   "outputs": [],
   "source": [
    "import os\n",
    "import sqlite3\n",
    "from sqlite3 import Error\n",
    "import logging as logger"
   ]
  },
  {
   "cell_type": "code",
   "execution_count": 4,
   "metadata": {},
   "outputs": [],
   "source": [
    "class TestData:\n",
    "    def __init__(self) -> None:\n",
    "        '''Creates a new database connection\n",
    "        \n",
    "        '''\n",
    "        self.connection = None\n",
    "        self.cursor = None\n",
    "        try:\n",
    "            self.connection = sqlite3.Connection(\"testDB.db\")\n",
    "            self.cursor = self.connection.cursor()\n",
    "        except Error as e:\n",
    "            logger.debug(\"Error in connecting to the database :\", e)\n",
    "        except Exception as e:\n",
    "            logger.error(\"Error: \", e)\n",
    "        finally:\n",
    "            if self.connection:\n",
    "                logger.info(\"Database connection successfull\")\n",
    "            else:\n",
    "                logger.error(\"Database connection failed.\")\n",
    "\n",
    "    def creatTable(self, query):\n",
    "        '''Creates a table \n",
    "        :param query: query required to create a table.\n",
    "        '''\n",
    "        pass\n",
    "\n",
    "    def insertData(self, query):\n",
    "        '''Insert data\n",
    "        '''\n",
    "        pass"
   ]
  },
  {
   "cell_type": "code",
   "execution_count": 5,
   "metadata": {},
   "outputs": [],
   "source": [
    "db = TestData()"
   ]
  },
  {
   "cell_type": "code",
   "execution_count": null,
   "metadata": {},
   "outputs": [],
   "source": []
  }
 ],
 "metadata": {
  "kernelspec": {
   "display_name": "Python 3",
   "language": "python",
   "name": "python3"
  },
  "language_info": {
   "codemirror_mode": {
    "name": "ipython",
    "version": 3
   },
   "file_extension": ".py",
   "mimetype": "text/x-python",
   "name": "python",
   "nbconvert_exporter": "python",
   "pygments_lexer": "ipython3",
   "version": "3.10.0"
  },
  "orig_nbformat": 4,
  "vscode": {
   "interpreter": {
    "hash": "208bcf22c938a65cdb1bd8dd171fb2e3633d342488f088e149f138423e000178"
   }
  }
 },
 "nbformat": 4,
 "nbformat_minor": 2
}
