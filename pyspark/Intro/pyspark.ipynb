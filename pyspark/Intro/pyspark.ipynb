{
  "nbformat": 4,
  "nbformat_minor": 0,
  "metadata": {
    "colab": {
      "provenance": [],
      "mount_file_id": "1dYTUj2_2okS3JMYNihb9UcBKb9bF93NY",
      "authorship_tag": "ABX9TyNpUJK8cKu6CMdQLCs74bAD"
    },
    "kernelspec": {
      "name": "python3",
      "display_name": "Python 3"
    },
    "language_info": {
      "name": "python"
    }
  },
  "cells": [
    {
      "cell_type": "code",
      "execution_count": null,
      "metadata": {
        "colab": {
          "base_uri": "https://localhost:8080/"
        },
        "id": "IjsvOW0WeTBU",
        "outputId": "de53904c-ea8b-414c-a31a-fa583366443c"
      },
      "outputs": [
        {
          "output_type": "stream",
          "name": "stdout",
          "text": [
            "Collecting pyspark\n",
            "  Downloading pyspark-3.4.1.tar.gz (310.8 MB)\n",
            "\u001b[2K     \u001b[90m━━━━━━━━━━━━━━━━━━━━━━━━━━━━━━━━━━━━━━━\u001b[0m \u001b[32m310.8/310.8 MB\u001b[0m \u001b[31m1.9 MB/s\u001b[0m eta \u001b[36m0:00:00\u001b[0m\n",
            "\u001b[?25h  Preparing metadata (setup.py) ... \u001b[?25l\u001b[?25hdone\n",
            "Requirement already satisfied: py4j==0.10.9.7 in /usr/local/lib/python3.10/dist-packages (from pyspark) (0.10.9.7)\n",
            "Building wheels for collected packages: pyspark\n",
            "  Building wheel for pyspark (setup.py) ... \u001b[?25l\u001b[?25hdone\n",
            "  Created wheel for pyspark: filename=pyspark-3.4.1-py2.py3-none-any.whl size=311285397 sha256=2954ec8aa2e3146c60a8ed011e34bf96eefbb6fbc7446c62dadda6687e21b935\n",
            "  Stored in directory: /root/.cache/pip/wheels/0d/77/a3/ff2f74cc9ab41f8f594dabf0579c2a7c6de920d584206e0834\n",
            "Successfully built pyspark\n",
            "Installing collected packages: pyspark\n",
            "Successfully installed pyspark-3.4.1\n"
          ]
        }
      ],
      "source": [
        "!pip install pyspark"
      ]
    },
    {
      "cell_type": "code",
      "source": [
        "from pyspark import SparkContext\n",
        "from pyspark.sql import SparkSession\n",
        "spark = SparkSession.builder.appName(\"alpha\").getOrCreate()"
      ],
      "metadata": {
        "id": "_neJQuCLeTwR"
      },
      "execution_count": null,
      "outputs": []
    },
    {
      "cell_type": "code",
      "source": [
        "spark"
      ],
      "metadata": {
        "colab": {
          "base_uri": "https://localhost:8080/",
          "height": 219
        },
        "id": "wccUhp7teu5-",
        "outputId": "f34e27d3-cde8-45eb-f1da-89639346d0a3"
      },
      "execution_count": null,
      "outputs": [
        {
          "output_type": "execute_result",
          "data": {
            "text/plain": [
              "<pyspark.sql.session.SparkSession at 0x7fe36804d4f0>"
            ],
            "text/html": [
              "\n",
              "            <div>\n",
              "                <p><b>SparkSession - in-memory</b></p>\n",
              "                \n",
              "        <div>\n",
              "            <p><b>SparkContext</b></p>\n",
              "\n",
              "            <p><a href=\"http://1702fef4d419:4040\">Spark UI</a></p>\n",
              "\n",
              "            <dl>\n",
              "              <dt>Version</dt>\n",
              "                <dd><code>v3.4.0</code></dd>\n",
              "              <dt>Master</dt>\n",
              "                <dd><code>local[*]</code></dd>\n",
              "              <dt>AppName</dt>\n",
              "                <dd><code>alpha</code></dd>\n",
              "            </dl>\n",
              "        </div>\n",
              "        \n",
              "            </div>\n",
              "        "
            ]
          },
          "metadata": {},
          "execution_count": 56
        }
      ]
    },
    {
      "cell_type": "code",
      "source": [
        "data = spark.sparkContext.textFile(\"/content/sample_data/california_housing_test.csv\")\n",
        "# here the textFile is transformation, So it only create a lineage (ADG)\n",
        "# the actual data will not be loaded"
      ],
      "metadata": {
        "id": "MzHcEtatey73"
      },
      "execution_count": null,
      "outputs": []
    },
    {
      "cell_type": "code",
      "source": [
        "data.take(10)\n",
        "# the above will print the first 10 lines\n",
        "# take is an action"
      ],
      "metadata": {
        "colab": {
          "base_uri": "https://localhost:8080/"
        },
        "id": "KUfUlsKsfJPO",
        "outputId": "20dea7d2-80de-4f5e-bf2f-2f4a4f6b3abb"
      },
      "execution_count": null,
      "outputs": [
        {
          "output_type": "execute_result",
          "data": {
            "text/plain": [
              "['\"longitude\",\"latitude\",\"housing_median_age\",\"total_rooms\",\"total_bedrooms\",\"population\",\"households\",\"median_income\",\"median_house_value\"',\n",
              " '-122.050000,37.370000,27.000000,3885.000000,661.000000,1537.000000,606.000000,6.608500,344700.000000',\n",
              " '-118.300000,34.260000,43.000000,1510.000000,310.000000,809.000000,277.000000,3.599000,176500.000000',\n",
              " '-117.810000,33.780000,27.000000,3589.000000,507.000000,1484.000000,495.000000,5.793400,270500.000000',\n",
              " '-118.360000,33.820000,28.000000,67.000000,15.000000,49.000000,11.000000,6.135900,330000.000000',\n",
              " '-119.670000,36.330000,19.000000,1241.000000,244.000000,850.000000,237.000000,2.937500,81700.000000',\n",
              " '-119.560000,36.510000,37.000000,1018.000000,213.000000,663.000000,204.000000,1.663500,67000.000000',\n",
              " '-121.430000,38.630000,43.000000,1009.000000,225.000000,604.000000,218.000000,1.664100,67000.000000',\n",
              " '-120.650000,35.480000,19.000000,2310.000000,471.000000,1341.000000,441.000000,3.225000,166900.000000',\n",
              " '-122.840000,38.400000,15.000000,3080.000000,617.000000,1446.000000,599.000000,3.669600,194400.000000']"
            ]
          },
          "metadata": {},
          "execution_count": 5
        }
      ]
    },
    {
      "cell_type": "code",
      "source": [
        "print(data)"
      ],
      "metadata": {
        "id": "zDain1Hpf6Fw",
        "colab": {
          "base_uri": "https://localhost:8080/"
        },
        "outputId": "7f87b77d-e96a-4ed9-fcfb-4965692c0d38"
      },
      "execution_count": null,
      "outputs": [
        {
          "output_type": "stream",
          "name": "stdout",
          "text": [
            "/content/sample_data/california_housing_test.csv MapPartitionsRDD[21] at textFile at NativeMethodAccessorImpl.java:0\n"
          ]
        }
      ]
    },
    {
      "cell_type": "code",
      "source": [
        "y = spark.sparkContext.parallelize([\"hea\", \"no idea what's happening here\"])"
      ],
      "metadata": {
        "id": "AGYSzdz4-2W5"
      },
      "execution_count": null,
      "outputs": []
    },
    {
      "cell_type": "code",
      "source": [
        "print(y)"
      ],
      "metadata": {
        "colab": {
          "base_uri": "https://localhost:8080/"
        },
        "id": "7UDA0ItNBZhY",
        "outputId": "076a7394-fada-4f85-c9ac-5eff645c6d0b"
      },
      "execution_count": null,
      "outputs": [
        {
          "output_type": "stream",
          "name": "stdout",
          "text": [
            "ParallelCollectionRDD[3] at readRDDFromFile at PythonRDD.scala:287\n"
          ]
        }
      ]
    },
    {
      "cell_type": "code",
      "source": [
        "from sklearn.datasets import load_iris"
      ],
      "metadata": {
        "id": "lJ-Ise5HBbPj"
      },
      "execution_count": null,
      "outputs": []
    },
    {
      "cell_type": "code",
      "source": [
        "iris_data = load_iris()"
      ],
      "metadata": {
        "id": "t28tO-P1CXXi"
      },
      "execution_count": null,
      "outputs": []
    },
    {
      "cell_type": "code",
      "source": [
        "iris_data.data"
      ],
      "metadata": {
        "colab": {
          "base_uri": "https://localhost:8080/"
        },
        "id": "hL8nACSyCauF",
        "outputId": "f58d4972-48e0-49f2-f82f-668fbbf41632"
      },
      "execution_count": null,
      "outputs": [
        {
          "output_type": "execute_result",
          "data": {
            "text/plain": [
              "array([[5.1, 3.5, 1.4, 0.2],\n",
              "       [4.9, 3. , 1.4, 0.2],\n",
              "       [4.7, 3.2, 1.3, 0.2],\n",
              "       [4.6, 3.1, 1.5, 0.2],\n",
              "       [5. , 3.6, 1.4, 0.2],\n",
              "       [5.4, 3.9, 1.7, 0.4],\n",
              "       [4.6, 3.4, 1.4, 0.3],\n",
              "       [5. , 3.4, 1.5, 0.2],\n",
              "       [4.4, 2.9, 1.4, 0.2],\n",
              "       [4.9, 3.1, 1.5, 0.1],\n",
              "       [5.4, 3.7, 1.5, 0.2],\n",
              "       [4.8, 3.4, 1.6, 0.2],\n",
              "       [4.8, 3. , 1.4, 0.1],\n",
              "       [4.3, 3. , 1.1, 0.1],\n",
              "       [5.8, 4. , 1.2, 0.2],\n",
              "       [5.7, 4.4, 1.5, 0.4],\n",
              "       [5.4, 3.9, 1.3, 0.4],\n",
              "       [5.1, 3.5, 1.4, 0.3],\n",
              "       [5.7, 3.8, 1.7, 0.3],\n",
              "       [5.1, 3.8, 1.5, 0.3],\n",
              "       [5.4, 3.4, 1.7, 0.2],\n",
              "       [5.1, 3.7, 1.5, 0.4],\n",
              "       [4.6, 3.6, 1. , 0.2],\n",
              "       [5.1, 3.3, 1.7, 0.5],\n",
              "       [4.8, 3.4, 1.9, 0.2],\n",
              "       [5. , 3. , 1.6, 0.2],\n",
              "       [5. , 3.4, 1.6, 0.4],\n",
              "       [5.2, 3.5, 1.5, 0.2],\n",
              "       [5.2, 3.4, 1.4, 0.2],\n",
              "       [4.7, 3.2, 1.6, 0.2],\n",
              "       [4.8, 3.1, 1.6, 0.2],\n",
              "       [5.4, 3.4, 1.5, 0.4],\n",
              "       [5.2, 4.1, 1.5, 0.1],\n",
              "       [5.5, 4.2, 1.4, 0.2],\n",
              "       [4.9, 3.1, 1.5, 0.2],\n",
              "       [5. , 3.2, 1.2, 0.2],\n",
              "       [5.5, 3.5, 1.3, 0.2],\n",
              "       [4.9, 3.6, 1.4, 0.1],\n",
              "       [4.4, 3. , 1.3, 0.2],\n",
              "       [5.1, 3.4, 1.5, 0.2],\n",
              "       [5. , 3.5, 1.3, 0.3],\n",
              "       [4.5, 2.3, 1.3, 0.3],\n",
              "       [4.4, 3.2, 1.3, 0.2],\n",
              "       [5. , 3.5, 1.6, 0.6],\n",
              "       [5.1, 3.8, 1.9, 0.4],\n",
              "       [4.8, 3. , 1.4, 0.3],\n",
              "       [5.1, 3.8, 1.6, 0.2],\n",
              "       [4.6, 3.2, 1.4, 0.2],\n",
              "       [5.3, 3.7, 1.5, 0.2],\n",
              "       [5. , 3.3, 1.4, 0.2],\n",
              "       [7. , 3.2, 4.7, 1.4],\n",
              "       [6.4, 3.2, 4.5, 1.5],\n",
              "       [6.9, 3.1, 4.9, 1.5],\n",
              "       [5.5, 2.3, 4. , 1.3],\n",
              "       [6.5, 2.8, 4.6, 1.5],\n",
              "       [5.7, 2.8, 4.5, 1.3],\n",
              "       [6.3, 3.3, 4.7, 1.6],\n",
              "       [4.9, 2.4, 3.3, 1. ],\n",
              "       [6.6, 2.9, 4.6, 1.3],\n",
              "       [5.2, 2.7, 3.9, 1.4],\n",
              "       [5. , 2. , 3.5, 1. ],\n",
              "       [5.9, 3. , 4.2, 1.5],\n",
              "       [6. , 2.2, 4. , 1. ],\n",
              "       [6.1, 2.9, 4.7, 1.4],\n",
              "       [5.6, 2.9, 3.6, 1.3],\n",
              "       [6.7, 3.1, 4.4, 1.4],\n",
              "       [5.6, 3. , 4.5, 1.5],\n",
              "       [5.8, 2.7, 4.1, 1. ],\n",
              "       [6.2, 2.2, 4.5, 1.5],\n",
              "       [5.6, 2.5, 3.9, 1.1],\n",
              "       [5.9, 3.2, 4.8, 1.8],\n",
              "       [6.1, 2.8, 4. , 1.3],\n",
              "       [6.3, 2.5, 4.9, 1.5],\n",
              "       [6.1, 2.8, 4.7, 1.2],\n",
              "       [6.4, 2.9, 4.3, 1.3],\n",
              "       [6.6, 3. , 4.4, 1.4],\n",
              "       [6.8, 2.8, 4.8, 1.4],\n",
              "       [6.7, 3. , 5. , 1.7],\n",
              "       [6. , 2.9, 4.5, 1.5],\n",
              "       [5.7, 2.6, 3.5, 1. ],\n",
              "       [5.5, 2.4, 3.8, 1.1],\n",
              "       [5.5, 2.4, 3.7, 1. ],\n",
              "       [5.8, 2.7, 3.9, 1.2],\n",
              "       [6. , 2.7, 5.1, 1.6],\n",
              "       [5.4, 3. , 4.5, 1.5],\n",
              "       [6. , 3.4, 4.5, 1.6],\n",
              "       [6.7, 3.1, 4.7, 1.5],\n",
              "       [6.3, 2.3, 4.4, 1.3],\n",
              "       [5.6, 3. , 4.1, 1.3],\n",
              "       [5.5, 2.5, 4. , 1.3],\n",
              "       [5.5, 2.6, 4.4, 1.2],\n",
              "       [6.1, 3. , 4.6, 1.4],\n",
              "       [5.8, 2.6, 4. , 1.2],\n",
              "       [5. , 2.3, 3.3, 1. ],\n",
              "       [5.6, 2.7, 4.2, 1.3],\n",
              "       [5.7, 3. , 4.2, 1.2],\n",
              "       [5.7, 2.9, 4.2, 1.3],\n",
              "       [6.2, 2.9, 4.3, 1.3],\n",
              "       [5.1, 2.5, 3. , 1.1],\n",
              "       [5.7, 2.8, 4.1, 1.3],\n",
              "       [6.3, 3.3, 6. , 2.5],\n",
              "       [5.8, 2.7, 5.1, 1.9],\n",
              "       [7.1, 3. , 5.9, 2.1],\n",
              "       [6.3, 2.9, 5.6, 1.8],\n",
              "       [6.5, 3. , 5.8, 2.2],\n",
              "       [7.6, 3. , 6.6, 2.1],\n",
              "       [4.9, 2.5, 4.5, 1.7],\n",
              "       [7.3, 2.9, 6.3, 1.8],\n",
              "       [6.7, 2.5, 5.8, 1.8],\n",
              "       [7.2, 3.6, 6.1, 2.5],\n",
              "       [6.5, 3.2, 5.1, 2. ],\n",
              "       [6.4, 2.7, 5.3, 1.9],\n",
              "       [6.8, 3. , 5.5, 2.1],\n",
              "       [5.7, 2.5, 5. , 2. ],\n",
              "       [5.8, 2.8, 5.1, 2.4],\n",
              "       [6.4, 3.2, 5.3, 2.3],\n",
              "       [6.5, 3. , 5.5, 1.8],\n",
              "       [7.7, 3.8, 6.7, 2.2],\n",
              "       [7.7, 2.6, 6.9, 2.3],\n",
              "       [6. , 2.2, 5. , 1.5],\n",
              "       [6.9, 3.2, 5.7, 2.3],\n",
              "       [5.6, 2.8, 4.9, 2. ],\n",
              "       [7.7, 2.8, 6.7, 2. ],\n",
              "       [6.3, 2.7, 4.9, 1.8],\n",
              "       [6.7, 3.3, 5.7, 2.1],\n",
              "       [7.2, 3.2, 6. , 1.8],\n",
              "       [6.2, 2.8, 4.8, 1.8],\n",
              "       [6.1, 3. , 4.9, 1.8],\n",
              "       [6.4, 2.8, 5.6, 2.1],\n",
              "       [7.2, 3. , 5.8, 1.6],\n",
              "       [7.4, 2.8, 6.1, 1.9],\n",
              "       [7.9, 3.8, 6.4, 2. ],\n",
              "       [6.4, 2.8, 5.6, 2.2],\n",
              "       [6.3, 2.8, 5.1, 1.5],\n",
              "       [6.1, 2.6, 5.6, 1.4],\n",
              "       [7.7, 3. , 6.1, 2.3],\n",
              "       [6.3, 3.4, 5.6, 2.4],\n",
              "       [6.4, 3.1, 5.5, 1.8],\n",
              "       [6. , 3. , 4.8, 1.8],\n",
              "       [6.9, 3.1, 5.4, 2.1],\n",
              "       [6.7, 3.1, 5.6, 2.4],\n",
              "       [6.9, 3.1, 5.1, 2.3],\n",
              "       [5.8, 2.7, 5.1, 1.9],\n",
              "       [6.8, 3.2, 5.9, 2.3],\n",
              "       [6.7, 3.3, 5.7, 2.5],\n",
              "       [6.7, 3. , 5.2, 2.3],\n",
              "       [6.3, 2.5, 5. , 1.9],\n",
              "       [6.5, 3. , 5.2, 2. ],\n",
              "       [6.2, 3.4, 5.4, 2.3],\n",
              "       [5.9, 3. , 5.1, 1.8]])"
            ]
          },
          "metadata": {},
          "execution_count": 64
        }
      ]
    },
    {
      "cell_type": "code",
      "source": [
        "iris_data_sp = spark.sparkContext.parallelize(iris_data.data)"
      ],
      "metadata": {
        "id": "wBJRlr-HCbvh"
      },
      "execution_count": null,
      "outputs": []
    },
    {
      "cell_type": "code",
      "source": [
        "iris_data_sp"
      ],
      "metadata": {
        "colab": {
          "base_uri": "https://localhost:8080/"
        },
        "id": "twS805OdCvvS",
        "outputId": "1d0d8099-54ff-4785-cac0-6f10459339dc"
      },
      "execution_count": null,
      "outputs": [
        {
          "output_type": "execute_result",
          "data": {
            "text/plain": [
              "ParallelCollectionRDD[24] at readRDDFromFile at PythonRDD.scala:287"
            ]
          },
          "metadata": {},
          "execution_count": 66
        }
      ]
    },
    {
      "cell_type": "code",
      "source": [
        "## Printing the  lines of data"
      ],
      "metadata": {
        "id": "Puk1p7MaCxi3"
      },
      "execution_count": null,
      "outputs": []
    },
    {
      "cell_type": "code",
      "source": [
        "iris_data_sp.first()"
      ],
      "metadata": {
        "colab": {
          "base_uri": "https://localhost:8080/"
        },
        "id": "gNwi65k_DcSq",
        "outputId": "51ebc2fd-b8bc-408c-fc20-fe9bd8c245f2"
      },
      "execution_count": null,
      "outputs": [
        {
          "output_type": "execute_result",
          "data": {
            "text/plain": [
              "array([5.1, 3.5, 1.4, 0.2])"
            ]
          },
          "metadata": {},
          "execution_count": 68
        }
      ]
    },
    {
      "cell_type": "code",
      "source": [
        "iris_data_sp.collect()"
      ],
      "metadata": {
        "colab": {
          "base_uri": "https://localhost:8080/"
        },
        "id": "HNjGl23bD3Fg",
        "outputId": "ed37264a-d5f3-4d54-c5c1-626bab23ec51"
      },
      "execution_count": null,
      "outputs": [
        {
          "output_type": "execute_result",
          "data": {
            "text/plain": [
              "[array([5.1, 3.5, 1.4, 0.2]),\n",
              " array([4.9, 3. , 1.4, 0.2]),\n",
              " array([4.7, 3.2, 1.3, 0.2]),\n",
              " array([4.6, 3.1, 1.5, 0.2]),\n",
              " array([5. , 3.6, 1.4, 0.2]),\n",
              " array([5.4, 3.9, 1.7, 0.4]),\n",
              " array([4.6, 3.4, 1.4, 0.3]),\n",
              " array([5. , 3.4, 1.5, 0.2]),\n",
              " array([4.4, 2.9, 1.4, 0.2]),\n",
              " array([4.9, 3.1, 1.5, 0.1]),\n",
              " array([5.4, 3.7, 1.5, 0.2]),\n",
              " array([4.8, 3.4, 1.6, 0.2]),\n",
              " array([4.8, 3. , 1.4, 0.1]),\n",
              " array([4.3, 3. , 1.1, 0.1]),\n",
              " array([5.8, 4. , 1.2, 0.2]),\n",
              " array([5.7, 4.4, 1.5, 0.4]),\n",
              " array([5.4, 3.9, 1.3, 0.4]),\n",
              " array([5.1, 3.5, 1.4, 0.3]),\n",
              " array([5.7, 3.8, 1.7, 0.3]),\n",
              " array([5.1, 3.8, 1.5, 0.3]),\n",
              " array([5.4, 3.4, 1.7, 0.2]),\n",
              " array([5.1, 3.7, 1.5, 0.4]),\n",
              " array([4.6, 3.6, 1. , 0.2]),\n",
              " array([5.1, 3.3, 1.7, 0.5]),\n",
              " array([4.8, 3.4, 1.9, 0.2]),\n",
              " array([5. , 3. , 1.6, 0.2]),\n",
              " array([5. , 3.4, 1.6, 0.4]),\n",
              " array([5.2, 3.5, 1.5, 0.2]),\n",
              " array([5.2, 3.4, 1.4, 0.2]),\n",
              " array([4.7, 3.2, 1.6, 0.2]),\n",
              " array([4.8, 3.1, 1.6, 0.2]),\n",
              " array([5.4, 3.4, 1.5, 0.4]),\n",
              " array([5.2, 4.1, 1.5, 0.1]),\n",
              " array([5.5, 4.2, 1.4, 0.2]),\n",
              " array([4.9, 3.1, 1.5, 0.2]),\n",
              " array([5. , 3.2, 1.2, 0.2]),\n",
              " array([5.5, 3.5, 1.3, 0.2]),\n",
              " array([4.9, 3.6, 1.4, 0.1]),\n",
              " array([4.4, 3. , 1.3, 0.2]),\n",
              " array([5.1, 3.4, 1.5, 0.2]),\n",
              " array([5. , 3.5, 1.3, 0.3]),\n",
              " array([4.5, 2.3, 1.3, 0.3]),\n",
              " array([4.4, 3.2, 1.3, 0.2]),\n",
              " array([5. , 3.5, 1.6, 0.6]),\n",
              " array([5.1, 3.8, 1.9, 0.4]),\n",
              " array([4.8, 3. , 1.4, 0.3]),\n",
              " array([5.1, 3.8, 1.6, 0.2]),\n",
              " array([4.6, 3.2, 1.4, 0.2]),\n",
              " array([5.3, 3.7, 1.5, 0.2]),\n",
              " array([5. , 3.3, 1.4, 0.2]),\n",
              " array([7. , 3.2, 4.7, 1.4]),\n",
              " array([6.4, 3.2, 4.5, 1.5]),\n",
              " array([6.9, 3.1, 4.9, 1.5]),\n",
              " array([5.5, 2.3, 4. , 1.3]),\n",
              " array([6.5, 2.8, 4.6, 1.5]),\n",
              " array([5.7, 2.8, 4.5, 1.3]),\n",
              " array([6.3, 3.3, 4.7, 1.6]),\n",
              " array([4.9, 2.4, 3.3, 1. ]),\n",
              " array([6.6, 2.9, 4.6, 1.3]),\n",
              " array([5.2, 2.7, 3.9, 1.4]),\n",
              " array([5. , 2. , 3.5, 1. ]),\n",
              " array([5.9, 3. , 4.2, 1.5]),\n",
              " array([6. , 2.2, 4. , 1. ]),\n",
              " array([6.1, 2.9, 4.7, 1.4]),\n",
              " array([5.6, 2.9, 3.6, 1.3]),\n",
              " array([6.7, 3.1, 4.4, 1.4]),\n",
              " array([5.6, 3. , 4.5, 1.5]),\n",
              " array([5.8, 2.7, 4.1, 1. ]),\n",
              " array([6.2, 2.2, 4.5, 1.5]),\n",
              " array([5.6, 2.5, 3.9, 1.1]),\n",
              " array([5.9, 3.2, 4.8, 1.8]),\n",
              " array([6.1, 2.8, 4. , 1.3]),\n",
              " array([6.3, 2.5, 4.9, 1.5]),\n",
              " array([6.1, 2.8, 4.7, 1.2]),\n",
              " array([6.4, 2.9, 4.3, 1.3]),\n",
              " array([6.6, 3. , 4.4, 1.4]),\n",
              " array([6.8, 2.8, 4.8, 1.4]),\n",
              " array([6.7, 3. , 5. , 1.7]),\n",
              " array([6. , 2.9, 4.5, 1.5]),\n",
              " array([5.7, 2.6, 3.5, 1. ]),\n",
              " array([5.5, 2.4, 3.8, 1.1]),\n",
              " array([5.5, 2.4, 3.7, 1. ]),\n",
              " array([5.8, 2.7, 3.9, 1.2]),\n",
              " array([6. , 2.7, 5.1, 1.6]),\n",
              " array([5.4, 3. , 4.5, 1.5]),\n",
              " array([6. , 3.4, 4.5, 1.6]),\n",
              " array([6.7, 3.1, 4.7, 1.5]),\n",
              " array([6.3, 2.3, 4.4, 1.3]),\n",
              " array([5.6, 3. , 4.1, 1.3]),\n",
              " array([5.5, 2.5, 4. , 1.3]),\n",
              " array([5.5, 2.6, 4.4, 1.2]),\n",
              " array([6.1, 3. , 4.6, 1.4]),\n",
              " array([5.8, 2.6, 4. , 1.2]),\n",
              " array([5. , 2.3, 3.3, 1. ]),\n",
              " array([5.6, 2.7, 4.2, 1.3]),\n",
              " array([5.7, 3. , 4.2, 1.2]),\n",
              " array([5.7, 2.9, 4.2, 1.3]),\n",
              " array([6.2, 2.9, 4.3, 1.3]),\n",
              " array([5.1, 2.5, 3. , 1.1]),\n",
              " array([5.7, 2.8, 4.1, 1.3]),\n",
              " array([6.3, 3.3, 6. , 2.5]),\n",
              " array([5.8, 2.7, 5.1, 1.9]),\n",
              " array([7.1, 3. , 5.9, 2.1]),\n",
              " array([6.3, 2.9, 5.6, 1.8]),\n",
              " array([6.5, 3. , 5.8, 2.2]),\n",
              " array([7.6, 3. , 6.6, 2.1]),\n",
              " array([4.9, 2.5, 4.5, 1.7]),\n",
              " array([7.3, 2.9, 6.3, 1.8]),\n",
              " array([6.7, 2.5, 5.8, 1.8]),\n",
              " array([7.2, 3.6, 6.1, 2.5]),\n",
              " array([6.5, 3.2, 5.1, 2. ]),\n",
              " array([6.4, 2.7, 5.3, 1.9]),\n",
              " array([6.8, 3. , 5.5, 2.1]),\n",
              " array([5.7, 2.5, 5. , 2. ]),\n",
              " array([5.8, 2.8, 5.1, 2.4]),\n",
              " array([6.4, 3.2, 5.3, 2.3]),\n",
              " array([6.5, 3. , 5.5, 1.8]),\n",
              " array([7.7, 3.8, 6.7, 2.2]),\n",
              " array([7.7, 2.6, 6.9, 2.3]),\n",
              " array([6. , 2.2, 5. , 1.5]),\n",
              " array([6.9, 3.2, 5.7, 2.3]),\n",
              " array([5.6, 2.8, 4.9, 2. ]),\n",
              " array([7.7, 2.8, 6.7, 2. ]),\n",
              " array([6.3, 2.7, 4.9, 1.8]),\n",
              " array([6.7, 3.3, 5.7, 2.1]),\n",
              " array([7.2, 3.2, 6. , 1.8]),\n",
              " array([6.2, 2.8, 4.8, 1.8]),\n",
              " array([6.1, 3. , 4.9, 1.8]),\n",
              " array([6.4, 2.8, 5.6, 2.1]),\n",
              " array([7.2, 3. , 5.8, 1.6]),\n",
              " array([7.4, 2.8, 6.1, 1.9]),\n",
              " array([7.9, 3.8, 6.4, 2. ]),\n",
              " array([6.4, 2.8, 5.6, 2.2]),\n",
              " array([6.3, 2.8, 5.1, 1.5]),\n",
              " array([6.1, 2.6, 5.6, 1.4]),\n",
              " array([7.7, 3. , 6.1, 2.3]),\n",
              " array([6.3, 3.4, 5.6, 2.4]),\n",
              " array([6.4, 3.1, 5.5, 1.8]),\n",
              " array([6. , 3. , 4.8, 1.8]),\n",
              " array([6.9, 3.1, 5.4, 2.1]),\n",
              " array([6.7, 3.1, 5.6, 2.4]),\n",
              " array([6.9, 3.1, 5.1, 2.3]),\n",
              " array([5.8, 2.7, 5.1, 1.9]),\n",
              " array([6.8, 3.2, 5.9, 2.3]),\n",
              " array([6.7, 3.3, 5.7, 2.5]),\n",
              " array([6.7, 3. , 5.2, 2.3]),\n",
              " array([6.3, 2.5, 5. , 1.9]),\n",
              " array([6.5, 3. , 5.2, 2. ]),\n",
              " array([6.2, 3.4, 5.4, 2.3]),\n",
              " array([5.9, 3. , 5.1, 1.8])]"
            ]
          },
          "metadata": {},
          "execution_count": 69
        }
      ]
    },
    {
      "cell_type": "code",
      "source": [
        "\n",
        "iris_data_sp.take(20)"
      ],
      "metadata": {
        "colab": {
          "base_uri": "https://localhost:8080/"
        },
        "id": "kfZs6oRNDeLX",
        "outputId": "8d18a7c0-ef09-4718-d656-de9fa5733b58"
      },
      "execution_count": null,
      "outputs": [
        {
          "output_type": "execute_result",
          "data": {
            "text/plain": [
              "[array([5.1, 3.5, 1.4, 0.2]),\n",
              " array([4.9, 3. , 1.4, 0.2]),\n",
              " array([4.7, 3.2, 1.3, 0.2]),\n",
              " array([4.6, 3.1, 1.5, 0.2]),\n",
              " array([5. , 3.6, 1.4, 0.2]),\n",
              " array([5.4, 3.9, 1.7, 0.4]),\n",
              " array([4.6, 3.4, 1.4, 0.3]),\n",
              " array([5. , 3.4, 1.5, 0.2]),\n",
              " array([4.4, 2.9, 1.4, 0.2]),\n",
              " array([4.9, 3.1, 1.5, 0.1]),\n",
              " array([5.4, 3.7, 1.5, 0.2]),\n",
              " array([4.8, 3.4, 1.6, 0.2]),\n",
              " array([4.8, 3. , 1.4, 0.1]),\n",
              " array([4.3, 3. , 1.1, 0.1]),\n",
              " array([5.8, 4. , 1.2, 0.2]),\n",
              " array([5.7, 4.4, 1.5, 0.4]),\n",
              " array([5.4, 3.9, 1.3, 0.4]),\n",
              " array([5.1, 3.5, 1.4, 0.3]),\n",
              " array([5.7, 3.8, 1.7, 0.3]),\n",
              " array([5.1, 3.8, 1.5, 0.3])]"
            ]
          },
          "metadata": {},
          "execution_count": 70
        }
      ]
    },
    {
      "cell_type": "code",
      "source": [
        "# setting the name\n",
        "# default one\n",
        "print(iris_data_sp.name())\n",
        "# setting the name\n",
        "iris_data_sp.setName(\"rdd_delta0\")\n",
        "print(\"after changing the name:\", iris_data_sp.name())"
      ],
      "metadata": {
        "colab": {
          "base_uri": "https://localhost:8080/"
        },
        "id": "56j2Va2wDyTf",
        "outputId": "fc9f5fb5-e499-4d74-d06b-a1a033183d16"
      },
      "execution_count": null,
      "outputs": [
        {
          "output_type": "stream",
          "name": "stdout",
          "text": [
            "None\n",
            "after changing the name: rdd_delta0\n"
          ]
        }
      ]
    },
    {
      "cell_type": "code",
      "source": [],
      "metadata": {
        "id": "Mlq0J1WbE0Vf"
      },
      "execution_count": null,
      "outputs": []
    },
    {
      "cell_type": "code",
      "source": [
        "# saving the file\n",
        "# iris_data_sp.saveAsTextFile(\"iris_sp.csv\")"
      ],
      "metadata": {
        "id": "z4bfu_FUFDGb"
      },
      "execution_count": null,
      "outputs": []
    },
    {
      "cell_type": "code",
      "source": [
        "iris_data_sp"
      ],
      "metadata": {
        "colab": {
          "base_uri": "https://localhost:8080/"
        },
        "id": "TvoDAx5YF5AD",
        "outputId": "c20f7377-d203-45a7-e70e-8045a57b57f0"
      },
      "execution_count": null,
      "outputs": [
        {
          "output_type": "execute_result",
          "data": {
            "text/plain": [
              "rdd_delta0 ParallelCollectionRDD[24] at readRDDFromFile at PythonRDD.scala:287"
            ]
          },
          "metadata": {},
          "execution_count": 73
        }
      ]
    },
    {
      "cell_type": "code",
      "source": [
        "print(iris_data_sp.collect())"
      ],
      "metadata": {
        "id": "AHnkNX6uHFq4",
        "colab": {
          "base_uri": "https://localhost:8080/"
        },
        "outputId": "dbe47c69-fdac-4cf3-80a2-95b60beb8c73"
      },
      "execution_count": null,
      "outputs": [
        {
          "output_type": "stream",
          "name": "stdout",
          "text": [
            "[array([5.1, 3.5, 1.4, 0.2]), array([4.9, 3. , 1.4, 0.2]), array([4.7, 3.2, 1.3, 0.2]), array([4.6, 3.1, 1.5, 0.2]), array([5. , 3.6, 1.4, 0.2]), array([5.4, 3.9, 1.7, 0.4]), array([4.6, 3.4, 1.4, 0.3]), array([5. , 3.4, 1.5, 0.2]), array([4.4, 2.9, 1.4, 0.2]), array([4.9, 3.1, 1.5, 0.1]), array([5.4, 3.7, 1.5, 0.2]), array([4.8, 3.4, 1.6, 0.2]), array([4.8, 3. , 1.4, 0.1]), array([4.3, 3. , 1.1, 0.1]), array([5.8, 4. , 1.2, 0.2]), array([5.7, 4.4, 1.5, 0.4]), array([5.4, 3.9, 1.3, 0.4]), array([5.1, 3.5, 1.4, 0.3]), array([5.7, 3.8, 1.7, 0.3]), array([5.1, 3.8, 1.5, 0.3]), array([5.4, 3.4, 1.7, 0.2]), array([5.1, 3.7, 1.5, 0.4]), array([4.6, 3.6, 1. , 0.2]), array([5.1, 3.3, 1.7, 0.5]), array([4.8, 3.4, 1.9, 0.2]), array([5. , 3. , 1.6, 0.2]), array([5. , 3.4, 1.6, 0.4]), array([5.2, 3.5, 1.5, 0.2]), array([5.2, 3.4, 1.4, 0.2]), array([4.7, 3.2, 1.6, 0.2]), array([4.8, 3.1, 1.6, 0.2]), array([5.4, 3.4, 1.5, 0.4]), array([5.2, 4.1, 1.5, 0.1]), array([5.5, 4.2, 1.4, 0.2]), array([4.9, 3.1, 1.5, 0.2]), array([5. , 3.2, 1.2, 0.2]), array([5.5, 3.5, 1.3, 0.2]), array([4.9, 3.6, 1.4, 0.1]), array([4.4, 3. , 1.3, 0.2]), array([5.1, 3.4, 1.5, 0.2]), array([5. , 3.5, 1.3, 0.3]), array([4.5, 2.3, 1.3, 0.3]), array([4.4, 3.2, 1.3, 0.2]), array([5. , 3.5, 1.6, 0.6]), array([5.1, 3.8, 1.9, 0.4]), array([4.8, 3. , 1.4, 0.3]), array([5.1, 3.8, 1.6, 0.2]), array([4.6, 3.2, 1.4, 0.2]), array([5.3, 3.7, 1.5, 0.2]), array([5. , 3.3, 1.4, 0.2]), array([7. , 3.2, 4.7, 1.4]), array([6.4, 3.2, 4.5, 1.5]), array([6.9, 3.1, 4.9, 1.5]), array([5.5, 2.3, 4. , 1.3]), array([6.5, 2.8, 4.6, 1.5]), array([5.7, 2.8, 4.5, 1.3]), array([6.3, 3.3, 4.7, 1.6]), array([4.9, 2.4, 3.3, 1. ]), array([6.6, 2.9, 4.6, 1.3]), array([5.2, 2.7, 3.9, 1.4]), array([5. , 2. , 3.5, 1. ]), array([5.9, 3. , 4.2, 1.5]), array([6. , 2.2, 4. , 1. ]), array([6.1, 2.9, 4.7, 1.4]), array([5.6, 2.9, 3.6, 1.3]), array([6.7, 3.1, 4.4, 1.4]), array([5.6, 3. , 4.5, 1.5]), array([5.8, 2.7, 4.1, 1. ]), array([6.2, 2.2, 4.5, 1.5]), array([5.6, 2.5, 3.9, 1.1]), array([5.9, 3.2, 4.8, 1.8]), array([6.1, 2.8, 4. , 1.3]), array([6.3, 2.5, 4.9, 1.5]), array([6.1, 2.8, 4.7, 1.2]), array([6.4, 2.9, 4.3, 1.3]), array([6.6, 3. , 4.4, 1.4]), array([6.8, 2.8, 4.8, 1.4]), array([6.7, 3. , 5. , 1.7]), array([6. , 2.9, 4.5, 1.5]), array([5.7, 2.6, 3.5, 1. ]), array([5.5, 2.4, 3.8, 1.1]), array([5.5, 2.4, 3.7, 1. ]), array([5.8, 2.7, 3.9, 1.2]), array([6. , 2.7, 5.1, 1.6]), array([5.4, 3. , 4.5, 1.5]), array([6. , 3.4, 4.5, 1.6]), array([6.7, 3.1, 4.7, 1.5]), array([6.3, 2.3, 4.4, 1.3]), array([5.6, 3. , 4.1, 1.3]), array([5.5, 2.5, 4. , 1.3]), array([5.5, 2.6, 4.4, 1.2]), array([6.1, 3. , 4.6, 1.4]), array([5.8, 2.6, 4. , 1.2]), array([5. , 2.3, 3.3, 1. ]), array([5.6, 2.7, 4.2, 1.3]), array([5.7, 3. , 4.2, 1.2]), array([5.7, 2.9, 4.2, 1.3]), array([6.2, 2.9, 4.3, 1.3]), array([5.1, 2.5, 3. , 1.1]), array([5.7, 2.8, 4.1, 1.3]), array([6.3, 3.3, 6. , 2.5]), array([5.8, 2.7, 5.1, 1.9]), array([7.1, 3. , 5.9, 2.1]), array([6.3, 2.9, 5.6, 1.8]), array([6.5, 3. , 5.8, 2.2]), array([7.6, 3. , 6.6, 2.1]), array([4.9, 2.5, 4.5, 1.7]), array([7.3, 2.9, 6.3, 1.8]), array([6.7, 2.5, 5.8, 1.8]), array([7.2, 3.6, 6.1, 2.5]), array([6.5, 3.2, 5.1, 2. ]), array([6.4, 2.7, 5.3, 1.9]), array([6.8, 3. , 5.5, 2.1]), array([5.7, 2.5, 5. , 2. ]), array([5.8, 2.8, 5.1, 2.4]), array([6.4, 3.2, 5.3, 2.3]), array([6.5, 3. , 5.5, 1.8]), array([7.7, 3.8, 6.7, 2.2]), array([7.7, 2.6, 6.9, 2.3]), array([6. , 2.2, 5. , 1.5]), array([6.9, 3.2, 5.7, 2.3]), array([5.6, 2.8, 4.9, 2. ]), array([7.7, 2.8, 6.7, 2. ]), array([6.3, 2.7, 4.9, 1.8]), array([6.7, 3.3, 5.7, 2.1]), array([7.2, 3.2, 6. , 1.8]), array([6.2, 2.8, 4.8, 1.8]), array([6.1, 3. , 4.9, 1.8]), array([6.4, 2.8, 5.6, 2.1]), array([7.2, 3. , 5.8, 1.6]), array([7.4, 2.8, 6.1, 1.9]), array([7.9, 3.8, 6.4, 2. ]), array([6.4, 2.8, 5.6, 2.2]), array([6.3, 2.8, 5.1, 1.5]), array([6.1, 2.6, 5.6, 1.4]), array([7.7, 3. , 6.1, 2.3]), array([6.3, 3.4, 5.6, 2.4]), array([6.4, 3.1, 5.5, 1.8]), array([6. , 3. , 4.8, 1.8]), array([6.9, 3.1, 5.4, 2.1]), array([6.7, 3.1, 5.6, 2.4]), array([6.9, 3.1, 5.1, 2.3]), array([5.8, 2.7, 5.1, 1.9]), array([6.8, 3.2, 5.9, 2.3]), array([6.7, 3.3, 5.7, 2.5]), array([6.7, 3. , 5.2, 2.3]), array([6.3, 2.5, 5. , 1.9]), array([6.5, 3. , 5.2, 2. ]), array([6.2, 3.4, 5.4, 2.3]), array([5.9, 3. , 5.1, 1.8])]\n"
          ]
        }
      ]
    },
    {
      "cell_type": "code",
      "source": [],
      "metadata": {
        "id": "wjx4nmGceMOP"
      },
      "execution_count": null,
      "outputs": []
    },
    {
      "cell_type": "code",
      "source": [
        "# getting the data from the load_iris in much suitable manner\n",
        "from sklearn.datasets import load_iris\n",
        "iris_data = load_iris()\n",
        "import pandas as pd"
      ],
      "metadata": {
        "id": "-08DmnkyeebJ"
      },
      "execution_count": null,
      "outputs": []
    },
    {
      "cell_type": "code",
      "source": [
        "type(iris_data)"
      ],
      "metadata": {
        "colab": {
          "base_uri": "https://localhost:8080/"
        },
        "id": "3evVH8o-eeI6",
        "outputId": "e65faa46-5bd2-4098-b485-13b36b0e0391"
      },
      "execution_count": null,
      "outputs": [
        {
          "output_type": "execute_result",
          "data": {
            "text/plain": [
              "sklearn.utils._bunch.Bunch"
            ]
          },
          "metadata": {},
          "execution_count": 76
        }
      ]
    },
    {
      "cell_type": "code",
      "source": [
        "iris_data"
      ],
      "metadata": {
        "colab": {
          "base_uri": "https://localhost:8080/"
        },
        "id": "f_76GW55eeGM",
        "outputId": "b26abe3b-201b-4995-a643-53e46e2fcaec"
      },
      "execution_count": null,
      "outputs": [
        {
          "output_type": "execute_result",
          "data": {
            "text/plain": [
              "{'data': array([[5.1, 3.5, 1.4, 0.2],\n",
              "        [4.9, 3. , 1.4, 0.2],\n",
              "        [4.7, 3.2, 1.3, 0.2],\n",
              "        [4.6, 3.1, 1.5, 0.2],\n",
              "        [5. , 3.6, 1.4, 0.2],\n",
              "        [5.4, 3.9, 1.7, 0.4],\n",
              "        [4.6, 3.4, 1.4, 0.3],\n",
              "        [5. , 3.4, 1.5, 0.2],\n",
              "        [4.4, 2.9, 1.4, 0.2],\n",
              "        [4.9, 3.1, 1.5, 0.1],\n",
              "        [5.4, 3.7, 1.5, 0.2],\n",
              "        [4.8, 3.4, 1.6, 0.2],\n",
              "        [4.8, 3. , 1.4, 0.1],\n",
              "        [4.3, 3. , 1.1, 0.1],\n",
              "        [5.8, 4. , 1.2, 0.2],\n",
              "        [5.7, 4.4, 1.5, 0.4],\n",
              "        [5.4, 3.9, 1.3, 0.4],\n",
              "        [5.1, 3.5, 1.4, 0.3],\n",
              "        [5.7, 3.8, 1.7, 0.3],\n",
              "        [5.1, 3.8, 1.5, 0.3],\n",
              "        [5.4, 3.4, 1.7, 0.2],\n",
              "        [5.1, 3.7, 1.5, 0.4],\n",
              "        [4.6, 3.6, 1. , 0.2],\n",
              "        [5.1, 3.3, 1.7, 0.5],\n",
              "        [4.8, 3.4, 1.9, 0.2],\n",
              "        [5. , 3. , 1.6, 0.2],\n",
              "        [5. , 3.4, 1.6, 0.4],\n",
              "        [5.2, 3.5, 1.5, 0.2],\n",
              "        [5.2, 3.4, 1.4, 0.2],\n",
              "        [4.7, 3.2, 1.6, 0.2],\n",
              "        [4.8, 3.1, 1.6, 0.2],\n",
              "        [5.4, 3.4, 1.5, 0.4],\n",
              "        [5.2, 4.1, 1.5, 0.1],\n",
              "        [5.5, 4.2, 1.4, 0.2],\n",
              "        [4.9, 3.1, 1.5, 0.2],\n",
              "        [5. , 3.2, 1.2, 0.2],\n",
              "        [5.5, 3.5, 1.3, 0.2],\n",
              "        [4.9, 3.6, 1.4, 0.1],\n",
              "        [4.4, 3. , 1.3, 0.2],\n",
              "        [5.1, 3.4, 1.5, 0.2],\n",
              "        [5. , 3.5, 1.3, 0.3],\n",
              "        [4.5, 2.3, 1.3, 0.3],\n",
              "        [4.4, 3.2, 1.3, 0.2],\n",
              "        [5. , 3.5, 1.6, 0.6],\n",
              "        [5.1, 3.8, 1.9, 0.4],\n",
              "        [4.8, 3. , 1.4, 0.3],\n",
              "        [5.1, 3.8, 1.6, 0.2],\n",
              "        [4.6, 3.2, 1.4, 0.2],\n",
              "        [5.3, 3.7, 1.5, 0.2],\n",
              "        [5. , 3.3, 1.4, 0.2],\n",
              "        [7. , 3.2, 4.7, 1.4],\n",
              "        [6.4, 3.2, 4.5, 1.5],\n",
              "        [6.9, 3.1, 4.9, 1.5],\n",
              "        [5.5, 2.3, 4. , 1.3],\n",
              "        [6.5, 2.8, 4.6, 1.5],\n",
              "        [5.7, 2.8, 4.5, 1.3],\n",
              "        [6.3, 3.3, 4.7, 1.6],\n",
              "        [4.9, 2.4, 3.3, 1. ],\n",
              "        [6.6, 2.9, 4.6, 1.3],\n",
              "        [5.2, 2.7, 3.9, 1.4],\n",
              "        [5. , 2. , 3.5, 1. ],\n",
              "        [5.9, 3. , 4.2, 1.5],\n",
              "        [6. , 2.2, 4. , 1. ],\n",
              "        [6.1, 2.9, 4.7, 1.4],\n",
              "        [5.6, 2.9, 3.6, 1.3],\n",
              "        [6.7, 3.1, 4.4, 1.4],\n",
              "        [5.6, 3. , 4.5, 1.5],\n",
              "        [5.8, 2.7, 4.1, 1. ],\n",
              "        [6.2, 2.2, 4.5, 1.5],\n",
              "        [5.6, 2.5, 3.9, 1.1],\n",
              "        [5.9, 3.2, 4.8, 1.8],\n",
              "        [6.1, 2.8, 4. , 1.3],\n",
              "        [6.3, 2.5, 4.9, 1.5],\n",
              "        [6.1, 2.8, 4.7, 1.2],\n",
              "        [6.4, 2.9, 4.3, 1.3],\n",
              "        [6.6, 3. , 4.4, 1.4],\n",
              "        [6.8, 2.8, 4.8, 1.4],\n",
              "        [6.7, 3. , 5. , 1.7],\n",
              "        [6. , 2.9, 4.5, 1.5],\n",
              "        [5.7, 2.6, 3.5, 1. ],\n",
              "        [5.5, 2.4, 3.8, 1.1],\n",
              "        [5.5, 2.4, 3.7, 1. ],\n",
              "        [5.8, 2.7, 3.9, 1.2],\n",
              "        [6. , 2.7, 5.1, 1.6],\n",
              "        [5.4, 3. , 4.5, 1.5],\n",
              "        [6. , 3.4, 4.5, 1.6],\n",
              "        [6.7, 3.1, 4.7, 1.5],\n",
              "        [6.3, 2.3, 4.4, 1.3],\n",
              "        [5.6, 3. , 4.1, 1.3],\n",
              "        [5.5, 2.5, 4. , 1.3],\n",
              "        [5.5, 2.6, 4.4, 1.2],\n",
              "        [6.1, 3. , 4.6, 1.4],\n",
              "        [5.8, 2.6, 4. , 1.2],\n",
              "        [5. , 2.3, 3.3, 1. ],\n",
              "        [5.6, 2.7, 4.2, 1.3],\n",
              "        [5.7, 3. , 4.2, 1.2],\n",
              "        [5.7, 2.9, 4.2, 1.3],\n",
              "        [6.2, 2.9, 4.3, 1.3],\n",
              "        [5.1, 2.5, 3. , 1.1],\n",
              "        [5.7, 2.8, 4.1, 1.3],\n",
              "        [6.3, 3.3, 6. , 2.5],\n",
              "        [5.8, 2.7, 5.1, 1.9],\n",
              "        [7.1, 3. , 5.9, 2.1],\n",
              "        [6.3, 2.9, 5.6, 1.8],\n",
              "        [6.5, 3. , 5.8, 2.2],\n",
              "        [7.6, 3. , 6.6, 2.1],\n",
              "        [4.9, 2.5, 4.5, 1.7],\n",
              "        [7.3, 2.9, 6.3, 1.8],\n",
              "        [6.7, 2.5, 5.8, 1.8],\n",
              "        [7.2, 3.6, 6.1, 2.5],\n",
              "        [6.5, 3.2, 5.1, 2. ],\n",
              "        [6.4, 2.7, 5.3, 1.9],\n",
              "        [6.8, 3. , 5.5, 2.1],\n",
              "        [5.7, 2.5, 5. , 2. ],\n",
              "        [5.8, 2.8, 5.1, 2.4],\n",
              "        [6.4, 3.2, 5.3, 2.3],\n",
              "        [6.5, 3. , 5.5, 1.8],\n",
              "        [7.7, 3.8, 6.7, 2.2],\n",
              "        [7.7, 2.6, 6.9, 2.3],\n",
              "        [6. , 2.2, 5. , 1.5],\n",
              "        [6.9, 3.2, 5.7, 2.3],\n",
              "        [5.6, 2.8, 4.9, 2. ],\n",
              "        [7.7, 2.8, 6.7, 2. ],\n",
              "        [6.3, 2.7, 4.9, 1.8],\n",
              "        [6.7, 3.3, 5.7, 2.1],\n",
              "        [7.2, 3.2, 6. , 1.8],\n",
              "        [6.2, 2.8, 4.8, 1.8],\n",
              "        [6.1, 3. , 4.9, 1.8],\n",
              "        [6.4, 2.8, 5.6, 2.1],\n",
              "        [7.2, 3. , 5.8, 1.6],\n",
              "        [7.4, 2.8, 6.1, 1.9],\n",
              "        [7.9, 3.8, 6.4, 2. ],\n",
              "        [6.4, 2.8, 5.6, 2.2],\n",
              "        [6.3, 2.8, 5.1, 1.5],\n",
              "        [6.1, 2.6, 5.6, 1.4],\n",
              "        [7.7, 3. , 6.1, 2.3],\n",
              "        [6.3, 3.4, 5.6, 2.4],\n",
              "        [6.4, 3.1, 5.5, 1.8],\n",
              "        [6. , 3. , 4.8, 1.8],\n",
              "        [6.9, 3.1, 5.4, 2.1],\n",
              "        [6.7, 3.1, 5.6, 2.4],\n",
              "        [6.9, 3.1, 5.1, 2.3],\n",
              "        [5.8, 2.7, 5.1, 1.9],\n",
              "        [6.8, 3.2, 5.9, 2.3],\n",
              "        [6.7, 3.3, 5.7, 2.5],\n",
              "        [6.7, 3. , 5.2, 2.3],\n",
              "        [6.3, 2.5, 5. , 1.9],\n",
              "        [6.5, 3. , 5.2, 2. ],\n",
              "        [6.2, 3.4, 5.4, 2.3],\n",
              "        [5.9, 3. , 5.1, 1.8]]),\n",
              " 'target': array([0, 0, 0, 0, 0, 0, 0, 0, 0, 0, 0, 0, 0, 0, 0, 0, 0, 0, 0, 0, 0, 0,\n",
              "        0, 0, 0, 0, 0, 0, 0, 0, 0, 0, 0, 0, 0, 0, 0, 0, 0, 0, 0, 0, 0, 0,\n",
              "        0, 0, 0, 0, 0, 0, 1, 1, 1, 1, 1, 1, 1, 1, 1, 1, 1, 1, 1, 1, 1, 1,\n",
              "        1, 1, 1, 1, 1, 1, 1, 1, 1, 1, 1, 1, 1, 1, 1, 1, 1, 1, 1, 1, 1, 1,\n",
              "        1, 1, 1, 1, 1, 1, 1, 1, 1, 1, 1, 1, 2, 2, 2, 2, 2, 2, 2, 2, 2, 2,\n",
              "        2, 2, 2, 2, 2, 2, 2, 2, 2, 2, 2, 2, 2, 2, 2, 2, 2, 2, 2, 2, 2, 2,\n",
              "        2, 2, 2, 2, 2, 2, 2, 2, 2, 2, 2, 2, 2, 2, 2, 2, 2, 2]),\n",
              " 'frame': None,\n",
              " 'target_names': array(['setosa', 'versicolor', 'virginica'], dtype='<U10'),\n",
              " 'DESCR': '.. _iris_dataset:\\n\\nIris plants dataset\\n--------------------\\n\\n**Data Set Characteristics:**\\n\\n    :Number of Instances: 150 (50 in each of three classes)\\n    :Number of Attributes: 4 numeric, predictive attributes and the class\\n    :Attribute Information:\\n        - sepal length in cm\\n        - sepal width in cm\\n        - petal length in cm\\n        - petal width in cm\\n        - class:\\n                - Iris-Setosa\\n                - Iris-Versicolour\\n                - Iris-Virginica\\n                \\n    :Summary Statistics:\\n\\n    ============== ==== ==== ======= ===== ====================\\n                    Min  Max   Mean    SD   Class Correlation\\n    ============== ==== ==== ======= ===== ====================\\n    sepal length:   4.3  7.9   5.84   0.83    0.7826\\n    sepal width:    2.0  4.4   3.05   0.43   -0.4194\\n    petal length:   1.0  6.9   3.76   1.76    0.9490  (high!)\\n    petal width:    0.1  2.5   1.20   0.76    0.9565  (high!)\\n    ============== ==== ==== ======= ===== ====================\\n\\n    :Missing Attribute Values: None\\n    :Class Distribution: 33.3% for each of 3 classes.\\n    :Creator: R.A. Fisher\\n    :Donor: Michael Marshall (MARSHALL%PLU@io.arc.nasa.gov)\\n    :Date: July, 1988\\n\\nThe famous Iris database, first used by Sir R.A. Fisher. The dataset is taken\\nfrom Fisher\\'s paper. Note that it\\'s the same as in R, but not as in the UCI\\nMachine Learning Repository, which has two wrong data points.\\n\\nThis is perhaps the best known database to be found in the\\npattern recognition literature.  Fisher\\'s paper is a classic in the field and\\nis referenced frequently to this day.  (See Duda & Hart, for example.)  The\\ndata set contains 3 classes of 50 instances each, where each class refers to a\\ntype of iris plant.  One class is linearly separable from the other 2; the\\nlatter are NOT linearly separable from each other.\\n\\n.. topic:: References\\n\\n   - Fisher, R.A. \"The use of multiple measurements in taxonomic problems\"\\n     Annual Eugenics, 7, Part II, 179-188 (1936); also in \"Contributions to\\n     Mathematical Statistics\" (John Wiley, NY, 1950).\\n   - Duda, R.O., & Hart, P.E. (1973) Pattern Classification and Scene Analysis.\\n     (Q327.D83) John Wiley & Sons.  ISBN 0-471-22361-1.  See page 218.\\n   - Dasarathy, B.V. (1980) \"Nosing Around the Neighborhood: A New System\\n     Structure and Classification Rule for Recognition in Partially Exposed\\n     Environments\".  IEEE Transactions on Pattern Analysis and Machine\\n     Intelligence, Vol. PAMI-2, No. 1, 67-71.\\n   - Gates, G.W. (1972) \"The Reduced Nearest Neighbor Rule\".  IEEE Transactions\\n     on Information Theory, May 1972, 431-433.\\n   - See also: 1988 MLC Proceedings, 54-64.  Cheeseman et al\"s AUTOCLASS II\\n     conceptual clustering system finds 3 classes in the data.\\n   - Many, many more ...',\n",
              " 'feature_names': ['sepal length (cm)',\n",
              "  'sepal width (cm)',\n",
              "  'petal length (cm)',\n",
              "  'petal width (cm)'],\n",
              " 'filename': 'iris.csv',\n",
              " 'data_module': 'sklearn.datasets.data'}"
            ]
          },
          "metadata": {},
          "execution_count": 77
        }
      ]
    },
    {
      "cell_type": "code",
      "source": [
        "import numpy as np"
      ],
      "metadata": {
        "id": "P1bKruzOwoNa"
      },
      "execution_count": null,
      "outputs": []
    },
    {
      "cell_type": "code",
      "source": [
        "iris_data_df = pd.DataFrame(np.c_[iris_data['data'], iris_data['target']], columns=iris_data['feature_names']+['className'])"
      ],
      "metadata": {
        "id": "fXEwC0f2eeEG"
      },
      "execution_count": null,
      "outputs": []
    },
    {
      "cell_type": "code",
      "source": [
        "iris_data_df"
      ],
      "metadata": {
        "colab": {
          "base_uri": "https://localhost:8080/",
          "height": 424
        },
        "id": "C8Fi5gKMeeB8",
        "outputId": "a8b669e8-a0e3-46cc-d3b3-5d5c34246ba0"
      },
      "execution_count": null,
      "outputs": [
        {
          "output_type": "execute_result",
          "data": {
            "text/plain": [
              "     sepal length (cm)  sepal width (cm)  petal length (cm)  petal width (cm)  \\\n",
              "0                  5.1               3.5                1.4               0.2   \n",
              "1                  4.9               3.0                1.4               0.2   \n",
              "2                  4.7               3.2                1.3               0.2   \n",
              "3                  4.6               3.1                1.5               0.2   \n",
              "4                  5.0               3.6                1.4               0.2   \n",
              "..                 ...               ...                ...               ...   \n",
              "145                6.7               3.0                5.2               2.3   \n",
              "146                6.3               2.5                5.0               1.9   \n",
              "147                6.5               3.0                5.2               2.0   \n",
              "148                6.2               3.4                5.4               2.3   \n",
              "149                5.9               3.0                5.1               1.8   \n",
              "\n",
              "     className  \n",
              "0          0.0  \n",
              "1          0.0  \n",
              "2          0.0  \n",
              "3          0.0  \n",
              "4          0.0  \n",
              "..         ...  \n",
              "145        2.0  \n",
              "146        2.0  \n",
              "147        2.0  \n",
              "148        2.0  \n",
              "149        2.0  \n",
              "\n",
              "[150 rows x 5 columns]"
            ],
            "text/html": [
              "\n",
              "  <div id=\"df-46f4d2cf-bd8c-4001-95c8-56936761a35f\">\n",
              "    <div class=\"colab-df-container\">\n",
              "      <div>\n",
              "<style scoped>\n",
              "    .dataframe tbody tr th:only-of-type {\n",
              "        vertical-align: middle;\n",
              "    }\n",
              "\n",
              "    .dataframe tbody tr th {\n",
              "        vertical-align: top;\n",
              "    }\n",
              "\n",
              "    .dataframe thead th {\n",
              "        text-align: right;\n",
              "    }\n",
              "</style>\n",
              "<table border=\"1\" class=\"dataframe\">\n",
              "  <thead>\n",
              "    <tr style=\"text-align: right;\">\n",
              "      <th></th>\n",
              "      <th>sepal length (cm)</th>\n",
              "      <th>sepal width (cm)</th>\n",
              "      <th>petal length (cm)</th>\n",
              "      <th>petal width (cm)</th>\n",
              "      <th>className</th>\n",
              "    </tr>\n",
              "  </thead>\n",
              "  <tbody>\n",
              "    <tr>\n",
              "      <th>0</th>\n",
              "      <td>5.1</td>\n",
              "      <td>3.5</td>\n",
              "      <td>1.4</td>\n",
              "      <td>0.2</td>\n",
              "      <td>0.0</td>\n",
              "    </tr>\n",
              "    <tr>\n",
              "      <th>1</th>\n",
              "      <td>4.9</td>\n",
              "      <td>3.0</td>\n",
              "      <td>1.4</td>\n",
              "      <td>0.2</td>\n",
              "      <td>0.0</td>\n",
              "    </tr>\n",
              "    <tr>\n",
              "      <th>2</th>\n",
              "      <td>4.7</td>\n",
              "      <td>3.2</td>\n",
              "      <td>1.3</td>\n",
              "      <td>0.2</td>\n",
              "      <td>0.0</td>\n",
              "    </tr>\n",
              "    <tr>\n",
              "      <th>3</th>\n",
              "      <td>4.6</td>\n",
              "      <td>3.1</td>\n",
              "      <td>1.5</td>\n",
              "      <td>0.2</td>\n",
              "      <td>0.0</td>\n",
              "    </tr>\n",
              "    <tr>\n",
              "      <th>4</th>\n",
              "      <td>5.0</td>\n",
              "      <td>3.6</td>\n",
              "      <td>1.4</td>\n",
              "      <td>0.2</td>\n",
              "      <td>0.0</td>\n",
              "    </tr>\n",
              "    <tr>\n",
              "      <th>...</th>\n",
              "      <td>...</td>\n",
              "      <td>...</td>\n",
              "      <td>...</td>\n",
              "      <td>...</td>\n",
              "      <td>...</td>\n",
              "    </tr>\n",
              "    <tr>\n",
              "      <th>145</th>\n",
              "      <td>6.7</td>\n",
              "      <td>3.0</td>\n",
              "      <td>5.2</td>\n",
              "      <td>2.3</td>\n",
              "      <td>2.0</td>\n",
              "    </tr>\n",
              "    <tr>\n",
              "      <th>146</th>\n",
              "      <td>6.3</td>\n",
              "      <td>2.5</td>\n",
              "      <td>5.0</td>\n",
              "      <td>1.9</td>\n",
              "      <td>2.0</td>\n",
              "    </tr>\n",
              "    <tr>\n",
              "      <th>147</th>\n",
              "      <td>6.5</td>\n",
              "      <td>3.0</td>\n",
              "      <td>5.2</td>\n",
              "      <td>2.0</td>\n",
              "      <td>2.0</td>\n",
              "    </tr>\n",
              "    <tr>\n",
              "      <th>148</th>\n",
              "      <td>6.2</td>\n",
              "      <td>3.4</td>\n",
              "      <td>5.4</td>\n",
              "      <td>2.3</td>\n",
              "      <td>2.0</td>\n",
              "    </tr>\n",
              "    <tr>\n",
              "      <th>149</th>\n",
              "      <td>5.9</td>\n",
              "      <td>3.0</td>\n",
              "      <td>5.1</td>\n",
              "      <td>1.8</td>\n",
              "      <td>2.0</td>\n",
              "    </tr>\n",
              "  </tbody>\n",
              "</table>\n",
              "<p>150 rows × 5 columns</p>\n",
              "</div>\n",
              "      <button class=\"colab-df-convert\" onclick=\"convertToInteractive('df-46f4d2cf-bd8c-4001-95c8-56936761a35f')\"\n",
              "              title=\"Convert this dataframe to an interactive table.\"\n",
              "              style=\"display:none;\">\n",
              "        \n",
              "  <svg xmlns=\"http://www.w3.org/2000/svg\" height=\"24px\"viewBox=\"0 0 24 24\"\n",
              "       width=\"24px\">\n",
              "    <path d=\"M0 0h24v24H0V0z\" fill=\"none\"/>\n",
              "    <path d=\"M18.56 5.44l.94 2.06.94-2.06 2.06-.94-2.06-.94-.94-2.06-.94 2.06-2.06.94zm-11 1L8.5 8.5l.94-2.06 2.06-.94-2.06-.94L8.5 2.5l-.94 2.06-2.06.94zm10 10l.94 2.06.94-2.06 2.06-.94-2.06-.94-.94-2.06-.94 2.06-2.06.94z\"/><path d=\"M17.41 7.96l-1.37-1.37c-.4-.4-.92-.59-1.43-.59-.52 0-1.04.2-1.43.59L10.3 9.45l-7.72 7.72c-.78.78-.78 2.05 0 2.83L4 21.41c.39.39.9.59 1.41.59.51 0 1.02-.2 1.41-.59l7.78-7.78 2.81-2.81c.8-.78.8-2.07 0-2.86zM5.41 20L4 18.59l7.72-7.72 1.47 1.35L5.41 20z\"/>\n",
              "  </svg>\n",
              "      </button>\n",
              "      \n",
              "  <style>\n",
              "    .colab-df-container {\n",
              "      display:flex;\n",
              "      flex-wrap:wrap;\n",
              "      gap: 12px;\n",
              "    }\n",
              "\n",
              "    .colab-df-convert {\n",
              "      background-color: #E8F0FE;\n",
              "      border: none;\n",
              "      border-radius: 50%;\n",
              "      cursor: pointer;\n",
              "      display: none;\n",
              "      fill: #1967D2;\n",
              "      height: 32px;\n",
              "      padding: 0 0 0 0;\n",
              "      width: 32px;\n",
              "    }\n",
              "\n",
              "    .colab-df-convert:hover {\n",
              "      background-color: #E2EBFA;\n",
              "      box-shadow: 0px 1px 2px rgba(60, 64, 67, 0.3), 0px 1px 3px 1px rgba(60, 64, 67, 0.15);\n",
              "      fill: #174EA6;\n",
              "    }\n",
              "\n",
              "    [theme=dark] .colab-df-convert {\n",
              "      background-color: #3B4455;\n",
              "      fill: #D2E3FC;\n",
              "    }\n",
              "\n",
              "    [theme=dark] .colab-df-convert:hover {\n",
              "      background-color: #434B5C;\n",
              "      box-shadow: 0px 1px 3px 1px rgba(0, 0, 0, 0.15);\n",
              "      filter: drop-shadow(0px 1px 2px rgba(0, 0, 0, 0.3));\n",
              "      fill: #FFFFFF;\n",
              "    }\n",
              "  </style>\n",
              "\n",
              "      <script>\n",
              "        const buttonEl =\n",
              "          document.querySelector('#df-46f4d2cf-bd8c-4001-95c8-56936761a35f button.colab-df-convert');\n",
              "        buttonEl.style.display =\n",
              "          google.colab.kernel.accessAllowed ? 'block' : 'none';\n",
              "\n",
              "        async function convertToInteractive(key) {\n",
              "          const element = document.querySelector('#df-46f4d2cf-bd8c-4001-95c8-56936761a35f');\n",
              "          const dataTable =\n",
              "            await google.colab.kernel.invokeFunction('convertToInteractive',\n",
              "                                                     [key], {});\n",
              "          if (!dataTable) return;\n",
              "\n",
              "          const docLinkHtml = 'Like what you see? Visit the ' +\n",
              "            '<a target=\"_blank\" href=https://colab.research.google.com/notebooks/data_table.ipynb>data table notebook</a>'\n",
              "            + ' to learn more about interactive tables.';\n",
              "          element.innerHTML = '';\n",
              "          dataTable['output_type'] = 'display_data';\n",
              "          await google.colab.output.renderOutput(dataTable, element);\n",
              "          const docLink = document.createElement('div');\n",
              "          docLink.innerHTML = docLinkHtml;\n",
              "          element.appendChild(docLink);\n",
              "        }\n",
              "      </script>\n",
              "    </div>\n",
              "  </div>\n",
              "  "
            ]
          },
          "metadata": {},
          "execution_count": 86
        }
      ]
    },
    {
      "cell_type": "code",
      "source": [
        "# applying transformation\n",
        "iris_data_df['className'] = iris_data_df['className'].apply(lambda x: iris_data['target'][int(x)])"
      ],
      "metadata": {
        "id": "hitq-0ZDed-5"
      },
      "execution_count": null,
      "outputs": []
    },
    {
      "cell_type": "code",
      "source": [
        "iris_data_df"
      ],
      "metadata": {
        "colab": {
          "base_uri": "https://localhost:8080/",
          "height": 424
        },
        "id": "6KllyTVwySo2",
        "outputId": "e3d1834c-a705-43dd-92f9-73f6ec1dd915"
      },
      "execution_count": null,
      "outputs": [
        {
          "output_type": "execute_result",
          "data": {
            "text/plain": [
              "     sepal length (cm)  sepal width (cm)  petal length (cm)  petal width (cm)  \\\n",
              "0                  5.1               3.5                1.4               0.2   \n",
              "1                  4.9               3.0                1.4               0.2   \n",
              "2                  4.7               3.2                1.3               0.2   \n",
              "3                  4.6               3.1                1.5               0.2   \n",
              "4                  5.0               3.6                1.4               0.2   \n",
              "..                 ...               ...                ...               ...   \n",
              "145                6.7               3.0                5.2               2.3   \n",
              "146                6.3               2.5                5.0               1.9   \n",
              "147                6.5               3.0                5.2               2.0   \n",
              "148                6.2               3.4                5.4               2.3   \n",
              "149                5.9               3.0                5.1               1.8   \n",
              "\n",
              "     className  \n",
              "0            0  \n",
              "1            0  \n",
              "2            0  \n",
              "3            0  \n",
              "4            0  \n",
              "..         ...  \n",
              "145          0  \n",
              "146          0  \n",
              "147          0  \n",
              "148          0  \n",
              "149          0  \n",
              "\n",
              "[150 rows x 5 columns]"
            ],
            "text/html": [
              "\n",
              "  <div id=\"df-3da1867c-9679-45ca-a355-6f104cf2d30c\">\n",
              "    <div class=\"colab-df-container\">\n",
              "      <div>\n",
              "<style scoped>\n",
              "    .dataframe tbody tr th:only-of-type {\n",
              "        vertical-align: middle;\n",
              "    }\n",
              "\n",
              "    .dataframe tbody tr th {\n",
              "        vertical-align: top;\n",
              "    }\n",
              "\n",
              "    .dataframe thead th {\n",
              "        text-align: right;\n",
              "    }\n",
              "</style>\n",
              "<table border=\"1\" class=\"dataframe\">\n",
              "  <thead>\n",
              "    <tr style=\"text-align: right;\">\n",
              "      <th></th>\n",
              "      <th>sepal length (cm)</th>\n",
              "      <th>sepal width (cm)</th>\n",
              "      <th>petal length (cm)</th>\n",
              "      <th>petal width (cm)</th>\n",
              "      <th>className</th>\n",
              "    </tr>\n",
              "  </thead>\n",
              "  <tbody>\n",
              "    <tr>\n",
              "      <th>0</th>\n",
              "      <td>5.1</td>\n",
              "      <td>3.5</td>\n",
              "      <td>1.4</td>\n",
              "      <td>0.2</td>\n",
              "      <td>0</td>\n",
              "    </tr>\n",
              "    <tr>\n",
              "      <th>1</th>\n",
              "      <td>4.9</td>\n",
              "      <td>3.0</td>\n",
              "      <td>1.4</td>\n",
              "      <td>0.2</td>\n",
              "      <td>0</td>\n",
              "    </tr>\n",
              "    <tr>\n",
              "      <th>2</th>\n",
              "      <td>4.7</td>\n",
              "      <td>3.2</td>\n",
              "      <td>1.3</td>\n",
              "      <td>0.2</td>\n",
              "      <td>0</td>\n",
              "    </tr>\n",
              "    <tr>\n",
              "      <th>3</th>\n",
              "      <td>4.6</td>\n",
              "      <td>3.1</td>\n",
              "      <td>1.5</td>\n",
              "      <td>0.2</td>\n",
              "      <td>0</td>\n",
              "    </tr>\n",
              "    <tr>\n",
              "      <th>4</th>\n",
              "      <td>5.0</td>\n",
              "      <td>3.6</td>\n",
              "      <td>1.4</td>\n",
              "      <td>0.2</td>\n",
              "      <td>0</td>\n",
              "    </tr>\n",
              "    <tr>\n",
              "      <th>...</th>\n",
              "      <td>...</td>\n",
              "      <td>...</td>\n",
              "      <td>...</td>\n",
              "      <td>...</td>\n",
              "      <td>...</td>\n",
              "    </tr>\n",
              "    <tr>\n",
              "      <th>145</th>\n",
              "      <td>6.7</td>\n",
              "      <td>3.0</td>\n",
              "      <td>5.2</td>\n",
              "      <td>2.3</td>\n",
              "      <td>0</td>\n",
              "    </tr>\n",
              "    <tr>\n",
              "      <th>146</th>\n",
              "      <td>6.3</td>\n",
              "      <td>2.5</td>\n",
              "      <td>5.0</td>\n",
              "      <td>1.9</td>\n",
              "      <td>0</td>\n",
              "    </tr>\n",
              "    <tr>\n",
              "      <th>147</th>\n",
              "      <td>6.5</td>\n",
              "      <td>3.0</td>\n",
              "      <td>5.2</td>\n",
              "      <td>2.0</td>\n",
              "      <td>0</td>\n",
              "    </tr>\n",
              "    <tr>\n",
              "      <th>148</th>\n",
              "      <td>6.2</td>\n",
              "      <td>3.4</td>\n",
              "      <td>5.4</td>\n",
              "      <td>2.3</td>\n",
              "      <td>0</td>\n",
              "    </tr>\n",
              "    <tr>\n",
              "      <th>149</th>\n",
              "      <td>5.9</td>\n",
              "      <td>3.0</td>\n",
              "      <td>5.1</td>\n",
              "      <td>1.8</td>\n",
              "      <td>0</td>\n",
              "    </tr>\n",
              "  </tbody>\n",
              "</table>\n",
              "<p>150 rows × 5 columns</p>\n",
              "</div>\n",
              "      <button class=\"colab-df-convert\" onclick=\"convertToInteractive('df-3da1867c-9679-45ca-a355-6f104cf2d30c')\"\n",
              "              title=\"Convert this dataframe to an interactive table.\"\n",
              "              style=\"display:none;\">\n",
              "        \n",
              "  <svg xmlns=\"http://www.w3.org/2000/svg\" height=\"24px\"viewBox=\"0 0 24 24\"\n",
              "       width=\"24px\">\n",
              "    <path d=\"M0 0h24v24H0V0z\" fill=\"none\"/>\n",
              "    <path d=\"M18.56 5.44l.94 2.06.94-2.06 2.06-.94-2.06-.94-.94-2.06-.94 2.06-2.06.94zm-11 1L8.5 8.5l.94-2.06 2.06-.94-2.06-.94L8.5 2.5l-.94 2.06-2.06.94zm10 10l.94 2.06.94-2.06 2.06-.94-2.06-.94-.94-2.06-.94 2.06-2.06.94z\"/><path d=\"M17.41 7.96l-1.37-1.37c-.4-.4-.92-.59-1.43-.59-.52 0-1.04.2-1.43.59L10.3 9.45l-7.72 7.72c-.78.78-.78 2.05 0 2.83L4 21.41c.39.39.9.59 1.41.59.51 0 1.02-.2 1.41-.59l7.78-7.78 2.81-2.81c.8-.78.8-2.07 0-2.86zM5.41 20L4 18.59l7.72-7.72 1.47 1.35L5.41 20z\"/>\n",
              "  </svg>\n",
              "      </button>\n",
              "      \n",
              "  <style>\n",
              "    .colab-df-container {\n",
              "      display:flex;\n",
              "      flex-wrap:wrap;\n",
              "      gap: 12px;\n",
              "    }\n",
              "\n",
              "    .colab-df-convert {\n",
              "      background-color: #E8F0FE;\n",
              "      border: none;\n",
              "      border-radius: 50%;\n",
              "      cursor: pointer;\n",
              "      display: none;\n",
              "      fill: #1967D2;\n",
              "      height: 32px;\n",
              "      padding: 0 0 0 0;\n",
              "      width: 32px;\n",
              "    }\n",
              "\n",
              "    .colab-df-convert:hover {\n",
              "      background-color: #E2EBFA;\n",
              "      box-shadow: 0px 1px 2px rgba(60, 64, 67, 0.3), 0px 1px 3px 1px rgba(60, 64, 67, 0.15);\n",
              "      fill: #174EA6;\n",
              "    }\n",
              "\n",
              "    [theme=dark] .colab-df-convert {\n",
              "      background-color: #3B4455;\n",
              "      fill: #D2E3FC;\n",
              "    }\n",
              "\n",
              "    [theme=dark] .colab-df-convert:hover {\n",
              "      background-color: #434B5C;\n",
              "      box-shadow: 0px 1px 3px 1px rgba(0, 0, 0, 0.15);\n",
              "      filter: drop-shadow(0px 1px 2px rgba(0, 0, 0, 0.3));\n",
              "      fill: #FFFFFF;\n",
              "    }\n",
              "  </style>\n",
              "\n",
              "      <script>\n",
              "        const buttonEl =\n",
              "          document.querySelector('#df-3da1867c-9679-45ca-a355-6f104cf2d30c button.colab-df-convert');\n",
              "        buttonEl.style.display =\n",
              "          google.colab.kernel.accessAllowed ? 'block' : 'none';\n",
              "\n",
              "        async function convertToInteractive(key) {\n",
              "          const element = document.querySelector('#df-3da1867c-9679-45ca-a355-6f104cf2d30c');\n",
              "          const dataTable =\n",
              "            await google.colab.kernel.invokeFunction('convertToInteractive',\n",
              "                                                     [key], {});\n",
              "          if (!dataTable) return;\n",
              "\n",
              "          const docLinkHtml = 'Like what you see? Visit the ' +\n",
              "            '<a target=\"_blank\" href=https://colab.research.google.com/notebooks/data_table.ipynb>data table notebook</a>'\n",
              "            + ' to learn more about interactive tables.';\n",
              "          element.innerHTML = '';\n",
              "          dataTable['output_type'] = 'display_data';\n",
              "          await google.colab.output.renderOutput(dataTable, element);\n",
              "          const docLink = document.createElement('div');\n",
              "          docLink.innerHTML = docLinkHtml;\n",
              "          element.appendChild(docLink);\n",
              "        }\n",
              "      </script>\n",
              "    </div>\n",
              "  </div>\n",
              "  "
            ]
          },
          "metadata": {},
          "execution_count": 93
        }
      ]
    },
    {
      "cell_type": "code",
      "source": [],
      "metadata": {
        "id": "-PtqN2KMydeI"
      },
      "execution_count": null,
      "outputs": []
    },
    {
      "cell_type": "markdown",
      "source": [
        "Avoiding the transformation"
      ],
      "metadata": {
        "id": "Ob89jr5qy6un"
      }
    },
    {
      "cell_type": "code",
      "source": [
        "iris_data_sp"
      ],
      "metadata": {
        "colab": {
          "base_uri": "https://localhost:8080/"
        },
        "id": "gYJ6bLidy6bv",
        "outputId": "e6d4eb62-eea9-4d95-c1ea-81a91e08e9a7"
      },
      "execution_count": null,
      "outputs": [
        {
          "output_type": "execute_result",
          "data": {
            "text/plain": [
              "rdd_delta0 ParallelCollectionRDD[24] at readRDDFromFile at PythonRDD.scala:287"
            ]
          },
          "metadata": {},
          "execution_count": 94
        }
      ]
    },
    {
      "cell_type": "code",
      "source": [
        "iris_data_sp.collect()"
      ],
      "metadata": {
        "colab": {
          "base_uri": "https://localhost:8080/"
        },
        "id": "44ij43Cvy6ZB",
        "outputId": "0a726ddb-4ed1-488a-a512-bd1e0f316b3d"
      },
      "execution_count": null,
      "outputs": [
        {
          "output_type": "execute_result",
          "data": {
            "text/plain": [
              "[array([5.1, 3.5, 1.4, 0.2]),\n",
              " array([4.9, 3. , 1.4, 0.2]),\n",
              " array([4.7, 3.2, 1.3, 0.2]),\n",
              " array([4.6, 3.1, 1.5, 0.2]),\n",
              " array([5. , 3.6, 1.4, 0.2]),\n",
              " array([5.4, 3.9, 1.7, 0.4]),\n",
              " array([4.6, 3.4, 1.4, 0.3]),\n",
              " array([5. , 3.4, 1.5, 0.2]),\n",
              " array([4.4, 2.9, 1.4, 0.2]),\n",
              " array([4.9, 3.1, 1.5, 0.1]),\n",
              " array([5.4, 3.7, 1.5, 0.2]),\n",
              " array([4.8, 3.4, 1.6, 0.2]),\n",
              " array([4.8, 3. , 1.4, 0.1]),\n",
              " array([4.3, 3. , 1.1, 0.1]),\n",
              " array([5.8, 4. , 1.2, 0.2]),\n",
              " array([5.7, 4.4, 1.5, 0.4]),\n",
              " array([5.4, 3.9, 1.3, 0.4]),\n",
              " array([5.1, 3.5, 1.4, 0.3]),\n",
              " array([5.7, 3.8, 1.7, 0.3]),\n",
              " array([5.1, 3.8, 1.5, 0.3]),\n",
              " array([5.4, 3.4, 1.7, 0.2]),\n",
              " array([5.1, 3.7, 1.5, 0.4]),\n",
              " array([4.6, 3.6, 1. , 0.2]),\n",
              " array([5.1, 3.3, 1.7, 0.5]),\n",
              " array([4.8, 3.4, 1.9, 0.2]),\n",
              " array([5. , 3. , 1.6, 0.2]),\n",
              " array([5. , 3.4, 1.6, 0.4]),\n",
              " array([5.2, 3.5, 1.5, 0.2]),\n",
              " array([5.2, 3.4, 1.4, 0.2]),\n",
              " array([4.7, 3.2, 1.6, 0.2]),\n",
              " array([4.8, 3.1, 1.6, 0.2]),\n",
              " array([5.4, 3.4, 1.5, 0.4]),\n",
              " array([5.2, 4.1, 1.5, 0.1]),\n",
              " array([5.5, 4.2, 1.4, 0.2]),\n",
              " array([4.9, 3.1, 1.5, 0.2]),\n",
              " array([5. , 3.2, 1.2, 0.2]),\n",
              " array([5.5, 3.5, 1.3, 0.2]),\n",
              " array([4.9, 3.6, 1.4, 0.1]),\n",
              " array([4.4, 3. , 1.3, 0.2]),\n",
              " array([5.1, 3.4, 1.5, 0.2]),\n",
              " array([5. , 3.5, 1.3, 0.3]),\n",
              " array([4.5, 2.3, 1.3, 0.3]),\n",
              " array([4.4, 3.2, 1.3, 0.2]),\n",
              " array([5. , 3.5, 1.6, 0.6]),\n",
              " array([5.1, 3.8, 1.9, 0.4]),\n",
              " array([4.8, 3. , 1.4, 0.3]),\n",
              " array([5.1, 3.8, 1.6, 0.2]),\n",
              " array([4.6, 3.2, 1.4, 0.2]),\n",
              " array([5.3, 3.7, 1.5, 0.2]),\n",
              " array([5. , 3.3, 1.4, 0.2]),\n",
              " array([7. , 3.2, 4.7, 1.4]),\n",
              " array([6.4, 3.2, 4.5, 1.5]),\n",
              " array([6.9, 3.1, 4.9, 1.5]),\n",
              " array([5.5, 2.3, 4. , 1.3]),\n",
              " array([6.5, 2.8, 4.6, 1.5]),\n",
              " array([5.7, 2.8, 4.5, 1.3]),\n",
              " array([6.3, 3.3, 4.7, 1.6]),\n",
              " array([4.9, 2.4, 3.3, 1. ]),\n",
              " array([6.6, 2.9, 4.6, 1.3]),\n",
              " array([5.2, 2.7, 3.9, 1.4]),\n",
              " array([5. , 2. , 3.5, 1. ]),\n",
              " array([5.9, 3. , 4.2, 1.5]),\n",
              " array([6. , 2.2, 4. , 1. ]),\n",
              " array([6.1, 2.9, 4.7, 1.4]),\n",
              " array([5.6, 2.9, 3.6, 1.3]),\n",
              " array([6.7, 3.1, 4.4, 1.4]),\n",
              " array([5.6, 3. , 4.5, 1.5]),\n",
              " array([5.8, 2.7, 4.1, 1. ]),\n",
              " array([6.2, 2.2, 4.5, 1.5]),\n",
              " array([5.6, 2.5, 3.9, 1.1]),\n",
              " array([5.9, 3.2, 4.8, 1.8]),\n",
              " array([6.1, 2.8, 4. , 1.3]),\n",
              " array([6.3, 2.5, 4.9, 1.5]),\n",
              " array([6.1, 2.8, 4.7, 1.2]),\n",
              " array([6.4, 2.9, 4.3, 1.3]),\n",
              " array([6.6, 3. , 4.4, 1.4]),\n",
              " array([6.8, 2.8, 4.8, 1.4]),\n",
              " array([6.7, 3. , 5. , 1.7]),\n",
              " array([6. , 2.9, 4.5, 1.5]),\n",
              " array([5.7, 2.6, 3.5, 1. ]),\n",
              " array([5.5, 2.4, 3.8, 1.1]),\n",
              " array([5.5, 2.4, 3.7, 1. ]),\n",
              " array([5.8, 2.7, 3.9, 1.2]),\n",
              " array([6. , 2.7, 5.1, 1.6]),\n",
              " array([5.4, 3. , 4.5, 1.5]),\n",
              " array([6. , 3.4, 4.5, 1.6]),\n",
              " array([6.7, 3.1, 4.7, 1.5]),\n",
              " array([6.3, 2.3, 4.4, 1.3]),\n",
              " array([5.6, 3. , 4.1, 1.3]),\n",
              " array([5.5, 2.5, 4. , 1.3]),\n",
              " array([5.5, 2.6, 4.4, 1.2]),\n",
              " array([6.1, 3. , 4.6, 1.4]),\n",
              " array([5.8, 2.6, 4. , 1.2]),\n",
              " array([5. , 2.3, 3.3, 1. ]),\n",
              " array([5.6, 2.7, 4.2, 1.3]),\n",
              " array([5.7, 3. , 4.2, 1.2]),\n",
              " array([5.7, 2.9, 4.2, 1.3]),\n",
              " array([6.2, 2.9, 4.3, 1.3]),\n",
              " array([5.1, 2.5, 3. , 1.1]),\n",
              " array([5.7, 2.8, 4.1, 1.3]),\n",
              " array([6.3, 3.3, 6. , 2.5]),\n",
              " array([5.8, 2.7, 5.1, 1.9]),\n",
              " array([7.1, 3. , 5.9, 2.1]),\n",
              " array([6.3, 2.9, 5.6, 1.8]),\n",
              " array([6.5, 3. , 5.8, 2.2]),\n",
              " array([7.6, 3. , 6.6, 2.1]),\n",
              " array([4.9, 2.5, 4.5, 1.7]),\n",
              " array([7.3, 2.9, 6.3, 1.8]),\n",
              " array([6.7, 2.5, 5.8, 1.8]),\n",
              " array([7.2, 3.6, 6.1, 2.5]),\n",
              " array([6.5, 3.2, 5.1, 2. ]),\n",
              " array([6.4, 2.7, 5.3, 1.9]),\n",
              " array([6.8, 3. , 5.5, 2.1]),\n",
              " array([5.7, 2.5, 5. , 2. ]),\n",
              " array([5.8, 2.8, 5.1, 2.4]),\n",
              " array([6.4, 3.2, 5.3, 2.3]),\n",
              " array([6.5, 3. , 5.5, 1.8]),\n",
              " array([7.7, 3.8, 6.7, 2.2]),\n",
              " array([7.7, 2.6, 6.9, 2.3]),\n",
              " array([6. , 2.2, 5. , 1.5]),\n",
              " array([6.9, 3.2, 5.7, 2.3]),\n",
              " array([5.6, 2.8, 4.9, 2. ]),\n",
              " array([7.7, 2.8, 6.7, 2. ]),\n",
              " array([6.3, 2.7, 4.9, 1.8]),\n",
              " array([6.7, 3.3, 5.7, 2.1]),\n",
              " array([7.2, 3.2, 6. , 1.8]),\n",
              " array([6.2, 2.8, 4.8, 1.8]),\n",
              " array([6.1, 3. , 4.9, 1.8]),\n",
              " array([6.4, 2.8, 5.6, 2.1]),\n",
              " array([7.2, 3. , 5.8, 1.6]),\n",
              " array([7.4, 2.8, 6.1, 1.9]),\n",
              " array([7.9, 3.8, 6.4, 2. ]),\n",
              " array([6.4, 2.8, 5.6, 2.2]),\n",
              " array([6.3, 2.8, 5.1, 1.5]),\n",
              " array([6.1, 2.6, 5.6, 1.4]),\n",
              " array([7.7, 3. , 6.1, 2.3]),\n",
              " array([6.3, 3.4, 5.6, 2.4]),\n",
              " array([6.4, 3.1, 5.5, 1.8]),\n",
              " array([6. , 3. , 4.8, 1.8]),\n",
              " array([6.9, 3.1, 5.4, 2.1]),\n",
              " array([6.7, 3.1, 5.6, 2.4]),\n",
              " array([6.9, 3.1, 5.1, 2.3]),\n",
              " array([5.8, 2.7, 5.1, 1.9]),\n",
              " array([6.8, 3.2, 5.9, 2.3]),\n",
              " array([6.7, 3.3, 5.7, 2.5]),\n",
              " array([6.7, 3. , 5.2, 2.3]),\n",
              " array([6.3, 2.5, 5. , 1.9]),\n",
              " array([6.5, 3. , 5.2, 2. ]),\n",
              " array([6.2, 3.4, 5.4, 2.3]),\n",
              " array([5.9, 3. , 5.1, 1.8])]"
            ]
          },
          "metadata": {},
          "execution_count": 95
        }
      ]
    },
    {
      "cell_type": "code",
      "source": [
        "def splitter(x):\n",
        "  ''' sample function to do the splitting'''\n",
        "  return x[0], x[1], x[2], x[3]"
      ],
      "metadata": {
        "id": "CCLK4a2Jz8DT"
      },
      "execution_count": null,
      "outputs": []
    },
    {
      "cell_type": "code",
      "source": [
        "# dataspilitting\n",
        "iris_data_sp_splitted = iris_data_sp.map(splitter)\n",
        "iris_data_sp_splitted.take(2)"
      ],
      "metadata": {
        "colab": {
          "base_uri": "https://localhost:8080/"
        },
        "id": "n-bc8j7oy6W6",
        "outputId": "254687d2-39fc-43e7-f7e6-30bc98f2c57c"
      },
      "execution_count": null,
      "outputs": [
        {
          "output_type": "execute_result",
          "data": {
            "text/plain": [
              "[(5.1, 3.5, 1.4, 0.2), (4.9, 3.0, 1.4, 0.2)]"
            ]
          },
          "metadata": {},
          "execution_count": 106
        }
      ]
    },
    {
      "cell_type": "code",
      "source": [],
      "metadata": {
        "id": "HRllix48y6VB"
      },
      "execution_count": null,
      "outputs": []
    },
    {
      "cell_type": "code",
      "source": [
        "iris_data_sp_splitted.take(30)"
      ],
      "metadata": {
        "id": "JeMUuBw2y6Sy"
      },
      "execution_count": null,
      "outputs": []
    },
    {
      "cell_type": "code",
      "source": [
        "for item in iris_data_sp_splitted.take(10):\n",
        "  print(item)"
      ],
      "metadata": {
        "colab": {
          "base_uri": "https://localhost:8080/"
        },
        "id": "fCaIYb3hy6QM",
        "outputId": "a6937b12-2d02-471c-da4d-bb31e7806e3f"
      },
      "execution_count": null,
      "outputs": [
        {
          "output_type": "stream",
          "name": "stdout",
          "text": [
            "(5.1, 3.5, 1.4, 0.2)\n",
            "(4.9, 3.0, 1.4, 0.2)\n",
            "(4.7, 3.2, 1.3, 0.2)\n",
            "(4.6, 3.1, 1.5, 0.2)\n",
            "(5.0, 3.6, 1.4, 0.2)\n",
            "(5.4, 3.9, 1.7, 0.4)\n",
            "(4.6, 3.4, 1.4, 0.3)\n",
            "(5.0, 3.4, 1.5, 0.2)\n",
            "(4.4, 2.9, 1.4, 0.2)\n",
            "(4.9, 3.1, 1.5, 0.1)\n"
          ]
        }
      ]
    },
    {
      "cell_type": "code",
      "source": [],
      "metadata": {
        "id": "uHO-8H-77wtm"
      },
      "execution_count": null,
      "outputs": []
    },
    {
      "cell_type": "markdown",
      "source": [
        "Using flatMap with RDD in pyspark"
      ],
      "metadata": {
        "id": "S9UTxxLL9LNw"
      }
    },
    {
      "cell_type": "code",
      "source": [],
      "metadata": {
        "id": "9QDEYUFg9P63"
      },
      "execution_count": null,
      "outputs": []
    }
  ]
}