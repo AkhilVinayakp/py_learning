{
 "cells": [
  {
   "cell_type": "markdown",
   "metadata": {},
   "source": [
    "## function\n",
    " In python the function is an object. we use def keyword to bind the function body with it's definiton.\n",
    " A function can be defined inside module scope or can be definde inside a class we call it as methods\n",
    "A function can also be defined inside another function which we call it as the local function. The scope of the local function binded inside the function it is defined. We can not call local function outside the function defined.\n"
   ]
  },
  {
   "cell_type": "code",
   "execution_count": 13,
   "metadata": {},
   "outputs": [
    {
     "name": "stdout",
     "output_type": "stream",
     "text": [
      "['rani kumar', 'jonika rabi', 'manu shukla']\n"
     ]
    }
   ],
   "source": [
    "#sorting the name using the last name\n",
    "# using lambdas \n",
    "names = [\"jonika rabi\", \"manu shukla\", \"rani kumar\"]\n",
    "print(sorted(names, key= lambda x : x.split(\" \")[-1]))"
   ]
  },
  {
   "cell_type": "code",
   "execution_count": 14,
   "metadata": {},
   "outputs": [],
   "source": [
    "# using local here\n",
    "import typing\n",
    "def ret_sort(names: list)-> list:\n",
    "    def ret_last_name(n:str):\n",
    "        return n.split(\" \")[-1]\n",
    "    return sorted(names, key=ret_last_name)"
   ]
  },
  {
   "cell_type": "code",
   "execution_count": 15,
   "metadata": {},
   "outputs": [
    {
     "data": {
      "text/plain": [
       "['rani kumar', 'jonika rabi', 'manu shukla']"
      ]
     },
     "execution_count": 15,
     "metadata": {},
     "output_type": "execute_result"
    }
   ],
   "source": [
    "ret_sort(names=names)"
   ]
  },
  {
   "cell_type": "markdown",
   "metadata": {},
   "source": [
    "Python follows an LEGB rule for name look up [ Local, Enclosing, Globle, Built-in ]"
   ]
  },
  {
   "cell_type": "markdown",
   "metadata": {},
   "source": [
    "### Functions returning another Functions"
   ]
  },
  {
   "cell_type": "code",
   "execution_count": 2,
   "metadata": {},
   "outputs": [],
   "source": [
    "def func1():\n",
    "    t = \"fun\"\n",
    "    def inner_fn():\n",
    "        print(\"echo from inner function\")\n",
    "    return inner_fn"
   ]
  },
  {
   "cell_type": "code",
   "execution_count": 7,
   "metadata": {},
   "outputs": [],
   "source": [
    "# since the function func1 can return a function(the address of the function )\n",
    "func = func1()"
   ]
  },
  {
   "cell_type": "code",
   "execution_count": 8,
   "metadata": {},
   "outputs": [
    {
     "name": "stdout",
     "output_type": "stream",
     "text": [
      "echo from inner function\n"
     ]
    }
   ],
   "source": [
    "func() # since the func now asssigned as with a function it can be called."
   ]
  },
  {
   "cell_type": "markdown",
   "metadata": {},
   "source": [
    "Returning a local function is similar to any ordinary object\n",
    "passing the values into local functions"
   ]
  },
  {
   "cell_type": "code",
   "execution_count": 30,
   "metadata": {},
   "outputs": [],
   "source": [
    "# functions with arguments\n",
    "def outer(name:str):\n",
    "    def inner(tr):\n",
    "        print(name, tr)\n",
    "    return inner"
   ]
  },
  {
   "cell_type": "code",
   "execution_count": 31,
   "metadata": {},
   "outputs": [],
   "source": [
    "t = outer('ravi')"
   ]
  },
  {
   "cell_type": "code",
   "execution_count": 32,
   "metadata": {},
   "outputs": [
    {
     "name": "stdout",
     "output_type": "stream",
     "text": [
      "ravi 23\n"
     ]
    }
   ],
   "source": [
    "er = t(23) # here when the local function is returned from the globel function and store inside t the scope of the function (local) eclosed will also garbage collected. But how the data name assosiated with the early scope of the inner function maintained ? it is done by the clousure\n"
   ]
  },
  {
   "cell_type": "code",
   "execution_count": 40,
   "metadata": {},
   "outputs": [
    {
     "name": "stdout",
     "output_type": "stream",
     "text": [
      "closure 23\n"
     ]
    },
    {
     "data": {
      "text/plain": [
       "(<cell at 0x000001AE2DA67F70: int object at 0x00007FF9A92B39E0>,\n",
       " <cell at 0x000001AE2DA67370: str object at 0x000001AE29D61EB0>)"
      ]
     },
     "execution_count": 40,
     "metadata": {},
     "output_type": "execute_result"
    }
   ],
   "source": [
    "def enclosing():\n",
    "    x = 'closure'\n",
    "    r = \" mre\"\n",
    "    f = int(23)\n",
    "    def inner():\n",
    "        print(x, f)\n",
    "    return inner\n",
    "lf = enclosing()\n",
    "lf()\n",
    "lf.__closure__"
   ]
  },
  {
   "cell_type": "markdown",
   "metadata": {},
   "source": [
    "Function Factories"
   ]
  },
  {
   "cell_type": "code",
   "execution_count": 44,
   "metadata": {},
   "outputs": [
    {
     "name": "stdout",
     "output_type": "stream",
     "text": [
      "8\n"
     ]
    }
   ],
   "source": [
    "def ra(exp):\n",
    "    def inner(power):\n",
    "        return pow(exp, power)\n",
    "    return inner\n",
    "k = ra(2)\n",
    "print(k(3)) #equal to 2 ** 3"
   ]
  },
  {
   "cell_type": "code",
   "execution_count": 52,
   "metadata": {},
   "outputs": [
    {
     "data": {
      "text/plain": [
       "0.0"
      ]
     },
     "execution_count": 52,
     "metadata": {},
     "output_type": "execute_result"
    }
   ],
   "source": [
    "\n",
    "import time\n",
    "def make_timer():\n",
    "    last_called = None\n",
    "    def elapsed():\n",
    "        nonlocal last_called\n",
    "        now = time.time()\n",
    "        if last_called is None:\n",
    "            last_called = now\n",
    "            return None\n",
    "        r = now - last_called\n",
    "        last_called = now\n",
    "        return r\n",
    "    return elapsed\n",
    "t  = make_timer()\n",
    "t()\n",
    "t()\n",
    "t()  "
   ]
  },
  {
   "cell_type": "markdown",
   "metadata": {},
   "source": [
    "#### Decorator functions"
   ]
  },
  {
   "cell_type": "code",
   "execution_count": 12,
   "metadata": {},
   "outputs": [
    {
     "name": "stdout",
     "output_type": "stream",
     "text": [
      "  >>  aha\n",
      "  >>  special case\n"
     ]
    }
   ],
   "source": [
    "# decorator\n",
    "\n",
    "from functools import wraps\n",
    "\n",
    "def prettify(func):\n",
    "    @wraps(func)\n",
    "    def inner(text:str)->str:\n",
    "        console_text = \">>\".center(6)\n",
    "        func(f'{console_text}{text}')\n",
    "    return inner\n",
    "\n",
    "@prettify\n",
    "def pretty(text:str):\n",
    "    print(text)\n",
    "pretty('aha')\n",
    "pretty('special case')\n"
   ]
  },
  {
   "cell_type": "code",
   "execution_count": 7,
   "metadata": {},
   "outputs": [],
   "source": [
    "def smart_divide(func):\n",
    "    def inner(a, b):\n",
    "        print(\"I am going to divide\", a, \"and\", b)\n",
    "        if b == 0:\n",
    "            print(\"Whoops! cannot divide\")\n",
    "            return\n",
    "\n",
    "        return func(a, b)\n",
    "    return inner\n",
    "\n",
    "\n",
    "@smart_divide\n",
    "def divide(a, b):\n",
    "    print(a/b)"
   ]
  },
  {
   "cell_type": "code",
   "execution_count": 8,
   "metadata": {},
   "outputs": [
    {
     "name": "stdout",
     "output_type": "stream",
     "text": [
      "I am going to divide 2 and 2\n",
      "1.0\n"
     ]
    }
   ],
   "source": [
    "divide(2,2)"
   ]
  },
  {
   "cell_type": "markdown",
   "metadata": {},
   "source": [
    "### decorator with parameters"
   ]
  },
  {
   "cell_type": "code",
   "execution_count": 1,
   "metadata": {},
   "outputs": [
    {
     "name": "stdout",
     "output_type": "stream",
     "text": [
      "hey  ravi\n"
     ]
    }
   ],
   "source": [
    "# decorator with parameters\n",
    "# sleeps a function about the given time\n",
    "import time\n",
    "from functools import wraps\n",
    "\n",
    "def timer(sleep_time):\n",
    "    def outer(func):\n",
    "        @wraps(func)\n",
    "        def inner(text:str):\n",
    "            time.sleep(sleep_time)\n",
    "            func(text)\n",
    "        return inner\n",
    "    return outer\n",
    "\n",
    "\n",
    "\n",
    "@timer(2)  # sleeps for 2 seconds.\n",
    "def printer(text:str)-> None:\n",
    "    print(\"hey \", text)\n",
    "\n",
    "printer(\"ravi\")"
   ]
  },
  {
   "cell_type": "code",
   "execution_count": null,
   "metadata": {},
   "outputs": [],
   "source": []
  }
 ],
 "metadata": {
  "kernelspec": {
   "display_name": "Python 3.10.0 64-bit",
   "language": "python",
   "name": "python3"
  },
  "language_info": {
   "codemirror_mode": {
    "name": "ipython",
    "version": 3
   },
   "file_extension": ".py",
   "mimetype": "text/x-python",
   "name": "python",
   "nbconvert_exporter": "python",
   "pygments_lexer": "ipython3",
   "version": "3.10.0 (tags/v3.10.0:b494f59, Oct  4 2021, 19:00:18) [MSC v.1929 64 bit (AMD64)]"
  },
  "vscode": {
   "interpreter": {
    "hash": "208bcf22c938a65cdb1bd8dd171fb2e3633d342488f088e149f138423e000178"
   }
  }
 },
 "nbformat": 4,
 "nbformat_minor": 2
}
