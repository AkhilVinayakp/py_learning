{
 "cells": [
  {
   "cell_type": "markdown",
   "metadata": {},
   "source": [
    "## function\n",
    " In python the function is an object. we use def keyword to bind the function body with it's definiton.\n",
    " A function can be defined inside module scope or can be definde inside a class we call it as methods\n",
    "A function can also be defined inside another function which we call it as the local function. The scope of the local function binded inside the function it is defined. We can not call local function outside the function defined.\n"
   ]
  },
  {
   "cell_type": "code",
   "execution_count": 13,
   "metadata": {},
   "outputs": [
    {
     "name": "stdout",
     "output_type": "stream",
     "text": [
      "['rani kumar', 'jonika rabi', 'manu shukla']\n"
     ]
    }
   ],
   "source": [
    "#sorting the name using the last name\n",
    "# using lambdas \n",
    "names = [\"jonika rabi\", \"manu shukla\", \"rani kumar\"]\n",
    "print(sorted(names, key= lambda x : x.split(\" \")[-1]))"
   ]
  },
  {
   "cell_type": "code",
   "execution_count": 14,
   "metadata": {},
   "outputs": [],
   "source": [
    "# using local here\n",
    "import typing\n",
    "def ret_sort(names: list)-> list:\n",
    "    def ret_last_name(n:str):\n",
    "        return n.split(\" \")[-1]\n",
    "    return sorted(names, key=ret_last_name)"
   ]
  },
  {
   "cell_type": "code",
   "execution_count": 15,
   "metadata": {},
   "outputs": [
    {
     "data": {
      "text/plain": [
       "['rani kumar', 'jonika rabi', 'manu shukla']"
      ]
     },
     "execution_count": 15,
     "metadata": {},
     "output_type": "execute_result"
    }
   ],
   "source": [
    "ret_sort(names=names)"
   ]
  },
  {
   "cell_type": "markdown",
   "metadata": {},
   "source": [
    "Python follows an LEGB rule for name look up [ Local, Enclosing, Globle, Built-in ]"
   ]
  },
  {
   "source": [
    "### Functions returning another Functions"
   ],
   "cell_type": "markdown",
   "metadata": {}
  },
  {
   "cell_type": "code",
   "execution_count": 2,
   "metadata": {},
   "outputs": [],
   "source": [
    "def func1():\n",
    "    t = \"fun\"\n",
    "    def inner_fn():\n",
    "        print(\"echo from inner function\")\n",
    "    return inner_fn"
   ]
  },
  {
   "cell_type": "code",
   "execution_count": 7,
   "metadata": {},
   "outputs": [],
   "source": [
    "# since the function func1 can return a function(the address of the function )\n",
    "func = func1()"
   ]
  },
  {
   "cell_type": "code",
   "execution_count": 8,
   "metadata": {},
   "outputs": [
    {
     "output_type": "stream",
     "name": "stdout",
     "text": [
      "echo from inner function\n"
     ]
    }
   ],
   "source": [
    "func() # since the func now asssigned as with a function it can be called."
   ]
  },
  {
   "source": [
    "Returning a local function is similar to any ordinary object\n",
    "passing the values into local functions"
   ],
   "cell_type": "markdown",
   "metadata": {}
  },
  {
   "cell_type": "code",
   "execution_count": 30,
   "metadata": {},
   "outputs": [],
   "source": [
    "# functions with arguments\n",
    "def outer(name:str):\n",
    "    def inner(tr):\n",
    "        print(name, tr)\n",
    "    return inner"
   ]
  },
  {
   "cell_type": "code",
   "execution_count": 31,
   "metadata": {},
   "outputs": [],
   "source": [
    "t = outer('ravi')"
   ]
  },
  {
   "cell_type": "code",
   "execution_count": 32,
   "metadata": {},
   "outputs": [
    {
     "output_type": "stream",
     "name": "stdout",
     "text": [
      "ravi 23\n"
     ]
    }
   ],
   "source": [
    "er = t(23) # here when the local function is returned from the globel function and store inside t the scope of the function (local) eclosed will also garbage collected. But how the data name assosiated with the early scope of the inner function maintained ? it is done by the clousure\n"
   ]
  },
  {
   "cell_type": "code",
   "execution_count": 40,
   "metadata": {},
   "outputs": [
    {
     "output_type": "stream",
     "name": "stdout",
     "text": [
      "closure 23\n"
     ]
    },
    {
     "output_type": "execute_result",
     "data": {
      "text/plain": [
       "(<cell at 0x000001AE2DA67F70: int object at 0x00007FF9A92B39E0>,\n",
       " <cell at 0x000001AE2DA67370: str object at 0x000001AE29D61EB0>)"
      ]
     },
     "metadata": {},
     "execution_count": 40
    }
   ],
   "source": [
    "def enclosing():\n",
    "    x = 'closure'\n",
    "    r = \" mre\"\n",
    "    f = int(23)\n",
    "    def inner():\n",
    "        print(x, f)\n",
    "    return inner\n",
    "lf = enclosing()\n",
    "lf()\n",
    "lf.__closure__"
   ]
  },
  {
   "source": [
    "Function Factories"
   ],
   "cell_type": "markdown",
   "metadata": {}
  },
  {
   "cell_type": "code",
   "execution_count": 44,
   "metadata": {},
   "outputs": [
    {
     "output_type": "stream",
     "name": "stdout",
     "text": [
      "8\n"
     ]
    }
   ],
   "source": [
    "def ra(exp):\n",
    "    def inner(power):\n",
    "        return pow(exp, power)\n",
    "    return inner\n",
    "k = ra(2)\n",
    "print(k(3)) #equal to 2 ** 3"
   ]
  },
  {
   "cell_type": "code",
   "execution_count": 52,
   "metadata": {},
   "outputs": [
    {
     "output_type": "execute_result",
     "data": {
      "text/plain": [
       "0.0"
      ]
     },
     "metadata": {},
     "execution_count": 52
    }
   ],
   "source": [
    "\n",
    "import time\n",
    "def make_timer():\n",
    "    last_called = None\n",
    "    def elapsed():\n",
    "        nonlocal last_called\n",
    "        now = time.time()\n",
    "        if last_called is None:\n",
    "            last_called = now\n",
    "            return None\n",
    "        r = now - last_called\n",
    "        last_called = now\n",
    "        return r\n",
    "    return elapsed\n",
    "t  = make_timer()\n",
    "t()\n",
    "t()\n",
    "t()  "
   ]
  },
  {
   "cell_type": "code",
   "execution_count": 46,
   "metadata": {},
   "outputs": [],
   "source": [
    "t  = make_timer()"
   ]
  },
  {
   "cell_type": "code",
   "execution_count": 48,
   "metadata": {},
   "outputs": [],
   "source": [
    "t()"
   ]
  },
  {
   "cell_type": "code",
   "execution_count": 49,
   "metadata": {},
   "outputs": [
    {
     "output_type": "execute_result",
     "data": {
      "text/plain": [
       "6.900367021560669"
      ]
     },
     "metadata": {},
     "execution_count": 49
    }
   ],
   "source": [
    "t()"
   ]
  },
  {
   "cell_type": "code",
   "execution_count": 50,
   "metadata": {},
   "outputs": [
    {
     "output_type": "execute_result",
     "data": {
      "text/plain": [
       "28.142215490341187"
      ]
     },
     "metadata": {},
     "execution_count": 50
    }
   ],
   "source": [
    "t()"
   ]
  },
  {
   "cell_type": "code",
   "execution_count": null,
   "metadata": {},
   "outputs": [],
   "source": []
  }
 ],
 "metadata": {
  "kernelspec": {
   "name": "python383jvsc74a57bd01e915f0a29dc84041eaeb02b7b1a21c440e37a87b61d44d5e84a515737dc82bc",
   "display_name": "Python 3.8.3 64-bit ('base': conda)"
  },
  "language_info": {
   "codemirror_mode": {
    "name": "ipython",
    "version": 3
   },
   "file_extension": ".py",
   "mimetype": "text/x-python",
   "name": "python",
   "nbconvert_exporter": "python",
   "pygments_lexer": "ipython3",
   "version": "3.8.3"
  }
 },
 "nbformat": 4,
 "nbformat_minor": 2
}