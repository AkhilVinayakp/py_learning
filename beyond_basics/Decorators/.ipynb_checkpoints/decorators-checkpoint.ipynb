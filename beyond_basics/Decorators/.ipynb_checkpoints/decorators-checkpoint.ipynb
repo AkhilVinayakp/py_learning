{
 "cells": [
  {
   "cell_type": "markdown",
   "metadata": {},
   "source": [
    "## function\n",
    " In python the function is an object. we use def keyword to bind the function body with it's definiton.\n",
    " A function can be defined inside module scope or can be definde inside a class we call it as methods\n",
    "A function can also be defined inside another function which we call it as the local function. The scope of the local function binded inside the function it is defined. We can not call local function outside the function defined.\n"
   ]
  },
  {
   "cell_type": "code",
   "execution_count": 13,
   "metadata": {},
   "outputs": [
    {
     "name": "stdout",
     "output_type": "stream",
     "text": [
      "['rani kumar', 'jonika rabi', 'manu shukla']\n"
     ]
    }
   ],
   "source": [
    "#sorting the name using the last name\n",
    "# using lambdas \n",
    "names = [\"jonika rabi\", \"manu shukla\", \"rani kumar\"]\n",
    "print(sorted(names, key= lambda x : x.split(\" \")[-1]))"
   ]
  },
  {
   "cell_type": "code",
   "execution_count": 14,
   "metadata": {},
   "outputs": [],
   "source": [
    "# using local here\n",
    "import typing\n",
    "def ret_sort(names: list)-> list:\n",
    "    def ret_last_name(n:str):\n",
    "        return n.split(\" \")[-1]\n",
    "    return sorted(names, key=ret_last_name)"
   ]
  },
  {
   "cell_type": "code",
   "execution_count": 15,
   "metadata": {},
   "outputs": [
    {
     "data": {
      "text/plain": [
       "['rani kumar', 'jonika rabi', 'manu shukla']"
      ]
     },
     "execution_count": 15,
     "metadata": {},
     "output_type": "execute_result"
    }
   ],
   "source": [
    "ret_sort(names=names)"
   ]
  },
  {
   "cell_type": "markdown",
   "metadata": {},
   "source": [
    "Python follows an LEGB rule for name look up [ Local, Enclosing, Globle, Built-in ]"
   ]
  },
  {
   "cell_type": "code",
   "execution_count": null,
   "metadata": {},
   "outputs": [],
   "source": []
  }
 ],
 "metadata": {
  "kernelspec": {
   "display_name": "Python 3",
   "language": "python",
   "name": "python3"
  },
  "language_info": {
   "codemirror_mode": {
    "name": "ipython",
    "version": 3
   },
   "file_extension": ".py",
   "mimetype": "text/x-python",
   "name": "python",
   "nbconvert_exporter": "python",
   "pygments_lexer": "ipython3",
   "version": "3.8.3"
  }
 },
 "nbformat": 4,
 "nbformat_minor": 2
}
