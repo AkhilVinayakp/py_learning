{
 "cells": [
  {
   "cell_type": "code",
   "execution_count": null,
   "metadata": {},
   "outputs": [],
   "source": []
  },
  {
   "cell_type": "code",
   "execution_count": 7,
   "metadata": {},
   "outputs": [],
   "source": [
    "class Test:\n",
    "    num = 12\n",
    "    def __init__(self) -> None:\n",
    "        self.dragons = 2\n",
    "    \n",
    "    def sayhai(self):\n",
    "        print(self.num)\n",
    "    \n",
    "    @staticmethod\n",
    "    def printhai(cls):\n",
    "        print(cls.num)"
   ]
  },
  {
   "cell_type": "markdown",
   "metadata": {},
   "source": [
    "Staticmethods, Classmethods"
   ]
  },
  {
   "cell_type": "code",
   "execution_count": 31,
   "metadata": {},
   "outputs": [],
   "source": [
    "class Template:\n",
    "    current_state = 1\n",
    "    @classmethod\n",
    "    def update(cls, num: int):\n",
    "        cls.current_state += num"
   ]
  },
  {
   "cell_type": "code",
   "execution_count": 32,
   "metadata": {},
   "outputs": [],
   "source": [
    "t = Template()"
   ]
  },
  {
   "cell_type": "code",
   "execution_count": 33,
   "metadata": {},
   "outputs": [
    {
     "data": {
      "text/plain": [
       "1"
      ]
     },
     "execution_count": 33,
     "metadata": {},
     "output_type": "execute_result"
    }
   ],
   "source": [
    "t.current_state  # the value of the class object will be similar to all objects"
   ]
  },
  {
   "cell_type": "code",
   "execution_count": 34,
   "metadata": {},
   "outputs": [
    {
     "data": {
      "text/plain": [
       "1"
      ]
     },
     "execution_count": 34,
     "metadata": {},
     "output_type": "execute_result"
    }
   ],
   "source": [
    "Template.current_state"
   ]
  },
  {
   "cell_type": "code",
   "execution_count": 35,
   "metadata": {},
   "outputs": [
    {
     "name": "stdout",
     "output_type": "stream",
     "text": [
      "1\n",
      "1\n",
      "13 13\n"
     ]
    }
   ],
   "source": [
    "tv = Template()\n",
    "print(tv.current_state)\n",
    "print(t.current_state)\n",
    "tv.update(12)\n",
    "print(tv.current_state, t.current_state)\n",
    "# for both the current_state will be updated even though we are\n",
    "# updating with tv object. only a single memory will be used for storing \n",
    "# those values."
   ]
  },
  {
   "cell_type": "markdown",
   "metadata": {},
   "source": [
    "### static methods"
   ]
  },
  {
   "cell_type": "code",
   "execution_count": 41,
   "metadata": {},
   "outputs": [],
   "source": [
    "\n",
    "class Template:\n",
    "    sample = 1\n",
    "    @classmethod\n",
    "    def update_sample(cls, value:int) -> None:\n",
    "        cls.sample = value\n",
    "    @staticmethod\n",
    "    def pretty(text:str):\n",
    "        print(\"hey \", text)\n",
    "    \n",
    "    def __init__(self) -> None:\n",
    "        self.template_id = 12\n",
    "    def print_id(self):\n",
    "        print(self.template_id)"
   ]
  },
  {
   "cell_type": "code",
   "execution_count": 45,
   "metadata": {},
   "outputs": [
    {
     "name": "stdout",
     "output_type": "stream",
     "text": [
      "hey  d\n",
      "hey  delta\n"
     ]
    }
   ],
   "source": [
    "# with class itself\n",
    "Template.pretty(\"d\")\n",
    "# using the object\n",
    "t = Template()\n",
    "t.pretty(\"delta\")"
   ]
  },
  {
   "cell_type": "markdown",
   "metadata": {},
   "source": [
    "## Inheritence"
   ]
  },
  {
   "cell_type": "code",
   "execution_count": 46,
   "metadata": {},
   "outputs": [],
   "source": [
    "class BaseStream:\n",
    "    def __init__(self, name:str = \"alpha\") -> None:\n",
    "        self.datastream = name\n",
    "        self.p_value = 0.12\n",
    "    def update_config(self, config:str):\n",
    "        self.connection_param = config\n",
    "\n",
    "class MediaStream(BaseStream):\n",
    "    '''\n",
    "    Child of the BaseStream\n",
    "    '''\n",
    "    def __init__(self, bw:int, name:str = \"alpha\") -> None:\n",
    "        super().__init__(name)\n",
    "        self.bandwidth = bw\n",
    "        self.p_value = 0.34\n",
    "    \n",
    "    def increase_bandwidth(self, bw:int):\n",
    "        self.bandwidth += bw\n",
    "\n",
    "class encStream(BaseStream):\n",
    "    def __init__(self, enc_:str, name: str = \"alpha\") -> None:\n",
    "        super().__init__(name)\n",
    "        self.enc_proto = enc_\n",
    "        self.p_value = 0.64\n",
    "    def increase_enc(self):\n",
    "        self.enc_proto += 12\n",
    "\n"
   ]
  },
  {
   "cell_type": "code",
   "execution_count": 49,
   "metadata": {},
   "outputs": [
    {
     "name": "stdout",
     "output_type": "stream",
     "text": [
      "0.12\n",
      "ms: bandwidth: 2 p_value 0.34\n",
      "es: enc delta p_value 0.64\n",
      "0.12\n"
     ]
    }
   ],
   "source": [
    "b = BaseStream()\n",
    "\n",
    "print(b.p_value)\n",
    "\n",
    "ms = MediaStream(2)\n",
    "print(f\"ms: bandwidth: {ms.bandwidth} p_value {ms.p_value}\")\n",
    "es = encStream('delta')\n",
    "print(f\"es: enc {es.enc_proto} p_value {es.p_value}\")\n",
    "\n",
    "bt = BaseStream()\n",
    "\n",
    "print(bt.p_value)"
   ]
  },
  {
   "cell_type": "markdown",
   "metadata": {},
   "source": [
    "### multiple inheritance"
   ]
  },
  {
   "cell_type": "code",
   "execution_count": 50,
   "metadata": {},
   "outputs": [],
   "source": [
    "class baseAlpha:\n",
    "    def __init__(self) -> None:\n",
    "        self.first = 12\n",
    "        self.second = 23\n",
    "\n",
    "class baseBeta:\n",
    "    def __init__(self) -> None:\n",
    "        self.first = 54\n",
    "    \n",
    "class Theta(baseAlpha, baseBeta):\n",
    "    def __init__(self) -> None:\n",
    "        super().__init__()\n",
    "    "
   ]
  },
  {
   "cell_type": "code",
   "execution_count": 51,
   "metadata": {},
   "outputs": [
    {
     "data": {
      "text/plain": [
       "[__main__.Theta, __main__.baseAlpha, __main__.baseBeta, object]"
      ]
     },
     "execution_count": 51,
     "metadata": {},
     "output_type": "execute_result"
    }
   ],
   "source": [
    "t = Theta()\n",
    "Theta.mro()"
   ]
  },
  {
   "cell_type": "code",
   "execution_count": 52,
   "metadata": {},
   "outputs": [
    {
     "name": "stdout",
     "output_type": "stream",
     "text": [
      "12\n"
     ]
    }
   ],
   "source": [
    "print(t.first)"
   ]
  },
  {
   "cell_type": "code",
   "execution_count": null,
   "metadata": {},
   "outputs": [],
   "source": []
  }
 ],
 "metadata": {
  "kernelspec": {
   "display_name": "Python 3.10.0 64-bit",
   "language": "python",
   "name": "python3"
  },
  "language_info": {
   "codemirror_mode": {
    "name": "ipython",
    "version": 3
   },
   "file_extension": ".py",
   "mimetype": "text/x-python",
   "name": "python",
   "nbconvert_exporter": "python",
   "pygments_lexer": "ipython3",
   "version": "3.10.0 (tags/v3.10.0:b494f59, Oct  4 2021, 19:00:18) [MSC v.1929 64 bit (AMD64)]"
  },
  "orig_nbformat": 2,
  "vscode": {
   "interpreter": {
    "hash": "208bcf22c938a65cdb1bd8dd171fb2e3633d342488f088e149f138423e000178"
   }
  }
 },
 "nbformat": 4,
 "nbformat_minor": 2
}
