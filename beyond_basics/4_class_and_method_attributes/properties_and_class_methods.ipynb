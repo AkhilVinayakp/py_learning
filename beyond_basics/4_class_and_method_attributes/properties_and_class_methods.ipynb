{
 "cells": [
  {
   "cell_type": "code",
   "execution_count": null,
   "metadata": {},
   "outputs": [],
   "source": []
  },
  {
   "cell_type": "code",
   "execution_count": 7,
   "metadata": {},
   "outputs": [],
   "source": [
    "class Test:\n",
    "    num = 12\n",
    "    def __init__(self) -> None:\n",
    "        self.dragons = 2\n",
    "    \n",
    "    def sayhai(self):\n",
    "        print(self.num)\n",
    "    \n",
    "    @staticmethod\n",
    "    def printhai(cls):\n",
    "        print(cls.num)"
   ]
  },
  {
   "cell_type": "markdown",
   "metadata": {},
   "source": [
    "Staticmethods, Classmethods"
   ]
  },
  {
   "cell_type": "code",
   "execution_count": 31,
   "metadata": {},
   "outputs": [],
   "source": [
    "class Template:\n",
    "    current_state = 1\n",
    "    @classmethod\n",
    "    def update(cls, num: int):\n",
    "        cls.current_state += num"
   ]
  },
  {
   "cell_type": "code",
   "execution_count": 32,
   "metadata": {},
   "outputs": [],
   "source": [
    "t = Template()"
   ]
  },
  {
   "cell_type": "code",
   "execution_count": 33,
   "metadata": {},
   "outputs": [
    {
     "data": {
      "text/plain": [
       "1"
      ]
     },
     "execution_count": 33,
     "metadata": {},
     "output_type": "execute_result"
    }
   ],
   "source": [
    "t.current_state  # the value of the class object will be similar to all objects"
   ]
  },
  {
   "cell_type": "code",
   "execution_count": 34,
   "metadata": {},
   "outputs": [
    {
     "data": {
      "text/plain": [
       "1"
      ]
     },
     "execution_count": 34,
     "metadata": {},
     "output_type": "execute_result"
    }
   ],
   "source": [
    "Template.current_state"
   ]
  },
  {
   "cell_type": "code",
   "execution_count": 35,
   "metadata": {},
   "outputs": [
    {
     "name": "stdout",
     "output_type": "stream",
     "text": [
      "1\n",
      "1\n",
      "13 13\n"
     ]
    }
   ],
   "source": [
    "tv = Template()\n",
    "print(tv.current_state)\n",
    "print(t.current_state)\n",
    "tv.update(12)\n",
    "print(tv.current_state, t.current_state)\n",
    "# for both the current_state will be updated even though we are\n",
    "# updating with tv object. only a single memory will be used for storing \n",
    "# those values."
   ]
  },
  {
   "cell_type": "markdown",
   "metadata": {},
   "source": [
    "### static methods"
   ]
  },
  {
   "cell_type": "code",
   "execution_count": 41,
   "metadata": {},
   "outputs": [],
   "source": [
    "\n",
    "class Template:\n",
    "    sample = 1\n",
    "    @classmethod\n",
    "    def update_sample(cls, value:int) -> None:\n",
    "        cls.sample = value\n",
    "    @staticmethod\n",
    "    def pretty(text:str):\n",
    "        print(\"hey \", text)\n",
    "    \n",
    "    def __init__(self) -> None:\n",
    "        self.template_id = 12\n",
    "    def print_id(self):\n",
    "        print(self.template_id)"
   ]
  },
  {
   "cell_type": "code",
   "execution_count": 45,
   "metadata": {},
   "outputs": [
    {
     "name": "stdout",
     "output_type": "stream",
     "text": [
      "hey  d\n",
      "hey  delta\n"
     ]
    }
   ],
   "source": [
    "# with class itself\n",
    "Template.pretty(\"d\")\n",
    "# using the object\n",
    "t = Template()\n",
    "t.pretty(\"delta\")"
   ]
  },
  {
   "cell_type": "code",
   "execution_count": null,
   "metadata": {},
   "outputs": [],
   "source": []
  },
  {
   "cell_type": "code",
   "execution_count": 44,
   "metadata": {},
   "outputs": [
    {
     "ename": "TypeError",
     "evalue": "Template.print_id() missing 1 required positional argument: 'self'",
     "output_type": "error",
     "traceback": [
      "\u001b[1;31m---------------------------------------------------------------------------\u001b[0m",
      "\u001b[1;31mTypeError\u001b[0m                                 Traceback (most recent call last)",
      "\u001b[1;32m~\\AppData\\Local\\Temp\\ipykernel_12412\\3522335826.py\u001b[0m in \u001b[0;36m<module>\u001b[1;34m\u001b[0m\n\u001b[1;32m----> 1\u001b[1;33m \u001b[0mTemplate\u001b[0m\u001b[1;33m.\u001b[0m\u001b[0mprint_id\u001b[0m\u001b[1;33m(\u001b[0m\u001b[1;33m)\u001b[0m\u001b[1;33m\u001b[0m\u001b[1;33m\u001b[0m\u001b[0m\n\u001b[0m",
      "\u001b[1;31mTypeError\u001b[0m: Template.print_id() missing 1 required positional argument: 'self'"
     ]
    }
   ],
   "source": [
    "Template.print_id()  "
   ]
  },
  {
   "cell_type": "code",
   "execution_count": null,
   "metadata": {},
   "outputs": [],
   "source": []
  }
 ],
 "metadata": {
  "kernelspec": {
   "display_name": "Python 3.10.0 64-bit",
   "language": "python",
   "name": "python3"
  },
  "language_info": {
   "codemirror_mode": {
    "name": "ipython",
    "version": 3
   },
   "file_extension": ".py",
   "mimetype": "text/x-python",
   "name": "python",
   "nbconvert_exporter": "python",
   "pygments_lexer": "ipython3",
   "version": "3.10.0"
  },
  "orig_nbformat": 2,
  "vscode": {
   "interpreter": {
    "hash": "208bcf22c938a65cdb1bd8dd171fb2e3633d342488f088e149f138423e000178"
   }
  }
 },
 "nbformat": 4,
 "nbformat_minor": 2
}
