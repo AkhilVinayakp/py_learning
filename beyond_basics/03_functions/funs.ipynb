{
 "cells": [
  {
   "cell_type": "code",
   "execution_count": 1,
   "metadata": {},
   "outputs": [],
   "source": [
    "# functions"
   ]
  },
  {
   "cell_type": "code",
   "execution_count": 2,
   "metadata": {},
   "outputs": [
    {
     "data": {
      "text/plain": [
       "'\\ncallable() :\\ncallable () function that take  an object that will return True if the object is callable or False if not\\n\\n'"
      ]
     },
     "execution_count": 2,
     "metadata": {},
     "output_type": "execute_result"
    }
   ],
   "source": [
    "\"\"\"\n",
    "callable() :\n",
    "callable () function that take  an object that will return True if the object is callable or False if not\n",
    "\n",
    "\"\"\""
   ]
  },
  {
   "cell_type": "code",
   "execution_count": 10,
   "metadata": {},
   "outputs": [
    {
     "name": "stdout",
     "output_type": "stream",
     "text": [
      "True\n",
      "True\n",
      "[]\n",
      "False\n",
      "<class 'list'>\n",
      "True\n",
      "True\n",
      "True\n"
     ]
    }
   ],
   "source": [
    "# creating a function\n",
    "def say_hello():\n",
    "    print('hello')\n",
    "la = lambda: print('hai')\n",
    "k =  list()\n",
    "m = list\n",
    "print(callable(say_hello))\n",
    "print(callable(la))\n",
    "print(k)\n",
    "print(callable(k))\n",
    "print(m)\n",
    "print(callable(m)) # a class is callable\n",
    "# a method is also callable\n",
    "print(callable(list.append))\n",
    "# creating a callabel\n",
    "class Callme:\n",
    "    def __call__(self):\n",
    "        print(\"hai\")\n",
    "c = Callme()\n",
    "print(callable(c))"
   ]
  },
  {
   "cell_type": "markdown",
   "metadata": {},
   "source": [
    "#### Extending the formal argument syntax"
   ]
  },
  {
   "cell_type": "code",
   "execution_count": 14,
   "metadata": {},
   "outputs": [],
   "source": [
    "''' creating functions that takes any number of arguments'''\n",
    "def hypervolume(*args):\n",
    "    print(args)\n",
    "    # creating iterator using the args\n",
    "    args = iter(args)\n",
    "    v = next(args)\n",
    "    # looping through the rest of the values\n",
    "    for length in args:\n",
    "        v *= length\n",
    "    return v"
   ]
  },
  {
   "cell_type": "code",
   "execution_count": 15,
   "metadata": {},
   "outputs": [
    {
     "name": "stdout",
     "output_type": "stream",
     "text": [
      "(2, 34, 5)\n"
     ]
    },
    {
     "data": {
      "text/plain": [
       "340"
      ]
     },
     "execution_count": 15,
     "metadata": {},
     "output_type": "execute_result"
    }
   ],
   "source": [
    "hypervolume(2,34,5,)"
   ]
  },
  {
   "cell_type": "code",
   "execution_count": 17,
   "metadata": {},
   "outputs": [
    {
     "name": "stdout",
     "output_type": "stream",
     "text": [
      "(2, 5)\n"
     ]
    },
    {
     "data": {
      "text/plain": [
       "10"
      ]
     },
     "execution_count": 17,
     "metadata": {},
     "output_type": "execute_result"
    }
   ],
   "source": [
    "hypervolume(2,5,)"
   ]
  },
  {
   "cell_type": "code",
   "execution_count": 18,
   "metadata": {},
   "outputs": [
    {
     "name": "stdout",
     "output_type": "stream",
     "text": [
      "()\n"
     ]
    },
    {
     "ename": "StopIteration",
     "evalue": "",
     "output_type": "error",
     "traceback": [
      "\u001b[1;31m---------------------------------------------------------------------------\u001b[0m",
      "\u001b[1;31mStopIteration\u001b[0m                             Traceback (most recent call last)",
      "\u001b[1;32m<ipython-input-18-e35e3ca2182b>\u001b[0m in \u001b[0;36m<module>\u001b[1;34m\u001b[0m\n\u001b[1;32m----> 1\u001b[1;33m \u001b[0mhypervolume\u001b[0m\u001b[1;33m(\u001b[0m\u001b[1;33m)\u001b[0m\u001b[1;33m\u001b[0m\u001b[1;33m\u001b[0m\u001b[0m\n\u001b[0m",
      "\u001b[1;32m<ipython-input-14-a52388e11364>\u001b[0m in \u001b[0;36mhypervolume\u001b[1;34m(*args)\u001b[0m\n\u001b[0;32m      4\u001b[0m     \u001b[1;31m# creating iterator using the args\u001b[0m\u001b[1;33m\u001b[0m\u001b[1;33m\u001b[0m\u001b[1;33m\u001b[0m\u001b[0m\n\u001b[0;32m      5\u001b[0m     \u001b[0margs\u001b[0m \u001b[1;33m=\u001b[0m \u001b[0miter\u001b[0m\u001b[1;33m(\u001b[0m\u001b[0margs\u001b[0m\u001b[1;33m)\u001b[0m\u001b[1;33m\u001b[0m\u001b[1;33m\u001b[0m\u001b[0m\n\u001b[1;32m----> 6\u001b[1;33m     \u001b[0mv\u001b[0m \u001b[1;33m=\u001b[0m \u001b[0mnext\u001b[0m\u001b[1;33m(\u001b[0m\u001b[0margs\u001b[0m\u001b[1;33m)\u001b[0m\u001b[1;33m\u001b[0m\u001b[1;33m\u001b[0m\u001b[0m\n\u001b[0m\u001b[0;32m      7\u001b[0m     \u001b[1;31m# looping through the rest of the values\u001b[0m\u001b[1;33m\u001b[0m\u001b[1;33m\u001b[0m\u001b[1;33m\u001b[0m\u001b[0m\n\u001b[0;32m      8\u001b[0m     \u001b[1;32mfor\u001b[0m \u001b[0mlength\u001b[0m \u001b[1;32min\u001b[0m \u001b[0margs\u001b[0m\u001b[1;33m:\u001b[0m\u001b[1;33m\u001b[0m\u001b[1;33m\u001b[0m\u001b[0m\n",
      "\u001b[1;31mStopIteration\u001b[0m: "
     ]
    }
   ],
   "source": [
    "hypervolume() # will raise a stop iteration error duue to the use of next()"
   ]
  },
  {
   "cell_type": "code",
   "execution_count": 19,
   "metadata": {},
   "outputs": [],
   "source": [
    "# combining extended argument with named arg\n",
    "def hypervolume2(length, *lengths):\n",
    "    v = length\n",
    "    for i in lengths:\n",
    "        v *= i\n",
    "    return v"
   ]
  },
  {
   "cell_type": "code",
   "execution_count": 20,
   "metadata": {},
   "outputs": [
    {
     "ename": "TypeError",
     "evalue": "hypervolume2() missing 1 required positional argument: 'length'",
     "output_type": "error",
     "traceback": [
      "\u001b[1;31m---------------------------------------------------------------------------\u001b[0m",
      "\u001b[1;31mTypeError\u001b[0m                                 Traceback (most recent call last)",
      "\u001b[1;32m<ipython-input-20-4953f9276a8a>\u001b[0m in \u001b[0;36m<module>\u001b[1;34m\u001b[0m\n\u001b[0;32m      1\u001b[0m \u001b[0mhypervolume2\u001b[0m\u001b[1;33m(\u001b[0m\u001b[1;36m3\u001b[0m\u001b[1;33m,\u001b[0m\u001b[1;36m5\u001b[0m\u001b[1;33m,\u001b[0m\u001b[1;36m6\u001b[0m\u001b[1;33m)\u001b[0m\u001b[1;33m\u001b[0m\u001b[1;33m\u001b[0m\u001b[0m\n\u001b[1;32m----> 2\u001b[1;33m \u001b[0mhypervolume2\u001b[0m\u001b[1;33m(\u001b[0m\u001b[1;33m)\u001b[0m\u001b[1;33m\u001b[0m\u001b[1;33m\u001b[0m\u001b[0m\n\u001b[0m",
      "\u001b[1;31mTypeError\u001b[0m: hypervolume2() missing 1 required positional argument: 'length'"
     ]
    }
   ],
   "source": [
    "hypervolume2(3,5,6)\n",
    "hypervolume2()"
   ]
  },
  {
   "cell_type": "code",
   "execution_count": 21,
   "metadata": {},
   "outputs": [],
   "source": [
    "# produce a type error insted of a stopIteration error"
   ]
  },
  {
   "cell_type": "code",
   "execution_count": 22,
   "metadata": {},
   "outputs": [],
   "source": [
    "# handling the keyword arguments via **kwargs , *args can only handle the positional arguments"
   ]
  },
  {
   "cell_type": "code",
   "execution_count": 23,
   "metadata": {},
   "outputs": [],
   "source": [
    "# the keyword argument are stored in a dictionary in python\n",
    "def tag(name, **names):\n",
    "    print(name)\n",
    "    print(names)\n",
    "    print(type(names))"
   ]
  },
  {
   "cell_type": "code",
   "execution_count": 25,
   "metadata": {},
   "outputs": [
    {
     "name": "stdout",
     "output_type": "stream",
     "text": [
      "img\n",
      "{'id': 'test', 'border': 2}\n",
      "<class 'dict'>\n"
     ]
    }
   ],
   "source": [
    "tag('img', id='test', border = 2)"
   ]
  },
  {
   "cell_type": "code",
   "execution_count": 36,
   "metadata": {},
   "outputs": [],
   "source": [
    "# designing a function that return a html tag\n",
    "def tag(name, **attr):\n",
    "    t = '<' + name\n",
    "    for key, val in attr.items():\n",
    "        t += ' {k} = \"{v}\" '.format(k = key, v = val)\n",
    "    t += '>'\n",
    "    return t"
   ]
  },
  {
   "cell_type": "code",
   "execution_count": 37,
   "metadata": {},
   "outputs": [
    {
     "data": {
      "text/plain": [
       "'<a href = \" www.google.com\"  id = \"23ew1\" >'"
      ]
     },
     "execution_count": 37,
     "metadata": {},
     "output_type": "execute_result"
    }
   ],
   "source": [
    "tag('a', href= ' www.google.com', id = '23ew1')"
   ]
  },
  {
   "cell_type": "code",
   "execution_count": null,
   "metadata": {},
   "outputs": [],
   "source": []
  },
  {
   "cell_type": "markdown",
   "metadata": {},
   "source": [
    "## MAP"
   ]
  },
  {
   "cell_type": "markdown",
   "metadata": {},
   "source": [
    "<pre>\n",
    "💡 map(<function>/<callable>, <iterable>)\n",
    "\n",
    "</pre>\n",
    "\n",
    "- returns type: map.\n",
    "- its internal implied loop can be more efficient than a regular Python `for` loop. This is one advantage of using `map()`\n",
    "\n",
    "Apply the same function to each elements of an iterable. and return a new list\n",
    "\n",
    "apply a transformation function to each item in an iterable and transform them into a new iterable"
   ]
  },
  {
   "cell_type": "code",
   "execution_count": 8,
   "metadata": {},
   "outputs": [
    {
     "name": "stdout",
     "output_type": "stream",
     "text": [
      "<class 'map'>\n",
      "<class 'type'>\n",
      "[4, 27]\n",
      "[]\n"
     ]
    }
   ],
   "source": [
    "t = map(lambda x: x ** x, [2,3])\n",
    "print(type(t))\n",
    "print(type(type(t)))\n",
    "print(list(t))\n",
    "print(list(t))  # yeild the values will be empty once it is iterates over each elements"
   ]
  },
  {
   "cell_type": "code",
   "execution_count": null,
   "metadata": {},
   "outputs": [],
   "source": []
  },
  {
   "cell_type": "markdown",
   "metadata": {},
   "source": [
    "## filter"
   ]
  },
  {
   "cell_type": "markdown",
   "metadata": {},
   "source": [
    "filter is a built in function in python that allow to extract specific values from an iterable. \n",
    "\n",
    "returns a new filter object which is an iterable that can yield the values\n",
    "<pre>\n",
    "<aside>\n",
    "💡 <filter> = filter(<iterable> , <callable>)\n",
    "\n",
    "</aside>\n",
    "<pre>\n",
    "\n",
    "the function we use will be boolean function, we can also produce non boolean functions but and `filter()`\n",
    " will evaluate their return value for truthiness"
   ]
  },
  {
   "cell_type": "code",
   "execution_count": 18,
   "metadata": {},
   "outputs": [
    {
     "name": "stdout",
     "output_type": "stream",
     "text": [
      "[12, 45, -23, 56, -455]\n",
      "[12, 45, 56]\n",
      "[12, 45, -23, 56, -455]\n"
     ]
    }
   ],
   "source": [
    "numbers = [12, 45, -23, 56, -455]\n",
    "# filters only the negative values-\n",
    "neg_numbers = filter(lambda x: x if x > 0 else 1, numbers)\n",
    "print(list(neg_numbers))\n",
    "# => [12, 45, -23, 56, -455] \n",
    "# ? the returned value from the function is evaluated as boolean and thos evaluted as true the corresponding\n",
    "# element should be added to the filter object that is why\n",
    "# code to filter \n",
    "neg_numbers = filter(lambda x: x > 0, numbers)\n",
    "print(list(neg_numbers))\n",
    "# => [12, 45, 56]\n",
    "print(list(filter(None, numbers))) # => will all values. "
   ]
  },
  {
   "cell_type": "code",
   "execution_count": null,
   "metadata": {},
   "outputs": [],
   "source": []
  },
  {
   "cell_type": "code",
   "execution_count": null,
   "metadata": {},
   "outputs": [],
   "source": []
  }
 ],
 "metadata": {
  "kernelspec": {
   "display_name": "Python 3.10.0 64-bit",
   "language": "python",
   "name": "python3"
  },
  "language_info": {
   "codemirror_mode": {
    "name": "ipython",
    "version": 3
   },
   "file_extension": ".py",
   "mimetype": "text/x-python",
   "name": "python",
   "nbconvert_exporter": "python",
   "pygments_lexer": "ipython3",
   "version": "3.10.0"
  },
  "orig_nbformat": 2,
  "vscode": {
   "interpreter": {
    "hash": "208bcf22c938a65cdb1bd8dd171fb2e3633d342488f088e149f138423e000178"
   }
  }
 },
 "nbformat": 4,
 "nbformat_minor": 2
}
