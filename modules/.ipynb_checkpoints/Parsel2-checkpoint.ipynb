{
 "cells": [
  {
   "cell_type": "code",
   "execution_count": 66,
   "metadata": {},
   "outputs": [],
   "source": [
    "import parsel\n",
    "import json\n",
    "import requests\n",
    "import pandas as pd"
   ]
  },
  {
   "cell_type": "code",
   "execution_count": 2,
   "metadata": {},
   "outputs": [],
   "source": [
    "# getting all the item names at https://scrapeme.live/shop/"
   ]
  },
  {
   "cell_type": "code",
   "execution_count": 40,
   "metadata": {},
   "outputs": [],
   "source": [
    "data = requests.get('https://scrapeme.live/shop/')"
   ]
  },
  {
   "cell_type": "code",
   "execution_count": 41,
   "metadata": {},
   "outputs": [
    {
     "data": {
      "text/plain": [
       "'text/html; charset=UTF-8'"
      ]
     },
     "execution_count": 41,
     "metadata": {},
     "output_type": "execute_result"
    }
   ],
   "source": [
    "data.headers['content-type']"
   ]
  },
  {
   "cell_type": "code",
   "execution_count": 42,
   "metadata": {},
   "outputs": [],
   "source": [
    "# setting up the selector\n",
    "select  = parsel.Selector(text=data.text)"
   ]
  },
  {
   "cell_type": "code",
   "execution_count": 43,
   "metadata": {},
   "outputs": [],
   "source": [
    "ul = select.xpath(\"//ul[@class ='products columns-4']\")\n",
    "# /html/body/div/div[2]/div/div[2]/main/ul"
   ]
  },
  {
   "cell_type": "code",
   "execution_count": 44,
   "metadata": {},
   "outputs": [
    {
     "name": "stdout",
     "output_type": "stream",
     "text": [
      "['Bulbasaur', 'Ivysaur', 'Venusaur', 'Charmander', 'Charmeleon', 'Charizard', 'Squirtle', 'Wartortle', 'Blastoise', 'Caterpie', 'Metapod', 'Butterfree', 'Weedle', 'Kakuna', 'Beedrill', 'Pidgey']\n",
      "['63.00', '87.00', '105.00', '48.00', '165.00', '156.00', '130.00', '123.00', '76.00', '73.00', '148.00', '162.00', '25.00', '148.00', '168.00', '159.00']\n"
     ]
    }
   ],
   "source": [
    "name = ul.xpath('./li//h2/text()').extract()\n",
    "value = ul.xpath('./li//span[contains(@class, \"woocommerce-Price-amount amount\")]/text()').extract()\n",
    "print(name)\n",
    "print(value)"
   ]
  },
  {
   "cell_type": "code",
   "execution_count": 45,
   "metadata": {},
   "outputs": [],
   "source": [
    "data = pd.DataFrame(columns=['name','price'])"
   ]
  },
  {
   "cell_type": "code",
   "execution_count": 46,
   "metadata": {},
   "outputs": [],
   "source": [
    "data['name'] = name\n",
    "data['price'] = value"
   ]
  },
  {
   "cell_type": "code",
   "execution_count": 47,
   "metadata": {},
   "outputs": [
    {
     "data": {
      "text/html": [
       "<div>\n",
       "<style scoped>\n",
       "    .dataframe tbody tr th:only-of-type {\n",
       "        vertical-align: middle;\n",
       "    }\n",
       "\n",
       "    .dataframe tbody tr th {\n",
       "        vertical-align: top;\n",
       "    }\n",
       "\n",
       "    .dataframe thead th {\n",
       "        text-align: right;\n",
       "    }\n",
       "</style>\n",
       "<table border=\"1\" class=\"dataframe\">\n",
       "  <thead>\n",
       "    <tr style=\"text-align: right;\">\n",
       "      <th></th>\n",
       "      <th>name</th>\n",
       "      <th>price</th>\n",
       "    </tr>\n",
       "  </thead>\n",
       "  <tbody>\n",
       "    <tr>\n",
       "      <th>0</th>\n",
       "      <td>Bulbasaur</td>\n",
       "      <td>63.00</td>\n",
       "    </tr>\n",
       "    <tr>\n",
       "      <th>1</th>\n",
       "      <td>Ivysaur</td>\n",
       "      <td>87.00</td>\n",
       "    </tr>\n",
       "    <tr>\n",
       "      <th>2</th>\n",
       "      <td>Venusaur</td>\n",
       "      <td>105.00</td>\n",
       "    </tr>\n",
       "    <tr>\n",
       "      <th>3</th>\n",
       "      <td>Charmander</td>\n",
       "      <td>48.00</td>\n",
       "    </tr>\n",
       "    <tr>\n",
       "      <th>4</th>\n",
       "      <td>Charmeleon</td>\n",
       "      <td>165.00</td>\n",
       "    </tr>\n",
       "    <tr>\n",
       "      <th>5</th>\n",
       "      <td>Charizard</td>\n",
       "      <td>156.00</td>\n",
       "    </tr>\n",
       "    <tr>\n",
       "      <th>6</th>\n",
       "      <td>Squirtle</td>\n",
       "      <td>130.00</td>\n",
       "    </tr>\n",
       "    <tr>\n",
       "      <th>7</th>\n",
       "      <td>Wartortle</td>\n",
       "      <td>123.00</td>\n",
       "    </tr>\n",
       "    <tr>\n",
       "      <th>8</th>\n",
       "      <td>Blastoise</td>\n",
       "      <td>76.00</td>\n",
       "    </tr>\n",
       "    <tr>\n",
       "      <th>9</th>\n",
       "      <td>Caterpie</td>\n",
       "      <td>73.00</td>\n",
       "    </tr>\n",
       "    <tr>\n",
       "      <th>10</th>\n",
       "      <td>Metapod</td>\n",
       "      <td>148.00</td>\n",
       "    </tr>\n",
       "    <tr>\n",
       "      <th>11</th>\n",
       "      <td>Butterfree</td>\n",
       "      <td>162.00</td>\n",
       "    </tr>\n",
       "    <tr>\n",
       "      <th>12</th>\n",
       "      <td>Weedle</td>\n",
       "      <td>25.00</td>\n",
       "    </tr>\n",
       "    <tr>\n",
       "      <th>13</th>\n",
       "      <td>Kakuna</td>\n",
       "      <td>148.00</td>\n",
       "    </tr>\n",
       "    <tr>\n",
       "      <th>14</th>\n",
       "      <td>Beedrill</td>\n",
       "      <td>168.00</td>\n",
       "    </tr>\n",
       "    <tr>\n",
       "      <th>15</th>\n",
       "      <td>Pidgey</td>\n",
       "      <td>159.00</td>\n",
       "    </tr>\n",
       "  </tbody>\n",
       "</table>\n",
       "</div>"
      ],
      "text/plain": [
       "          name   price\n",
       "0    Bulbasaur   63.00\n",
       "1      Ivysaur   87.00\n",
       "2     Venusaur  105.00\n",
       "3   Charmander   48.00\n",
       "4   Charmeleon  165.00\n",
       "5    Charizard  156.00\n",
       "6     Squirtle  130.00\n",
       "7    Wartortle  123.00\n",
       "8    Blastoise   76.00\n",
       "9     Caterpie   73.00\n",
       "10     Metapod  148.00\n",
       "11  Butterfree  162.00\n",
       "12      Weedle   25.00\n",
       "13      Kakuna  148.00\n",
       "14    Beedrill  168.00\n",
       "15      Pidgey  159.00"
      ]
     },
     "execution_count": 47,
     "metadata": {},
     "output_type": "execute_result"
    }
   ],
   "source": [
    "data"
   ]
  },
  {
   "cell_type": "code",
   "execution_count": 30,
   "metadata": {},
   "outputs": [],
   "source": [
    "# collecting all data in different pages"
   ]
  },
  {
   "cell_type": "code",
   "execution_count": 48,
   "metadata": {},
   "outputs": [],
   "source": [
    "import logging\n",
    "logging.basicConfig(level= logging.DEBUG, format = '%(levelname)s : %(message)s')"
   ]
  },
  {
   "cell_type": "code",
   "execution_count": 63,
   "metadata": {},
   "outputs": [
    {
     "name": "stderr",
     "output_type": "stream",
     "text": [
      "DEBUG : Starting new HTTPS connection (1): scrapeme.live:443\n"
     ]
    },
    {
     "name": "stdout",
     "output_type": "stream",
     "text": [
      "getting data from page 2\n"
     ]
    },
    {
     "name": "stderr",
     "output_type": "stream",
     "text": [
      "DEBUG : https://scrapeme.live:443 \"GET /shop/page/2/ HTTP/1.1\" 200 8300\n",
      "DEBUG : (200, 'https://scrapeme.live/shop/page/2/')\n",
      "DEBUG : Starting new HTTPS connection (1): scrapeme.live:443\n"
     ]
    },
    {
     "name": "stdout",
     "output_type": "stream",
     "text": [
      "getting data from page 3\n"
     ]
    },
    {
     "name": "stderr",
     "output_type": "stream",
     "text": [
      "DEBUG : https://scrapeme.live:443 \"GET /shop/page/3/ HTTP/1.1\" 200 8398\n",
      "DEBUG : (200, 'https://scrapeme.live/shop/page/3/')\n",
      "DEBUG : Starting new HTTPS connection (1): scrapeme.live:443\n"
     ]
    },
    {
     "name": "stdout",
     "output_type": "stream",
     "text": [
      "getting data from page 4\n"
     ]
    },
    {
     "name": "stderr",
     "output_type": "stream",
     "text": [
      "DEBUG : https://scrapeme.live:443 \"GET /shop/page/4/ HTTP/1.1\" 200 8423\n",
      "DEBUG : (200, 'https://scrapeme.live/shop/page/4/')\n",
      "DEBUG : Starting new HTTPS connection (1): scrapeme.live:443\n"
     ]
    },
    {
     "name": "stdout",
     "output_type": "stream",
     "text": [
      "getting data from page 5\n"
     ]
    },
    {
     "name": "stderr",
     "output_type": "stream",
     "text": [
      "DEBUG : https://scrapeme.live:443 \"GET /shop/page/5/ HTTP/1.1\" 200 8418\n",
      "DEBUG : (200, 'https://scrapeme.live/shop/page/5/')\n",
      "DEBUG : Starting new HTTPS connection (1): scrapeme.live:443\n"
     ]
    },
    {
     "name": "stdout",
     "output_type": "stream",
     "text": [
      "getting data from page 6\n"
     ]
    },
    {
     "name": "stderr",
     "output_type": "stream",
     "text": [
      "DEBUG : https://scrapeme.live:443 \"GET /shop/page/6/ HTTP/1.1\" 200 8433\n",
      "DEBUG : (200, 'https://scrapeme.live/shop/page/6/')\n",
      "DEBUG : Starting new HTTPS connection (1): scrapeme.live:443\n"
     ]
    },
    {
     "name": "stdout",
     "output_type": "stream",
     "text": [
      "getting data from page 7\n"
     ]
    },
    {
     "name": "stderr",
     "output_type": "stream",
     "text": [
      "DEBUG : https://scrapeme.live:443 \"GET /shop/page/7/ HTTP/1.1\" 200 8473\n",
      "DEBUG : (200, 'https://scrapeme.live/shop/page/7/')\n",
      "DEBUG : Starting new HTTPS connection (1): scrapeme.live:443\n"
     ]
    },
    {
     "name": "stdout",
     "output_type": "stream",
     "text": [
      "getting data from page 8\n"
     ]
    },
    {
     "name": "stderr",
     "output_type": "stream",
     "text": [
      "DEBUG : https://scrapeme.live:443 \"GET /shop/page/8/ HTTP/1.1\" 200 8590\n",
      "DEBUG : (200, 'https://scrapeme.live/shop/page/8/')\n",
      "DEBUG : Starting new HTTPS connection (1): scrapeme.live:443\n"
     ]
    },
    {
     "name": "stdout",
     "output_type": "stream",
     "text": [
      "getting data from page 9\n"
     ]
    },
    {
     "name": "stderr",
     "output_type": "stream",
     "text": [
      "DEBUG : https://scrapeme.live:443 \"GET /shop/page/9/ HTTP/1.1\" 200 8555\n",
      "DEBUG : (200, 'https://scrapeme.live/shop/page/9/')\n",
      "DEBUG : Starting new HTTPS connection (1): scrapeme.live:443\n"
     ]
    },
    {
     "name": "stdout",
     "output_type": "stream",
     "text": [
      "getting data from page 10\n"
     ]
    },
    {
     "name": "stderr",
     "output_type": "stream",
     "text": [
      "DEBUG : https://scrapeme.live:443 \"GET /shop/page/10/ HTTP/1.1\" 200 8514\n",
      "DEBUG : (200, 'https://scrapeme.live/shop/page/10/')\n",
      "DEBUG : Starting new HTTPS connection (1): scrapeme.live:443\n"
     ]
    },
    {
     "name": "stdout",
     "output_type": "stream",
     "text": [
      "getting data from page 11\n"
     ]
    },
    {
     "name": "stderr",
     "output_type": "stream",
     "text": [
      "DEBUG : https://scrapeme.live:443 \"GET /shop/page/11/ HTTP/1.1\" 200 8556\n",
      "DEBUG : (200, 'https://scrapeme.live/shop/page/11/')\n",
      "DEBUG : Starting new HTTPS connection (1): scrapeme.live:443\n"
     ]
    },
    {
     "name": "stdout",
     "output_type": "stream",
     "text": [
      "getting data from page 12\n"
     ]
    },
    {
     "name": "stderr",
     "output_type": "stream",
     "text": [
      "DEBUG : https://scrapeme.live:443 \"GET /shop/page/12/ HTTP/1.1\" 200 8542\n",
      "DEBUG : (200, 'https://scrapeme.live/shop/page/12/')\n",
      "DEBUG : Starting new HTTPS connection (1): scrapeme.live:443\n"
     ]
    },
    {
     "name": "stdout",
     "output_type": "stream",
     "text": [
      "getting data from page 13\n"
     ]
    },
    {
     "name": "stderr",
     "output_type": "stream",
     "text": [
      "DEBUG : https://scrapeme.live:443 \"GET /shop/page/13/ HTTP/1.1\" 200 8616\n",
      "DEBUG : (200, 'https://scrapeme.live/shop/page/13/')\n",
      "DEBUG : Starting new HTTPS connection (1): scrapeme.live:443\n"
     ]
    },
    {
     "name": "stdout",
     "output_type": "stream",
     "text": [
      "getting data from page 14\n"
     ]
    },
    {
     "name": "stderr",
     "output_type": "stream",
     "text": [
      "DEBUG : https://scrapeme.live:443 \"GET /shop/page/14/ HTTP/1.1\" 200 8572\n",
      "DEBUG : (200, 'https://scrapeme.live/shop/page/14/')\n",
      "DEBUG : Starting new HTTPS connection (1): scrapeme.live:443\n"
     ]
    },
    {
     "name": "stdout",
     "output_type": "stream",
     "text": [
      "getting data from page 15\n"
     ]
    },
    {
     "name": "stderr",
     "output_type": "stream",
     "text": [
      "DEBUG : https://scrapeme.live:443 \"GET /shop/page/15/ HTTP/1.1\" 200 8598\n",
      "DEBUG : (200, 'https://scrapeme.live/shop/page/15/')\n",
      "DEBUG : Starting new HTTPS connection (1): scrapeme.live:443\n"
     ]
    },
    {
     "name": "stdout",
     "output_type": "stream",
     "text": [
      "getting data from page 16\n"
     ]
    },
    {
     "name": "stderr",
     "output_type": "stream",
     "text": [
      "DEBUG : https://scrapeme.live:443 \"GET /shop/page/16/ HTTP/1.1\" 200 8563\n",
      "DEBUG : (200, 'https://scrapeme.live/shop/page/16/')\n",
      "DEBUG : Starting new HTTPS connection (1): scrapeme.live:443\n"
     ]
    },
    {
     "name": "stdout",
     "output_type": "stream",
     "text": [
      "getting data from page 17\n"
     ]
    },
    {
     "name": "stderr",
     "output_type": "stream",
     "text": [
      "DEBUG : https://scrapeme.live:443 \"GET /shop/page/17/ HTTP/1.1\" 200 8554\n",
      "DEBUG : (200, 'https://scrapeme.live/shop/page/17/')\n",
      "DEBUG : Starting new HTTPS connection (1): scrapeme.live:443\n"
     ]
    },
    {
     "name": "stdout",
     "output_type": "stream",
     "text": [
      "getting data from page 18\n"
     ]
    },
    {
     "name": "stderr",
     "output_type": "stream",
     "text": [
      "DEBUG : https://scrapeme.live:443 \"GET /shop/page/18/ HTTP/1.1\" 200 8603\n",
      "DEBUG : (200, 'https://scrapeme.live/shop/page/18/')\n",
      "DEBUG : Starting new HTTPS connection (1): scrapeme.live:443\n"
     ]
    },
    {
     "name": "stdout",
     "output_type": "stream",
     "text": [
      "getting data from page 19\n"
     ]
    },
    {
     "name": "stderr",
     "output_type": "stream",
     "text": [
      "DEBUG : https://scrapeme.live:443 \"GET /shop/page/19/ HTTP/1.1\" 200 8556\n",
      "DEBUG : (200, 'https://scrapeme.live/shop/page/19/')\n",
      "DEBUG : Starting new HTTPS connection (1): scrapeme.live:443\n"
     ]
    },
    {
     "name": "stdout",
     "output_type": "stream",
     "text": [
      "getting data from page 20\n"
     ]
    },
    {
     "name": "stderr",
     "output_type": "stream",
     "text": [
      "DEBUG : https://scrapeme.live:443 \"GET /shop/page/20/ HTTP/1.1\" 200 8560\n",
      "DEBUG : (200, 'https://scrapeme.live/shop/page/20/')\n",
      "DEBUG : Starting new HTTPS connection (1): scrapeme.live:443\n"
     ]
    },
    {
     "name": "stdout",
     "output_type": "stream",
     "text": [
      "getting data from page 21\n"
     ]
    },
    {
     "name": "stderr",
     "output_type": "stream",
     "text": [
      "DEBUG : https://scrapeme.live:443 \"GET /shop/page/21/ HTTP/1.1\" 200 8570\n",
      "DEBUG : (200, 'https://scrapeme.live/shop/page/21/')\n",
      "DEBUG : Starting new HTTPS connection (1): scrapeme.live:443\n"
     ]
    },
    {
     "name": "stdout",
     "output_type": "stream",
     "text": [
      "getting data from page 22\n"
     ]
    },
    {
     "name": "stderr",
     "output_type": "stream",
     "text": [
      "DEBUG : https://scrapeme.live:443 \"GET /shop/page/22/ HTTP/1.1\" 200 8607\n",
      "DEBUG : (200, 'https://scrapeme.live/shop/page/22/')\n",
      "DEBUG : Starting new HTTPS connection (1): scrapeme.live:443\n"
     ]
    },
    {
     "name": "stdout",
     "output_type": "stream",
     "text": [
      "getting data from page 23\n"
     ]
    },
    {
     "name": "stderr",
     "output_type": "stream",
     "text": [
      "DEBUG : https://scrapeme.live:443 \"GET /shop/page/23/ HTTP/1.1\" 200 8576\n",
      "DEBUG : (200, 'https://scrapeme.live/shop/page/23/')\n",
      "DEBUG : Starting new HTTPS connection (1): scrapeme.live:443\n"
     ]
    },
    {
     "name": "stdout",
     "output_type": "stream",
     "text": [
      "getting data from page 24\n"
     ]
    },
    {
     "name": "stderr",
     "output_type": "stream",
     "text": [
      "DEBUG : https://scrapeme.live:443 \"GET /shop/page/24/ HTTP/1.1\" 200 8539\n",
      "DEBUG : (200, 'https://scrapeme.live/shop/page/24/')\n",
      "DEBUG : Starting new HTTPS connection (1): scrapeme.live:443\n"
     ]
    },
    {
     "name": "stdout",
     "output_type": "stream",
     "text": [
      "getting data from page 25\n"
     ]
    },
    {
     "name": "stderr",
     "output_type": "stream",
     "text": [
      "DEBUG : https://scrapeme.live:443 \"GET /shop/page/25/ HTTP/1.1\" 200 8535\n",
      "DEBUG : (200, 'https://scrapeme.live/shop/page/25/')\n",
      "DEBUG : Starting new HTTPS connection (1): scrapeme.live:443\n"
     ]
    },
    {
     "name": "stdout",
     "output_type": "stream",
     "text": [
      "getting data from page 26\n"
     ]
    },
    {
     "name": "stderr",
     "output_type": "stream",
     "text": [
      "DEBUG : https://scrapeme.live:443 \"GET /shop/page/26/ HTTP/1.1\" 200 8568\n",
      "DEBUG : (200, 'https://scrapeme.live/shop/page/26/')\n",
      "DEBUG : Starting new HTTPS connection (1): scrapeme.live:443\n"
     ]
    },
    {
     "name": "stdout",
     "output_type": "stream",
     "text": [
      "getting data from page 27\n"
     ]
    },
    {
     "name": "stderr",
     "output_type": "stream",
     "text": [
      "DEBUG : https://scrapeme.live:443 \"GET /shop/page/27/ HTTP/1.1\" 200 8581\n",
      "DEBUG : (200, 'https://scrapeme.live/shop/page/27/')\n",
      "DEBUG : Starting new HTTPS connection (1): scrapeme.live:443\n"
     ]
    },
    {
     "name": "stdout",
     "output_type": "stream",
     "text": [
      "getting data from page 28\n"
     ]
    },
    {
     "name": "stderr",
     "output_type": "stream",
     "text": [
      "DEBUG : https://scrapeme.live:443 \"GET /shop/page/28/ HTTP/1.1\" 200 8581\n",
      "DEBUG : (200, 'https://scrapeme.live/shop/page/28/')\n",
      "DEBUG : Starting new HTTPS connection (1): scrapeme.live:443\n"
     ]
    },
    {
     "name": "stdout",
     "output_type": "stream",
     "text": [
      "getting data from page 29\n"
     ]
    },
    {
     "name": "stderr",
     "output_type": "stream",
     "text": [
      "DEBUG : https://scrapeme.live:443 \"GET /shop/page/29/ HTTP/1.1\" 200 8663\n",
      "DEBUG : (200, 'https://scrapeme.live/shop/page/29/')\n",
      "DEBUG : Starting new HTTPS connection (1): scrapeme.live:443\n"
     ]
    },
    {
     "name": "stdout",
     "output_type": "stream",
     "text": [
      "getting data from page 30\n"
     ]
    },
    {
     "name": "stderr",
     "output_type": "stream",
     "text": [
      "DEBUG : https://scrapeme.live:443 \"GET /shop/page/30/ HTTP/1.1\" 200 8573\n",
      "DEBUG : (200, 'https://scrapeme.live/shop/page/30/')\n",
      "DEBUG : Starting new HTTPS connection (1): scrapeme.live:443\n"
     ]
    },
    {
     "name": "stdout",
     "output_type": "stream",
     "text": [
      "getting data from page 31\n"
     ]
    },
    {
     "name": "stderr",
     "output_type": "stream",
     "text": [
      "DEBUG : https://scrapeme.live:443 \"GET /shop/page/31/ HTTP/1.1\" 200 8573\n",
      "DEBUG : (200, 'https://scrapeme.live/shop/page/31/')\n",
      "DEBUG : Starting new HTTPS connection (1): scrapeme.live:443\n"
     ]
    },
    {
     "name": "stdout",
     "output_type": "stream",
     "text": [
      "getting data from page 32\n"
     ]
    },
    {
     "name": "stderr",
     "output_type": "stream",
     "text": [
      "DEBUG : https://scrapeme.live:443 \"GET /shop/page/32/ HTTP/1.1\" 200 8572\n",
      "DEBUG : (200, 'https://scrapeme.live/shop/page/32/')\n",
      "DEBUG : Starting new HTTPS connection (1): scrapeme.live:443\n"
     ]
    },
    {
     "name": "stdout",
     "output_type": "stream",
     "text": [
      "getting data from page 33\n"
     ]
    },
    {
     "name": "stderr",
     "output_type": "stream",
     "text": [
      "DEBUG : https://scrapeme.live:443 \"GET /shop/page/33/ HTTP/1.1\" 200 8552\n",
      "DEBUG : (200, 'https://scrapeme.live/shop/page/33/')\n",
      "DEBUG : Starting new HTTPS connection (1): scrapeme.live:443\n"
     ]
    },
    {
     "name": "stdout",
     "output_type": "stream",
     "text": [
      "getting data from page 34\n"
     ]
    },
    {
     "name": "stderr",
     "output_type": "stream",
     "text": [
      "DEBUG : https://scrapeme.live:443 \"GET /shop/page/34/ HTTP/1.1\" 200 8577\n",
      "DEBUG : (200, 'https://scrapeme.live/shop/page/34/')\n",
      "DEBUG : Starting new HTTPS connection (1): scrapeme.live:443\n"
     ]
    },
    {
     "name": "stdout",
     "output_type": "stream",
     "text": [
      "getting data from page 35\n"
     ]
    },
    {
     "name": "stderr",
     "output_type": "stream",
     "text": [
      "DEBUG : https://scrapeme.live:443 \"GET /shop/page/35/ HTTP/1.1\" 200 8577\n",
      "DEBUG : (200, 'https://scrapeme.live/shop/page/35/')\n",
      "DEBUG : Starting new HTTPS connection (1): scrapeme.live:443\n"
     ]
    },
    {
     "name": "stdout",
     "output_type": "stream",
     "text": [
      "getting data from page 36\n"
     ]
    },
    {
     "name": "stderr",
     "output_type": "stream",
     "text": [
      "DEBUG : https://scrapeme.live:443 \"GET /shop/page/36/ HTTP/1.1\" 200 8584\n",
      "DEBUG : (200, 'https://scrapeme.live/shop/page/36/')\n",
      "DEBUG : Starting new HTTPS connection (1): scrapeme.live:443\n"
     ]
    },
    {
     "name": "stdout",
     "output_type": "stream",
     "text": [
      "getting data from page 37\n"
     ]
    },
    {
     "name": "stderr",
     "output_type": "stream",
     "text": [
      "DEBUG : https://scrapeme.live:443 \"GET /shop/page/37/ HTTP/1.1\" 200 8537\n",
      "DEBUG : (200, 'https://scrapeme.live/shop/page/37/')\n",
      "DEBUG : Starting new HTTPS connection (1): scrapeme.live:443\n"
     ]
    },
    {
     "name": "stdout",
     "output_type": "stream",
     "text": [
      "getting data from page 38\n"
     ]
    },
    {
     "name": "stderr",
     "output_type": "stream",
     "text": [
      "DEBUG : https://scrapeme.live:443 \"GET /shop/page/38/ HTTP/1.1\" 200 8571\n",
      "DEBUG : (200, 'https://scrapeme.live/shop/page/38/')\n",
      "DEBUG : Starting new HTTPS connection (1): scrapeme.live:443\n"
     ]
    },
    {
     "name": "stdout",
     "output_type": "stream",
     "text": [
      "getting data from page 39\n"
     ]
    },
    {
     "name": "stderr",
     "output_type": "stream",
     "text": [
      "DEBUG : https://scrapeme.live:443 \"GET /shop/page/39/ HTTP/1.1\" 200 8607\n",
      "DEBUG : (200, 'https://scrapeme.live/shop/page/39/')\n",
      "DEBUG : Starting new HTTPS connection (1): scrapeme.live:443\n"
     ]
    },
    {
     "name": "stdout",
     "output_type": "stream",
     "text": [
      "getting data from page 40\n"
     ]
    },
    {
     "name": "stderr",
     "output_type": "stream",
     "text": [
      "DEBUG : https://scrapeme.live:443 \"GET /shop/page/40/ HTTP/1.1\" 200 8571\n",
      "DEBUG : (200, 'https://scrapeme.live/shop/page/40/')\n",
      "DEBUG : Starting new HTTPS connection (1): scrapeme.live:443\n"
     ]
    },
    {
     "name": "stdout",
     "output_type": "stream",
     "text": [
      "getting data from page 41\n"
     ]
    },
    {
     "name": "stderr",
     "output_type": "stream",
     "text": [
      "DEBUG : https://scrapeme.live:443 \"GET /shop/page/41/ HTTP/1.1\" 200 8601\n",
      "DEBUG : (200, 'https://scrapeme.live/shop/page/41/')\n",
      "DEBUG : Starting new HTTPS connection (1): scrapeme.live:443\n"
     ]
    },
    {
     "name": "stdout",
     "output_type": "stream",
     "text": [
      "getting data from page 42\n"
     ]
    },
    {
     "name": "stderr",
     "output_type": "stream",
     "text": [
      "DEBUG : https://scrapeme.live:443 \"GET /shop/page/42/ HTTP/1.1\" 200 8578\n",
      "DEBUG : (200, 'https://scrapeme.live/shop/page/42/')\n",
      "DEBUG : Starting new HTTPS connection (1): scrapeme.live:443\n"
     ]
    },
    {
     "name": "stdout",
     "output_type": "stream",
     "text": [
      "getting data from page 43\n"
     ]
    },
    {
     "name": "stderr",
     "output_type": "stream",
     "text": [
      "DEBUG : https://scrapeme.live:443 \"GET /shop/page/43/ HTTP/1.1\" 200 8512\n",
      "DEBUG : (200, 'https://scrapeme.live/shop/page/43/')\n",
      "DEBUG : Starting new HTTPS connection (1): scrapeme.live:443\n"
     ]
    },
    {
     "name": "stdout",
     "output_type": "stream",
     "text": [
      "getting data from page 44\n"
     ]
    },
    {
     "name": "stderr",
     "output_type": "stream",
     "text": [
      "DEBUG : https://scrapeme.live:443 \"GET /shop/page/44/ HTTP/1.1\" 200 8487\n",
      "DEBUG : (200, 'https://scrapeme.live/shop/page/44/')\n",
      "DEBUG : Starting new HTTPS connection (1): scrapeme.live:443\n"
     ]
    },
    {
     "name": "stdout",
     "output_type": "stream",
     "text": [
      "getting data from page 45\n"
     ]
    },
    {
     "name": "stderr",
     "output_type": "stream",
     "text": [
      "DEBUG : https://scrapeme.live:443 \"GET /shop/page/45/ HTTP/1.1\" 200 8457\n",
      "DEBUG : (200, 'https://scrapeme.live/shop/page/45/')\n",
      "DEBUG : Starting new HTTPS connection (1): scrapeme.live:443\n"
     ]
    },
    {
     "name": "stdout",
     "output_type": "stream",
     "text": [
      "getting data from page 46\n"
     ]
    },
    {
     "name": "stderr",
     "output_type": "stream",
     "text": [
      "DEBUG : https://scrapeme.live:443 \"GET /shop/page/46/ HTTP/1.1\" 200 8503\n",
      "DEBUG : (200, 'https://scrapeme.live/shop/page/46/')\n",
      "DEBUG : Starting new HTTPS connection (1): scrapeme.live:443\n"
     ]
    },
    {
     "name": "stdout",
     "output_type": "stream",
     "text": [
      "getting data from page 47\n"
     ]
    },
    {
     "name": "stderr",
     "output_type": "stream",
     "text": [
      "DEBUG : https://scrapeme.live:443 \"GET /shop/page/47/ HTTP/1.1\" 200 8471\n",
      "DEBUG : (200, 'https://scrapeme.live/shop/page/47/')\n",
      "DEBUG : Starting new HTTPS connection (1): scrapeme.live:443\n"
     ]
    },
    {
     "name": "stdout",
     "output_type": "stream",
     "text": [
      "getting data from page 48\n"
     ]
    },
    {
     "name": "stderr",
     "output_type": "stream",
     "text": [
      "DEBUG : https://scrapeme.live:443 \"GET /shop/page/48/ HTTP/1.1\" 200 6857\n",
      "DEBUG : (200, 'https://scrapeme.live/shop/page/48/')\n",
      "DEBUG : Starting new HTTPS connection (1): scrapeme.live:443\n"
     ]
    },
    {
     "name": "stdout",
     "output_type": "stream",
     "text": [
      "getting data from page 49\n"
     ]
    },
    {
     "name": "stderr",
     "output_type": "stream",
     "text": [
      "DEBUG : https://scrapeme.live:443 \"GET /shop/page/49/ HTTP/1.1\" 404 None\n",
      "DEBUG : (404, 'https://scrapeme.live/shop/page/49/')\n"
     ]
    }
   ],
   "source": [
    "base_url = 'https://scrapeme.live/shop/page/'\n",
    "name = []\n",
    "price = []\n",
    "for i in range(2, 50):\n",
    "    print(f\"getting data from page {i}\")\n",
    "    r = requests.get(base_url+str(i)+'/')\n",
    "    logging.debug(f\"{r.status_code, r.request.url}\")\n",
    "    if r.status_code != 200:\n",
    "        break\n",
    "    #initializing the selector \n",
    "    select = parsel.Selector(text=r.text)\n",
    "    ul = select.xpath(\"//ul[@class ='products columns-4']\")\n",
    "#     logging.debug(ul)\n",
    "    name.extend(ul.xpath('./li//h2/text()').extract())\n",
    "    price.extend(ul.xpath('./li//span[contains(@class, \"woocommerce-Price-amount amount\")]/text()').extract())\n",
    "#     logging.debug(f\"name : {name} price : {price}\")"
   ]
  },
  {
   "cell_type": "code",
   "execution_count": 67,
   "metadata": {},
   "outputs": [],
   "source": [
    "df = pd.DataFrame(columns=['name', 'price'])\n",
    "df['name'] = name\n",
    "df['price'] = price\n"
   ]
  },
  {
   "cell_type": "code",
   "execution_count": 69,
   "metadata": {},
   "outputs": [
    {
     "data": {
      "text/html": [
       "<div>\n",
       "<style scoped>\n",
       "    .dataframe tbody tr th:only-of-type {\n",
       "        vertical-align: middle;\n",
       "    }\n",
       "\n",
       "    .dataframe tbody tr th {\n",
       "        vertical-align: top;\n",
       "    }\n",
       "\n",
       "    .dataframe thead th {\n",
       "        text-align: right;\n",
       "    }\n",
       "</style>\n",
       "<table border=\"1\" class=\"dataframe\">\n",
       "  <thead>\n",
       "    <tr style=\"text-align: right;\">\n",
       "      <th></th>\n",
       "      <th>name</th>\n",
       "      <th>price</th>\n",
       "    </tr>\n",
       "  </thead>\n",
       "  <tbody>\n",
       "    <tr>\n",
       "      <th>0</th>\n",
       "      <td>Pidgeotto</td>\n",
       "      <td>84.00</td>\n",
       "    </tr>\n",
       "    <tr>\n",
       "      <th>1</th>\n",
       "      <td>Pidgeot</td>\n",
       "      <td>185.00</td>\n",
       "    </tr>\n",
       "    <tr>\n",
       "      <th>2</th>\n",
       "      <td>Rattata</td>\n",
       "      <td>128.00</td>\n",
       "    </tr>\n",
       "    <tr>\n",
       "      <th>3</th>\n",
       "      <td>Raticate</td>\n",
       "      <td>60.00</td>\n",
       "    </tr>\n",
       "    <tr>\n",
       "      <th>4</th>\n",
       "      <td>Spearow</td>\n",
       "      <td>133.00</td>\n",
       "    </tr>\n",
       "    <tr>\n",
       "      <th>...</th>\n",
       "      <td>...</td>\n",
       "      <td>...</td>\n",
       "    </tr>\n",
       "    <tr>\n",
       "      <th>734</th>\n",
       "      <td>Marshadow</td>\n",
       "      <td>107.00</td>\n",
       "    </tr>\n",
       "    <tr>\n",
       "      <th>735</th>\n",
       "      <td>Poipole</td>\n",
       "      <td>130.00</td>\n",
       "    </tr>\n",
       "    <tr>\n",
       "      <th>736</th>\n",
       "      <td>Naganadel</td>\n",
       "      <td>30.00</td>\n",
       "    </tr>\n",
       "    <tr>\n",
       "      <th>737</th>\n",
       "      <td>Stakataka</td>\n",
       "      <td>190.00</td>\n",
       "    </tr>\n",
       "    <tr>\n",
       "      <th>738</th>\n",
       "      <td>Blacephalon</td>\n",
       "      <td>149.00</td>\n",
       "    </tr>\n",
       "  </tbody>\n",
       "</table>\n",
       "<p>739 rows × 2 columns</p>\n",
       "</div>"
      ],
      "text/plain": [
       "            name   price\n",
       "0      Pidgeotto   84.00\n",
       "1        Pidgeot  185.00\n",
       "2        Rattata  128.00\n",
       "3       Raticate   60.00\n",
       "4        Spearow  133.00\n",
       "..           ...     ...\n",
       "734    Marshadow  107.00\n",
       "735      Poipole  130.00\n",
       "736    Naganadel   30.00\n",
       "737    Stakataka  190.00\n",
       "738  Blacephalon  149.00\n",
       "\n",
       "[739 rows x 2 columns]"
      ]
     },
     "execution_count": 69,
     "metadata": {},
     "output_type": "execute_result"
    }
   ],
   "source": [
    "df"
   ]
  },
  {
   "cell_type": "code",
   "execution_count": null,
   "metadata": {},
   "outputs": [],
   "source": []
  },
  {
   "cell_type": "code",
   "execution_count": null,
   "metadata": {},
   "outputs": [],
   "source": []
  }
 ],
 "metadata": {
  "kernelspec": {
   "display_name": "Python 3",
   "language": "python",
   "name": "python3"
  },
  "language_info": {
   "codemirror_mode": {
    "name": "ipython",
    "version": 3
   },
   "file_extension": ".py",
   "mimetype": "text/x-python",
   "name": "python",
   "nbconvert_exporter": "python",
   "pygments_lexer": "ipython3",
   "version": "3.8.3"
  }
 },
 "nbformat": 4,
 "nbformat_minor": 4
}
