{
 "cells": [
  {
   "cell_type": "code",
   "execution_count": 1,
   "metadata": {},
   "outputs": [],
   "source": [
    "#using parsel"
   ]
  },
  {
   "cell_type": "code",
   "execution_count": 2,
   "metadata": {},
   "outputs": [
    {
     "name": "stdout",
     "output_type": "stream",
     "text": [
      "Collecting parsel\n",
      "  Downloading parsel-1.6.0-py2.py3-none-any.whl (13 kB)\n",
      "Requirement already satisfied: six>=1.6.0 in c:\\users\\hp\\anaconda3\\lib\\site-packages (from parsel) (1.15.0)\n",
      "Requirement already satisfied: lxml in c:\\users\\hp\\anaconda3\\lib\\site-packages (from parsel) (4.5.2)\n",
      "Collecting cssselect>=0.9\n",
      "  Downloading cssselect-1.1.0-py2.py3-none-any.whl (16 kB)\n",
      "Collecting w3lib>=1.19.0\n",
      "  Downloading w3lib-1.22.0-py2.py3-none-any.whl (20 kB)\n",
      "Installing collected packages: cssselect, w3lib, parsel\n",
      "Successfully installed cssselect-1.1.0 parsel-1.6.0 w3lib-1.22.0\n"
     ]
    }
   ],
   "source": [
    "!pip install parsel"
   ]
  },
  {
   "cell_type": "code",
   "execution_count": 3,
   "metadata": {},
   "outputs": [],
   "source": [
    "import parsel as psel\n",
    "import requests"
   ]
  },
  {
   "cell_type": "code",
   "execution_count": 4,
   "metadata": {},
   "outputs": [],
   "source": [
    "html_txt = requests.get(\"https://webscraper.io/test-sites/tables\")"
   ]
  },
  {
   "cell_type": "code",
   "execution_count": 5,
   "metadata": {},
   "outputs": [
    {
     "data": {
      "text/plain": [
       "'text/html; charset=UTF-8'"
      ]
     },
     "execution_count": 5,
     "metadata": {},
     "output_type": "execute_result"
    }
   ],
   "source": [
    "html_txt.headers['content-type']"
   ]
  },
  {
   "cell_type": "code",
   "execution_count": 7,
   "metadata": {},
   "outputs": [],
   "source": [
    "with open('test.html','w') as fp:\n",
    "    fp.writelines(html_txt.text)"
   ]
  },
  {
   "cell_type": "code",
   "execution_count": 8,
   "metadata": {},
   "outputs": [],
   "source": [
    "#initializing the selector\n",
    "selector = psel.Selector(text=html_txt.text)"
   ]
  },
  {
   "cell_type": "code",
   "execution_count": 16,
   "metadata": {},
   "outputs": [],
   "source": [
    "t = selector.xpath(\"//table\")"
   ]
  },
  {
   "cell_type": "code",
   "execution_count": 18,
   "metadata": {},
   "outputs": [],
   "source": [
    "l = []\n",
    "for j in t:\n",
    "    l.append(j.extract())"
   ]
  },
  {
   "cell_type": "code",
   "execution_count": 19,
   "metadata": {},
   "outputs": [
    {
     "data": {
      "text/plain": [
       "4"
      ]
     },
     "execution_count": 19,
     "metadata": {},
     "output_type": "execute_result"
    }
   ],
   "source": [
    "len(l)"
   ]
  },
  {
   "cell_type": "code",
   "execution_count": 25,
   "metadata": {},
   "outputs": [],
   "source": [
    "sel2 = selector.xpath('.//td')"
   ]
  },
  {
   "cell_type": "code",
   "execution_count": 36,
   "metadata": {},
   "outputs": [],
   "source": [
    "th = sel2.extract()\n",
    "for i,j in enumerate(th):\n",
    "    th[i] = th[i].lstrip('<td>')\n",
    "    th[i] = th[i].rstrip('</td>')"
   ]
  },
  {
   "cell_type": "code",
   "execution_count": 37,
   "metadata": {},
   "outputs": [
    {
     "data": {
      "text/plain": [
       "['1',\n",
       " 'Mark',\n",
       " 'Otto',\n",
       " '@mdo',\n",
       " '2',\n",
       " 'Jacob',\n",
       " 'Thornton',\n",
       " '@fa',\n",
       " '3',\n",
       " 'Larry',\n",
       " 'he Bir',\n",
       " '@twitter',\n",
       " '4',\n",
       " 'Harry',\n",
       " 'Potter',\n",
       " '@hp',\n",
       " '5',\n",
       " 'John',\n",
       " 'Snow',\n",
       " '@dunno',\n",
       " '6',\n",
       " 'Tim',\n",
       " 'Bean',\n",
       " '@timbean',\n",
       " '1',\n",
       " 'Mark',\n",
       " 'Otto',\n",
       " '@mdo',\n",
       " '2',\n",
       " 'Jacob',\n",
       " 'Thornton',\n",
       " '@fa',\n",
       " '3',\n",
       " 'Larry',\n",
       " 'he Bir',\n",
       " '@twitter',\n",
       " '-',\n",
       " '-',\n",
       " '-',\n",
       " '-',\n",
       " '1',\n",
       " 'Mark',\n",
       " 'Otto',\n",
       " '@mdo',\n",
       " '2',\n",
       " 'Jacob',\n",
       " 'Thornton',\n",
       " '@fa',\n",
       " '3',\n",
       " 'Larry',\n",
       " 'he Bir',\n",
       " '@twitter']"
      ]
     },
     "execution_count": 37,
     "metadata": {},
     "output_type": "execute_result"
    }
   ],
   "source": [
    "th"
   ]
  },
  {
   "cell_type": "code",
   "execution_count": null,
   "metadata": {},
   "outputs": [],
   "source": []
  }
 ],
 "metadata": {
  "kernelspec": {
   "display_name": "Python 3",
   "language": "python",
   "name": "python3"
  },
  "language_info": {
   "codemirror_mode": {
    "name": "ipython",
    "version": 3
   },
   "file_extension": ".py",
   "mimetype": "text/x-python",
   "name": "python",
   "nbconvert_exporter": "python",
   "pygments_lexer": "ipython3",
   "version": "3.8.3"
  }
 },
 "nbformat": 4,
 "nbformat_minor": 4
}
