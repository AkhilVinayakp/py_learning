{
 "cells": [
  {
   "cell_type": "code",
   "execution_count": 2,
   "metadata": {},
   "outputs": [
    {
     "name": "stdout",
     "output_type": "stream",
     "text": [
      "/c/Users/HP/Documents/GitHub/py_learning/modules\n"
     ]
    }
   ],
   "source": [
    "!pwd"
   ]
  },
  {
   "cell_type": "code",
   "execution_count": 5,
   "metadata": {},
   "outputs": [
    {
     "name": "stdout",
     "output_type": "stream",
     "text": [
      "requests @ file:///tmp/build/80754af9/requests_1592841827918/work\n"
     ]
    }
   ],
   "source": [
    "# chekking the module\n",
    "! pip freeze | grep requests"
   ]
  },
  {
   "cell_type": "code",
   "execution_count": 6,
   "metadata": {},
   "outputs": [],
   "source": [
    "import requests"
   ]
  },
  {
   "cell_type": "code",
   "execution_count": 7,
   "metadata": {},
   "outputs": [],
   "source": [
    "# getting a webpage using requests\n",
    "p = requests.get('http://api.github.com/events')"
   ]
  },
  {
   "cell_type": "code",
   "execution_count": 9,
   "metadata": {},
   "outputs": [
    {
     "name": "stdout",
     "output_type": "stream",
     "text": [
      "<Response [200]>\n",
      "<class 'requests.models.Response'>\n"
     ]
    }
   ],
   "source": [
    "print(p)\n",
    "print(type(p))"
   ]
  },
  {
   "cell_type": "code",
   "execution_count": 23,
   "metadata": {
    "scrolled": true
   },
   "outputs": [],
   "source": [
    "call= dir(p) # inspecting the return object\n",
    "with open('methods.txt','w') as fp:\n",
    "    for i in call:\n",
    "        if callable(getattr(p, i)):\n",
    "            fp.write('method ::' + i +'\\n')\n",
    "        else:\n",
    "            fp.write('attr :: '+i+'\\n')\n"
   ]
  },
  {
   "cell_type": "code",
   "execution_count": 28,
   "metadata": {},
   "outputs": [
    {
     "name": "stdout",
     "output_type": "stream",
     "text": [
      "https://api.github.com/events\n",
      "\n",
      "200\n",
      "\n",
      "<urllib3.response.HTTPResponse object at 0x000001EB5514FDC0>\n",
      "\n"
     ]
    }
   ],
   "source": [
    "# return object\n",
    "for i in [p.url, p.status_code, p.raw]:\n",
    "    print(str(i) +'\\n')"
   ]
  },
  {
   "cell_type": "code",
   "execution_count": 36,
   "metadata": {},
   "outputs": [
    {
     "name": "stdout",
     "output_type": "stream",
     "text": [
      "utf-8\n"
     ]
    }
   ],
   "source": [
    "# reading the content of the server response using .text attr\n",
    "print(p.encoding)\n",
    "with open('text.txt','w') as fp:  # showing error in saving it as txt file : encoding error\n",
    "    fp.write(p.text)\n",
    "    "
   ]
  },
  {
   "cell_type": "markdown",
   "metadata": {},
   "source": [
    "#### status code"
   ]
  },
  {
   "cell_type": "code",
   "execution_count": 38,
   "metadata": {},
   "outputs": [
    {
     "name": "stdout",
     "output_type": "stream",
     "text": [
      "200\n"
     ]
    }
   ],
   "source": [
    "# getting the status code using <Response_obj>.status_code\n",
    "# response object p\n",
    "print(p.status_code)"
   ]
  },
  {
   "cell_type": "code",
   "execution_count": 40,
   "metadata": {},
   "outputs": [
    {
     "name": "stdout",
     "output_type": "stream",
     "text": [
      "HTTPConnectionPool(host='test456656.com', port=80): Max retries exceeded with url: / (Caused by NewConnectionError('<urllib3.connection.HTTPConnection object at 0x000001EB553BAEE0>: Failed to establish a new connection: [Errno 11001] getaddrinfo failed'))\n"
     ]
    }
   ],
   "source": [
    "# rasing the exception if the request was not successful\n",
    "'''\n",
    "response.raise_for_status() raise HTTPError if the rquest was unsuccessfull\n",
    "HTTPError is an exception defined at requests.exceptions\n",
    "\n",
    "'''\n",
    "#importing the exception \n",
    "from requests.exceptions import HTTPError\n",
    "url = 'http://test456656.com'\n",
    "try:\n",
    "    res = requests.get(url)\n",
    "    res.raise_for_status()\n",
    "except HTTPError as e:\n",
    "    print(e)\n",
    "except Exception as e:\n",
    "    print(e)\n",
    "else: \n",
    "    print(200)"
   ]
  },
  {
   "cell_type": "code",
   "execution_count": null,
   "metadata": {},
   "outputs": [],
   "source": []
  },
  {
   "cell_type": "code",
   "execution_count": null,
   "metadata": {},
   "outputs": [],
   "source": []
  },
  {
   "cell_type": "markdown",
   "metadata": {},
   "source": [
    "## Content of get request"
   ]
  },
  {
   "cell_type": "code",
   "execution_count": 41,
   "metadata": {
    "collapsed": true
   },
   "outputs": [
    {
     "data": {
      "text/plain": [
       "\"\\n<RES_obj>.content  : return in bytes\\n<RES_obj>.text     : return in text format\\n\\nset the encoding using <RES_obj>.encoding = 'utf-8' for specific encoding option\\n\\n<Res_obj>.json()   : To convert to JSON format if it is in Serialized JSON.\\n\\n\""
      ]
     },
     "execution_count": 41,
     "metadata": {},
     "output_type": "execute_result"
    }
   ],
   "source": [
    "# RESPONSE IN DIFFERENT FORMATS\n",
    "\"\"\"\n",
    "<RES_obj>.content  : return in bytes\n",
    "<RES_obj>.text     : return in text format\n",
    "\n",
    "set the encoding using <RES_obj>.encoding = 'utf-8' for specific encoding option\n",
    "\n",
    "<Res_obj>.json()   : To convert to JSON format if it is in Serialized JSON.\n",
    "\n",
    "\"\"\""
   ]
  },
  {
   "cell_type": "code",
   "execution_count": 46,
   "metadata": {},
   "outputs": [],
   "source": [
    "import json\n",
    "response = requests.get('http://api.github.com/events')\n",
    "with open('data.json', 'w')as jp:\n",
    "    json.dump(response.json(), jp, indent=4)"
   ]
  },
  {
   "cell_type": "code",
   "execution_count": null,
   "metadata": {},
   "outputs": [],
   "source": []
  },
  {
   "cell_type": "code",
   "execution_count": null,
   "metadata": {},
   "outputs": [],
   "source": []
  },
  {
   "cell_type": "markdown",
   "metadata": {},
   "source": [
    "### headers"
   ]
  },
  {
   "cell_type": "code",
   "execution_count": 47,
   "metadata": {},
   "outputs": [],
   "source": [
    "# meta data of the response\n",
    "response = requests.get('http://api.github.com/events')"
   ]
  },
  {
   "cell_type": "code",
   "execution_count": 49,
   "metadata": {},
   "outputs": [
    {
     "data": {
      "text/plain": [
       "requests.structures.CaseInsensitiveDict"
      ]
     },
     "execution_count": 49,
     "metadata": {},
     "output_type": "execute_result"
    }
   ],
   "source": [
    "type(response.headers)"
   ]
  },
  {
   "cell_type": "code",
   "execution_count": 51,
   "metadata": {},
   "outputs": [
    {
     "data": {
      "text/plain": [
       "{'Server': 'GitHub.com',\n",
       " 'Date': 'Tue, 13 Jul 2021 08:22:34 GMT',\n",
       " 'Content-Type': 'application/json; charset=utf-8',\n",
       " 'Cache-Control': 'public, max-age=60, s-maxage=60',\n",
       " 'Vary': 'Accept, Accept-Encoding, Accept, X-Requested-With',\n",
       " 'ETag': 'W/\"e34febc73a06a243e7cdfdc807594f486af4e555060f29e9553dfc2c16bef7f4\"',\n",
       " 'Last-Modified': 'Tue, 13 Jul 2021 08:17:34 GMT',\n",
       " 'X-Poll-Interval': '60',\n",
       " 'X-GitHub-Media-Type': 'github.v3; format=json',\n",
       " 'Link': '<https://api.github.com/events?page=2>; rel=\"next\", <https://api.github.com/events?page=8>; rel=\"last\"',\n",
       " 'Access-Control-Expose-Headers': 'ETag, Link, Location, Retry-After, X-GitHub-OTP, X-RateLimit-Limit, X-RateLimit-Remaining, X-RateLimit-Used, X-RateLimit-Resource, X-RateLimit-Reset, X-OAuth-Scopes, X-Accepted-OAuth-Scopes, X-Poll-Interval, X-GitHub-Media-Type, Deprecation, Sunset',\n",
       " 'Access-Control-Allow-Origin': '*',\n",
       " 'Strict-Transport-Security': 'max-age=31536000; includeSubdomains; preload',\n",
       " 'X-Frame-Options': 'deny',\n",
       " 'X-Content-Type-Options': 'nosniff',\n",
       " 'X-XSS-Protection': '0',\n",
       " 'Referrer-Policy': 'origin-when-cross-origin, strict-origin-when-cross-origin',\n",
       " 'Content-Security-Policy': \"default-src 'none'\",\n",
       " 'Content-Encoding': 'gzip',\n",
       " 'X-RateLimit-Limit': '60',\n",
       " 'X-RateLimit-Remaining': '57',\n",
       " 'X-RateLimit-Reset': '1626167683',\n",
       " 'X-RateLimit-Resource': 'core',\n",
       " 'X-RateLimit-Used': '3',\n",
       " 'Accept-Ranges': 'bytes',\n",
       " 'Transfer-Encoding': 'chunked',\n",
       " 'X-GitHub-Request-Id': '68B1:2DFF:53911A:602730:60ED4D4A'}"
      ]
     },
     "execution_count": 51,
     "metadata": {},
     "output_type": "execute_result"
    }
   ],
   "source": [
    "dict(response.headers)"
   ]
  },
  {
   "cell_type": "markdown",
   "metadata": {},
   "source": [
    "### Customize Get using Query string"
   ]
  },
  {
   "cell_type": "code",
   "execution_count": null,
   "metadata": {},
   "outputs": [],
   "source": []
  }
 ],
 "metadata": {
  "kernelspec": {
   "display_name": "Python 3",
   "language": "python",
   "name": "python3"
  },
  "language_info": {
   "codemirror_mode": {
    "name": "ipython",
    "version": 3
   },
   "file_extension": ".py",
   "mimetype": "text/x-python",
   "name": "python",
   "nbconvert_exporter": "python",
   "pygments_lexer": "ipython3",
   "version": "3.8.3"
  }
 },
 "nbformat": 4,
 "nbformat_minor": 4
}
