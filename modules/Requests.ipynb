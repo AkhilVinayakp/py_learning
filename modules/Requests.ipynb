{
 "cells": [
  {
   "cell_type": "code",
   "execution_count": 2,
   "metadata": {},
   "outputs": [
    {
     "name": "stdout",
     "output_type": "stream",
     "text": [
      "/c/Users/HP/Documents/GitHub/py_learning/modules\n"
     ]
    }
   ],
   "source": [
    "!pwd"
   ]
  },
  {
   "cell_type": "code",
   "execution_count": 5,
   "metadata": {},
   "outputs": [
    {
     "name": "stdout",
     "output_type": "stream",
     "text": [
      "requests @ file:///tmp/build/80754af9/requests_1592841827918/work\n"
     ]
    }
   ],
   "source": [
    "# chekking the module\n",
    "! pip freeze | grep requests"
   ]
  },
  {
   "cell_type": "code",
   "execution_count": 12,
   "metadata": {},
   "outputs": [],
   "source": [
    "import requests\n",
    "import json"
   ]
  },
  {
   "cell_type": "code",
   "execution_count": 13,
   "metadata": {},
   "outputs": [],
   "source": [
    "def dump_json(data):\n",
    "    with open('data.json','w') as fp:\n",
    "        json.dump(data, fp, indent=4)"
   ]
  },
  {
   "cell_type": "code",
   "execution_count": 7,
   "metadata": {},
   "outputs": [],
   "source": [
    "# getting a webpage using requests\n",
    "p = requests.get('http://api.github.com/events')"
   ]
  },
  {
   "cell_type": "code",
   "execution_count": 9,
   "metadata": {},
   "outputs": [
    {
     "name": "stdout",
     "output_type": "stream",
     "text": [
      "<Response [200]>\n",
      "<class 'requests.models.Response'>\n"
     ]
    }
   ],
   "source": [
    "print(p)\n",
    "print(type(p))"
   ]
  },
  {
   "cell_type": "code",
   "execution_count": 23,
   "metadata": {
    "scrolled": true
   },
   "outputs": [],
   "source": [
    "call= dir(p) # inspecting the return object\n",
    "with open('methods.txt','w') as fp:\n",
    "    for i in call:\n",
    "        if callable(getattr(p, i)):\n",
    "            fp.write('method ::' + i +'\\n')\n",
    "        else:\n",
    "            fp.write('attr :: '+i+'\\n')\n"
   ]
  },
  {
   "cell_type": "code",
   "execution_count": 28,
   "metadata": {},
   "outputs": [
    {
     "name": "stdout",
     "output_type": "stream",
     "text": [
      "https://api.github.com/events\n",
      "\n",
      "200\n",
      "\n",
      "<urllib3.response.HTTPResponse object at 0x000001EB5514FDC0>\n",
      "\n"
     ]
    }
   ],
   "source": [
    "# return object\n",
    "for i in [p.url, p.status_code, p.raw]:\n",
    "    print(str(i) +'\\n')"
   ]
  },
  {
   "cell_type": "code",
   "execution_count": 36,
   "metadata": {},
   "outputs": [
    {
     "name": "stdout",
     "output_type": "stream",
     "text": [
      "utf-8\n"
     ]
    }
   ],
   "source": [
    "# reading the content of the server response using .text attr\n",
    "print(p.encoding)\n",
    "with open('text.txt','w') as fp:  # showing error in saving it as txt file : encoding error\n",
    "    fp.write(p.text)\n",
    "    "
   ]
  },
  {
   "cell_type": "markdown",
   "metadata": {},
   "source": [
    "#### status code"
   ]
  },
  {
   "cell_type": "code",
   "execution_count": 38,
   "metadata": {},
   "outputs": [
    {
     "name": "stdout",
     "output_type": "stream",
     "text": [
      "200\n"
     ]
    }
   ],
   "source": [
    "# getting the status code using <Response_obj>.status_code\n",
    "# response object p\n",
    "print(p.status_code)"
   ]
  },
  {
   "cell_type": "code",
   "execution_count": 40,
   "metadata": {},
   "outputs": [
    {
     "name": "stdout",
     "output_type": "stream",
     "text": [
      "HTTPConnectionPool(host='test456656.com', port=80): Max retries exceeded with url: / (Caused by NewConnectionError('<urllib3.connection.HTTPConnection object at 0x000001EB553BAEE0>: Failed to establish a new connection: [Errno 11001] getaddrinfo failed'))\n"
     ]
    }
   ],
   "source": [
    "# rasing the exception if the request was not successful\n",
    "'''\n",
    "response.raise_for_status() raise HTTPError if the rquest was unsuccessfull\n",
    "HTTPError is an exception defined at requests.exceptions\n",
    "\n",
    "'''\n",
    "#importing the exception \n",
    "from requests.exceptions import HTTPError\n",
    "url = 'http://test456656.com'\n",
    "try:\n",
    "    res = requests.get(url)\n",
    "    res.raise_for_status()\n",
    "except HTTPError as e:\n",
    "    print(e)\n",
    "except Exception as e:\n",
    "    print(e)\n",
    "else: \n",
    "    print(200)"
   ]
  },
  {
   "cell_type": "code",
   "execution_count": null,
   "metadata": {},
   "outputs": [],
   "source": []
  },
  {
   "cell_type": "code",
   "execution_count": null,
   "metadata": {},
   "outputs": [],
   "source": []
  },
  {
   "cell_type": "markdown",
   "metadata": {},
   "source": [
    "## Content of get request"
   ]
  },
  {
   "cell_type": "code",
   "execution_count": 41,
   "metadata": {
    "collapsed": true
   },
   "outputs": [
    {
     "data": {
      "text/plain": [
       "\"\\n<RES_obj>.content  : return in bytes\\n<RES_obj>.text     : return in text format\\n\\nset the encoding using <RES_obj>.encoding = 'utf-8' for specific encoding option\\n\\n<Res_obj>.json()   : To convert to JSON format if it is in Serialized JSON.\\n\\n\""
      ]
     },
     "execution_count": 41,
     "metadata": {},
     "output_type": "execute_result"
    }
   ],
   "source": [
    "# RESPONSE IN DIFFERENT FORMATS\n",
    "\"\"\"\n",
    "<RES_obj>.content  : return in bytes\n",
    "<RES_obj>.text     : return in text format\n",
    "\n",
    "set the encoding using <RES_obj>.encoding = 'utf-8' for specific encoding option\n",
    "\n",
    "<Res_obj>.json()   : To convert to JSON format if it is in Serialized JSON.\n",
    "\n",
    "\"\"\""
   ]
  },
  {
   "cell_type": "code",
   "execution_count": 46,
   "metadata": {},
   "outputs": [],
   "source": [
    "import json\n",
    "response = requests.get('http://api.github.com/events')\n",
    "with open('data.json', 'w')as jp:\n",
    "    json.dump(response.json(), jp, indent=4)"
   ]
  },
  {
   "cell_type": "code",
   "execution_count": null,
   "metadata": {},
   "outputs": [],
   "source": []
  },
  {
   "cell_type": "code",
   "execution_count": null,
   "metadata": {},
   "outputs": [],
   "source": []
  },
  {
   "cell_type": "markdown",
   "metadata": {},
   "source": [
    "### headers"
   ]
  },
  {
   "cell_type": "code",
   "execution_count": 47,
   "metadata": {},
   "outputs": [],
   "source": [
    "# meta data of the response\n",
    "response = requests.get('http://api.github.com/events')"
   ]
  },
  {
   "cell_type": "code",
   "execution_count": 49,
   "metadata": {},
   "outputs": [
    {
     "data": {
      "text/plain": [
       "requests.structures.CaseInsensitiveDict"
      ]
     },
     "execution_count": 49,
     "metadata": {},
     "output_type": "execute_result"
    }
   ],
   "source": [
    "type(response.headers)"
   ]
  },
  {
   "cell_type": "code",
   "execution_count": 51,
   "metadata": {},
   "outputs": [
    {
     "data": {
      "text/plain": [
       "{'Server': 'GitHub.com',\n",
       " 'Date': 'Tue, 13 Jul 2021 08:22:34 GMT',\n",
       " 'Content-Type': 'application/json; charset=utf-8',\n",
       " 'Cache-Control': 'public, max-age=60, s-maxage=60',\n",
       " 'Vary': 'Accept, Accept-Encoding, Accept, X-Requested-With',\n",
       " 'ETag': 'W/\"e34febc73a06a243e7cdfdc807594f486af4e555060f29e9553dfc2c16bef7f4\"',\n",
       " 'Last-Modified': 'Tue, 13 Jul 2021 08:17:34 GMT',\n",
       " 'X-Poll-Interval': '60',\n",
       " 'X-GitHub-Media-Type': 'github.v3; format=json',\n",
       " 'Link': '<https://api.github.com/events?page=2>; rel=\"next\", <https://api.github.com/events?page=8>; rel=\"last\"',\n",
       " 'Access-Control-Expose-Headers': 'ETag, Link, Location, Retry-After, X-GitHub-OTP, X-RateLimit-Limit, X-RateLimit-Remaining, X-RateLimit-Used, X-RateLimit-Resource, X-RateLimit-Reset, X-OAuth-Scopes, X-Accepted-OAuth-Scopes, X-Poll-Interval, X-GitHub-Media-Type, Deprecation, Sunset',\n",
       " 'Access-Control-Allow-Origin': '*',\n",
       " 'Strict-Transport-Security': 'max-age=31536000; includeSubdomains; preload',\n",
       " 'X-Frame-Options': 'deny',\n",
       " 'X-Content-Type-Options': 'nosniff',\n",
       " 'X-XSS-Protection': '0',\n",
       " 'Referrer-Policy': 'origin-when-cross-origin, strict-origin-when-cross-origin',\n",
       " 'Content-Security-Policy': \"default-src 'none'\",\n",
       " 'Content-Encoding': 'gzip',\n",
       " 'X-RateLimit-Limit': '60',\n",
       " 'X-RateLimit-Remaining': '57',\n",
       " 'X-RateLimit-Reset': '1626167683',\n",
       " 'X-RateLimit-Resource': 'core',\n",
       " 'X-RateLimit-Used': '3',\n",
       " 'Accept-Ranges': 'bytes',\n",
       " 'Transfer-Encoding': 'chunked',\n",
       " 'X-GitHub-Request-Id': '68B1:2DFF:53911A:602730:60ED4D4A'}"
      ]
     },
     "execution_count": 51,
     "metadata": {},
     "output_type": "execute_result"
    }
   ],
   "source": [
    "dict(response.headers)"
   ]
  },
  {
   "cell_type": "markdown",
   "metadata": {},
   "source": [
    "### Customize Get using Query string"
   ]
  },
  {
   "cell_type": "code",
   "execution_count": 2,
   "metadata": {},
   "outputs": [],
   "source": [
    "#add payload with the get request payload can be a dict or list or tupoles Pass it as params\n",
    "payload = {'q': 'requests+language:python'}\n",
    "url = 'https://api.github.com/search/repositories'\n"
   ]
  },
  {
   "cell_type": "code",
   "execution_count": 3,
   "metadata": {},
   "outputs": [],
   "source": [
    "res = requests.get(url, params = payload)"
   ]
  },
  {
   "cell_type": "code",
   "execution_count": 4,
   "metadata": {},
   "outputs": [
    {
     "data": {
      "text/plain": [
       "'application/json; charset=utf-8'"
      ]
     },
     "execution_count": 4,
     "metadata": {},
     "output_type": "execute_result"
    }
   ],
   "source": [
    "res.headers['content-type']"
   ]
  },
  {
   "cell_type": "code",
   "execution_count": 7,
   "metadata": {},
   "outputs": [],
   "source": [
    "import json\n",
    "with open(\"data.json\",'w') as fp:\n",
    "    json.dump(res.json(), fp, indent= 4)"
   ]
  },
  {
   "cell_type": "markdown",
   "metadata": {},
   "source": [
    "### Request Headers"
   ]
  },
  {
   "cell_type": "markdown",
   "metadata": {},
   "source": [
    "use header value of get to pass custom headers as dictionary.HTTP headers let the client and the server pass additional information with an HTTP request or response. An HTTP header consists of its case-insensitive name followed by a colon (:), then by its value."
   ]
  },
  {
   "cell_type": "code",
   "execution_count": 8,
   "metadata": {},
   "outputs": [],
   "source": [
    "response = requests.get(\n",
    "    'https://api.github.com/search/repositories',\n",
    "    params={'q': 'requests+language:python'},\n",
    "    headers={'Accept': 'application/vnd.github.v3.text-match+json'},\n",
    ")"
   ]
  },
  {
   "cell_type": "markdown",
   "metadata": {},
   "source": [
    "### Passing data through the message body"
   ]
  },
  {
   "cell_type": "markdown",
   "metadata": {},
   "source": [
    "Data can be passed as message body in case of using POST requsts <br>\n",
    "we use data = {} parameter"
   ]
  },
  {
   "cell_type": "code",
   "execution_count": 16,
   "metadata": {},
   "outputs": [],
   "source": [
    "res = requests.post('https://httpbin.org/post', data={'key':'23490'})"
   ]
  },
  {
   "cell_type": "code",
   "execution_count": 17,
   "metadata": {},
   "outputs": [
    {
     "data": {
      "text/plain": [
       "{'Date': 'Tue, 13 Jul 2021 10:59:25 GMT', 'Content-Type': 'application/json', 'Content-Length': '480', 'Connection': 'keep-alive', 'Server': 'gunicorn/19.9.0', 'Access-Control-Allow-Origin': '*', 'Access-Control-Allow-Credentials': 'true'}"
      ]
     },
     "execution_count": 17,
     "metadata": {},
     "output_type": "execute_result"
    }
   ],
   "source": [
    "res.headers"
   ]
  },
  {
   "cell_type": "code",
   "execution_count": 18,
   "metadata": {},
   "outputs": [],
   "source": [
    "dump_json(res.json())"
   ]
  },
  {
   "cell_type": "markdown",
   "metadata": {},
   "source": [
    "If we need to pass the json data we can use json ={} instead of data = {}"
   ]
  },
  {
   "cell_type": "code",
   "execution_count": null,
   "metadata": {},
   "outputs": [],
   "source": []
  },
  {
   "cell_type": "markdown",
   "metadata": {},
   "source": [
    "### Inspecting the request\n",
    "<p> before sending the request to the server the requests library preprocess the crated request \n",
    "    which is part of \"Response\" object "
   ]
  },
  {
   "cell_type": "code",
   "execution_count": 22,
   "metadata": {},
   "outputs": [
    {
     "name": "stdout",
     "output_type": "stream",
     "text": [
      "https://httpbin.org/post b'{\"key\": \"23490\"}'\n",
      "{'Date': 'Tue, 13 Jul 2021 11:21:14 GMT', 'Content-Type': 'application/json', 'Content-Length': '482', 'Connection': 'keep-alive', 'Server': 'gunicorn/19.9.0', 'Access-Control-Allow-Origin': '*', 'Access-Control-Allow-Credentials': 'true'}\n"
     ]
    }
   ],
   "source": [
    "res = requests.post('https://httpbin.org/post', json={'key':'23490'})\n",
    "#the prepared url to send to the server\n",
    "print(res.request.url, res.request.body)\n",
    "print(res.headers) # headers from server to client"
   ]
  },
  {
   "cell_type": "code",
   "execution_count": 23,
   "metadata": {},
   "outputs": [
    {
     "name": "stdout",
     "output_type": "stream",
     "text": [
      "{'User-Agent': 'python-requests/2.24.0', 'Accept-Encoding': 'gzip, deflate', 'Accept': '*/*', 'Connection': 'keep-alive', 'Content-Length': '16', 'Content-Type': 'application/json'}\n"
     ]
    }
   ],
   "source": [
    "print(res.request.headers) # http headers from client to server"
   ]
  },
  {
   "cell_type": "code",
   "execution_count": null,
   "metadata": {},
   "outputs": [],
   "source": []
  }
 ],
 "metadata": {
  "interpreter": {
   "hash": "1e915f0a29dc84041eaeb02b7b1a21c440e37a87b61d44d5e84a515737dc82bc"
  },
  "kernelspec": {
   "display_name": "Python 3",
   "language": "python",
   "name": "python3"
  },
  "language_info": {
   "codemirror_mode": {
    "name": "ipython",
    "version": 3
   },
   "file_extension": ".py",
   "mimetype": "text/x-python",
   "name": "python",
   "nbconvert_exporter": "python",
   "pygments_lexer": "ipython3",
   "version": "3.8.3"
  }
 },
 "nbformat": 4,
 "nbformat_minor": 4
}
