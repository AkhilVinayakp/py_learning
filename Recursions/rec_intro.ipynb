{
 "cells": [
  {
   "cell_type": "code",
   "execution_count": 1,
   "metadata": {},
   "outputs": [],
   "source": [
    "# creating the * pattern"
   ]
  },
  {
   "cell_type": "code",
   "execution_count": 2,
   "metadata": {},
   "outputs": [
    {
     "data": {
      "text/plain": [
       "'\\n*\\n**\\n****\\n*****\\n******\\n'"
      ]
     },
     "execution_count": 2,
     "metadata": {},
     "output_type": "execute_result"
    }
   ],
   "source": [
    "'''\n",
    "*\n",
    "**\n",
    "****\n",
    "*****\n",
    "******\n",
    "'''"
   ]
  },
  {
   "cell_type": "code",
   "execution_count": 3,
   "metadata": {},
   "outputs": [],
   "source": [
    "# iterative approach\n",
    "def pattern(n:int):\n",
    "    for item in range(1, n+1):\n",
    "        print('*' * item)\n",
    "        "
   ]
  },
  {
   "cell_type": "code",
   "execution_count": 4,
   "metadata": {},
   "outputs": [
    {
     "name": "stdout",
     "output_type": "stream",
     "text": [
      "*\n",
      "**\n",
      "***\n",
      "****\n",
      "*****\n"
     ]
    }
   ],
   "source": [
    "pattern(5)"
   ]
  },
  {
   "cell_type": "code",
   "execution_count": 5,
   "metadata": {},
   "outputs": [],
   "source": [
    "def pattern_rec(n:int):\n",
    "    if n == 0:\n",
    "        return\n",
    "    else:\n",
    "        print('*' * n)\n",
    "        return pattern_rec(n-1)"
   ]
  },
  {
   "cell_type": "code",
   "execution_count": 6,
   "metadata": {},
   "outputs": [
    {
     "name": "stdout",
     "output_type": "stream",
     "text": [
      "*****\n",
      "****\n",
      "***\n",
      "**\n",
      "*\n"
     ]
    }
   ],
   "source": [
    "pattern_rec(5)"
   ]
  },
  {
   "cell_type": "code",
   "execution_count": 19,
   "metadata": {},
   "outputs": [],
   "source": [
    "# factorials using recursion\n",
    "import time\n",
    "import logging\n",
    "from functools import wraps\n",
    "logging.basicConfig(format='%(levelname)s - %(asctime)s - %(message)s')\n",
    "logger = logging.getLogger(__name__)\n",
    "logger.setLevel(logging.INFO)\n",
    "\n",
    "# execution time wrapper\n",
    "def track(func):\n",
    "    @wraps(func)\n",
    "    def wrapper(number):\n",
    "        st_time = time.time()\n",
    "        ret_value = func(number)\n",
    "        end_time = time.time()\n",
    "        logger.info(f\"Execution time for input {number}: {end_time-st_time}\")\n",
    "        num_length = len(str(ret_value))\n",
    "        if num_length > 20:\n",
    "            return f'{num_length} digits'\n",
    "        return ret_value\n",
    "    return wrapper\n"
   ]
  },
  {
   "cell_type": "code",
   "execution_count": 20,
   "metadata": {},
   "outputs": [],
   "source": [
    "@track\n",
    "def pattern_rec(n:int):\n",
    "    if n == 0:\n",
    "        return\n",
    "    else:\n",
    "        print('*' * n)\n",
    "        return pattern_rec(n-1)"
   ]
  },
  {
   "cell_type": "code",
   "execution_count": 22,
   "metadata": {},
   "outputs": [
    {
     "name": "stdout",
     "output_type": "stream",
     "text": [
      "*****\n",
      "****\n",
      "***\n",
      "**\n",
      "*\n"
     ]
    },
    {
     "name": "stderr",
     "output_type": "stream",
     "text": [
      "INFO - 2024-01-21 11:47:21,926 - Execution time for input 0: 99.65121126174927\n",
      "INFO - 2024-01-21 11:47:30,200 - Execution time for input 1: 108.15587377548218\n",
      "INFO - 2024-01-21 11:47:36,913 - Execution time for input 2: 115.04332065582275\n",
      "INFO - 2024-01-21 11:47:47,559 - Execution time for input 3: 125.61204385757446\n",
      "INFO - 2024-01-21 11:47:53,000 - Execution time for input 4: 131.13113689422607\n",
      "INFO - 2024-01-21 11:47:57,510 - Execution time for input 5: 135.56476855278015\n"
     ]
    }
   ],
   "source": [
    "pattern_rec(5)"
   ]
  },
  {
   "cell_type": "code",
   "execution_count": 23,
   "metadata": {},
   "outputs": [],
   "source": [
    "def patter_norm(num=5, current=1):\n",
    "    if current > num:\n",
    "        return\n",
    "    print('*' * current)\n",
    "    return patter_norm(num, current+1)"
   ]
  },
  {
   "cell_type": "code",
   "execution_count": 29,
   "metadata": {},
   "outputs": [
    {
     "name": "stdout",
     "output_type": "stream",
     "text": [
      "*\n",
      "**\n",
      "***\n",
      "****\n",
      "*****\n"
     ]
    }
   ],
   "source": [
    "patter_norm()"
   ]
  },
  {
   "cell_type": "code",
   "execution_count": null,
   "metadata": {},
   "outputs": [],
   "source": []
  },
  {
   "cell_type": "code",
   "execution_count": 31,
   "metadata": {},
   "outputs": [],
   "source": [
    "# fibonacci series \n",
    "# 0, 1, 1, 2, 3, 5, 8, 13"
   ]
  },
  {
   "cell_type": "code",
   "execution_count": 34,
   "metadata": {},
   "outputs": [],
   "source": [
    "def fibi(count=10):\n",
    "    '''print the sequence upto the count'''\n",
    "    f,s = 0,1\n",
    "    print(f\"{f}\\n{s}\")\n",
    "    for _ in range(3, count):\n",
    "        temp = f + s\n",
    "        f, s = s, temp\n",
    "        print(temp)"
   ]
  },
  {
   "cell_type": "code",
   "execution_count": 35,
   "metadata": {},
   "outputs": [
    {
     "name": "stdout",
     "output_type": "stream",
     "text": [
      "0\n",
      "1\n",
      "1\n",
      "2\n",
      "3\n",
      "5\n",
      "8\n",
      "13\n",
      "21\n"
     ]
    }
   ],
   "source": [
    "fibi()"
   ]
  },
  {
   "cell_type": "code",
   "execution_count": 49,
   "metadata": {},
   "outputs": [],
   "source": [
    "def fibi_rec(f=0, s=1, count=3, max_ = 10, li=[0, 1]):\n",
    "        if count > max_:\n",
    "                return li\n",
    "        t = f + s\n",
    "        li.append(t)\n",
    "        return fibi_rec(s, t, count+1, max_, li)"
   ]
  },
  {
   "cell_type": "code",
   "execution_count": 50,
   "metadata": {},
   "outputs": [
    {
     "data": {
      "text/plain": [
       "[0, 1, 1, 2, 3, 5, 8, 13, 21, 34]"
      ]
     },
     "execution_count": 50,
     "metadata": {},
     "output_type": "execute_result"
    }
   ],
   "source": [
    "fibi_rec()"
   ]
  },
  {
   "cell_type": "code",
   "execution_count": null,
   "metadata": {},
   "outputs": [],
   "source": []
  }
 ],
 "metadata": {
  "kernelspec": {
   "display_name": ".venv",
   "language": "python",
   "name": "python3"
  },
  "language_info": {
   "codemirror_mode": {
    "name": "ipython",
    "version": 3
   },
   "file_extension": ".py",
   "mimetype": "text/x-python",
   "name": "python",
   "nbconvert_exporter": "python",
   "pygments_lexer": "ipython3",
   "version": "3.10.0"
  }
 },
 "nbformat": 4,
 "nbformat_minor": 2
}
