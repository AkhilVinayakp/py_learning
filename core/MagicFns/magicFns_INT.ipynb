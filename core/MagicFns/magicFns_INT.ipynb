{
 "cells": [
  {
   "cell_type": "code",
   "execution_count": 1,
   "metadata": {},
   "outputs": [],
   "source": [
    "# Over riding the + and - operations "
   ]
  },
  {
   "cell_type": "code",
   "execution_count": 7,
   "metadata": {},
   "outputs": [],
   "source": [
    "# defining a Pen class that has 2 properties color and thickness\n",
    "class Pen:\n",
    "    def __init__(self, color:str, size:int) -> None:\n",
    "        self.color = color\n",
    "        self.size = size\n",
    "    def __add__(self, other:any) -> 'Pen':\n",
    "        if(isinstance(other, Pen)):\n",
    "            return Pen(self.color, self.size + other.size)\n",
    "        elif(isinstance(other, float)):\n",
    "            return Pen(self.color, self.size + other)\n",
    "        else:\n",
    "            raise TypeError(\"Value not supported\") \n",
    "    def __repr__(self) -> str:\n",
    "        return f'PEN-Color:{self.color}-Size:{self.size}'\n"
   ]
  },
  {
   "cell_type": "code",
   "execution_count": 8,
   "metadata": {},
   "outputs": [],
   "source": [
    "cello = Pen('Red', 0.2)\n",
    "p_soft = Pen('Red', 0.5)\n",
    "new_p = cello + p_soft"
   ]
  },
  {
   "cell_type": "code",
   "execution_count": 9,
   "metadata": {},
   "outputs": [
    {
     "data": {
      "text/plain": [
       "PEN-Color:Red-Size:0.7"
      ]
     },
     "execution_count": 9,
     "metadata": {},
     "output_type": "execute_result"
    }
   ],
   "source": [
    "new_p"
   ]
  },
  {
   "cell_type": "code",
   "execution_count": 13,
   "metadata": {},
   "outputs": [],
   "source": [
    "new_pen = p_soft + 0.1"
   ]
  },
  {
   "cell_type": "code",
   "execution_count": 15,
   "metadata": {},
   "outputs": [
    {
     "data": {
      "text/plain": [
       "PEN-Color:Red-Size:0.6"
      ]
     },
     "execution_count": 15,
     "metadata": {},
     "output_type": "execute_result"
    }
   ],
   "source": [
    "new_pen"
   ]
  },
  {
   "cell_type": "code",
   "execution_count": 16,
   "metadata": {},
   "outputs": [],
   "source": [
    "# the following code will produce error since the order of the operand are different, \n",
    "# no function to handle the above situation"
   ]
  },
  {
   "cell_type": "code",
   "execution_count": 17,
   "metadata": {},
   "outputs": [
    {
     "ename": "TypeError",
     "evalue": "unsupported operand type(s) for +: 'float' and 'Pen'",
     "output_type": "error",
     "traceback": [
      "\u001b[1;31m---------------------------------------------------------------------------\u001b[0m",
      "\u001b[1;31mTypeError\u001b[0m                                 Traceback (most recent call last)",
      "\u001b[1;32m~\\AppData\\Local\\Temp\\ipykernel_5372\\155848483.py\u001b[0m in \u001b[0;36m<module>\u001b[1;34m\u001b[0m\n\u001b[1;32m----> 1\u001b[1;33m \u001b[0mnew_pen\u001b[0m \u001b[1;33m=\u001b[0m \u001b[1;36m0.4\u001b[0m \u001b[1;33m+\u001b[0m \u001b[0mcello\u001b[0m\u001b[1;33m\u001b[0m\u001b[1;33m\u001b[0m\u001b[0m\n\u001b[0m",
      "\u001b[1;31mTypeError\u001b[0m: unsupported operand type(s) for +: 'float' and 'Pen'"
     ]
    }
   ],
   "source": [
    "new_pen = 0.4 + cello"
   ]
  },
  {
   "cell_type": "code",
   "execution_count": 18,
   "metadata": {},
   "outputs": [],
   "source": [
    "# hence we are defining another magic function radd\n",
    "# the function resolving will start from the left hand side.\n",
    "\n",
    "# defining a Pen class that has 2 properties color and thickness\n",
    "class Pen:\n",
    "    def __init__(self, color:str, size:int) -> None:\n",
    "        self.color = color\n",
    "        self.size = size\n",
    "    def __add__(self, other:any) -> 'Pen':\n",
    "        if(isinstance(other, Pen)):\n",
    "            return Pen(self.color, self.size + other.size)\n",
    "        elif(isinstance(other, float)):\n",
    "            return Pen(self.color, self.size + other)\n",
    "        else:\n",
    "            raise TypeError(\"Value not supported\")\n",
    "    def __radd__(self, other:float) -> 'Pen':\n",
    "        '''Return new object by adding the new size \n",
    "        invoked when : <float\n",
    "        '''\n",
    "        return Pen(color=self.color, size=self.size+other)\n",
    "    def __repr__(self) -> str:\n",
    "        return f'PEN-Color:{self.color}-Size:{self.size}'\n"
   ]
  },
  {
   "cell_type": "code",
   "execution_count": 19,
   "metadata": {},
   "outputs": [],
   "source": [
    "cello = Pen(size=0.1,color='Green')\n",
    "new_pen = 0.4 + cello"
   ]
  },
  {
   "cell_type": "code",
   "execution_count": 20,
   "metadata": {},
   "outputs": [
    {
     "data": {
      "text/plain": [
       "PEN-Color:Green-Size:0.5"
      ]
     },
     "execution_count": 20,
     "metadata": {},
     "output_type": "execute_result"
    }
   ],
   "source": [
    "new_pen"
   ]
  },
  {
   "cell_type": "code",
   "execution_count": null,
   "metadata": {},
   "outputs": [],
   "source": []
  },
  {
   "cell_type": "markdown",
   "metadata": {},
   "source": [
    "### `__getattr__` and `__getattribute__`"
   ]
  },
  {
   "cell_type": "markdown",
   "metadata": {},
   "source": []
  },
  {
   "cell_type": "code",
   "execution_count": null,
   "metadata": {},
   "outputs": [],
   "source": []
  }
 ],
 "metadata": {
  "kernelspec": {
   "display_name": "py_learning-JHoUI0zv",
   "language": "python",
   "name": "python3"
  },
  "language_info": {
   "codemirror_mode": {
    "name": "ipython",
    "version": 3
   },
   "file_extension": ".py",
   "mimetype": "text/x-python",
   "name": "python",
   "nbconvert_exporter": "python",
   "pygments_lexer": "ipython3",
   "version": "3.10.0"
  }
 },
 "nbformat": 4,
 "nbformat_minor": 2
}
