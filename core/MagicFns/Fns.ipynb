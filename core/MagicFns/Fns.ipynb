{
 "cells": [
  {
   "cell_type": "code",
   "execution_count": 1,
   "metadata": {},
   "outputs": [],
   "source": [
    "# functions in  python  are first class objects"
   ]
  },
  {
   "cell_type": "code",
   "execution_count": 2,
   "metadata": {},
   "outputs": [],
   "source": [
    "def sample_fun(x:int)-> int:\n",
    "    \"\"\" The function return double of a number,\n",
    "    \"\"\"\n",
    "    return x * 2"
   ]
  },
  {
   "cell_type": "code",
   "execution_count": 3,
   "metadata": {},
   "outputs": [
    {
     "data": {
      "text/plain": [
       "4"
      ]
     },
     "execution_count": 3,
     "metadata": {},
     "output_type": "execute_result"
    }
   ],
   "source": [
    "s = sample_fun # assigning to a variable.\n",
    "\n",
    "s(2)"
   ]
  },
  {
   "cell_type": "code",
   "execution_count": 4,
   "metadata": {},
   "outputs": [],
   "source": [
    "s.__doc__ = \"this is something different\""
   ]
  },
  {
   "cell_type": "code",
   "execution_count": 5,
   "metadata": {},
   "outputs": [
    {
     "data": {
      "text/plain": [
       "'this is something different'"
      ]
     },
     "execution_count": 5,
     "metadata": {},
     "output_type": "execute_result"
    }
   ],
   "source": [
    "sample_fun.__doc__"
   ]
  },
  {
   "cell_type": "code",
   "execution_count": 7,
   "metadata": {},
   "outputs": [
    {
     "name": "stdout",
     "output_type": "stream",
     "text": [
      "hey  Rosh\n",
      "how are you doing\n"
     ]
    }
   ],
   "source": [
    "# functions can be passed or returns from another function;\n",
    "def say_hai(name:str)->None:\n",
    "    print(\"hey \", name)\n",
    "\n",
    "def greeting(name, func)->None:\n",
    "    func(name)\n",
    "    print(\"how are you doing\")\n",
    "\n",
    "greeting('Rosh', say_hai)"
   ]
  },
  {
   "cell_type": "code",
   "execution_count": 13,
   "metadata": {},
   "outputs": [],
   "source": [
    "# functions can return function\n",
    "from typing import Callable\n",
    "def wrapper(\n",
    "        x: int,\n",
    "        y: int,\n",
    "        z: int,\n",
    ")-> Callable[[int, int, int], str]:\n",
    "    def inner(chain_command:str)-> str:\n",
    "        # will have access to the variables defined in outer scope.\n",
    "        return f\"{chain_command} \".join(str(item) for item in [x,y,z])\n",
    "    return inner"
   ]
  },
  {
   "cell_type": "code",
   "execution_count": 14,
   "metadata": {},
   "outputs": [
    {
     "name": "stdout",
     "output_type": "stream",
     "text": [
      "1-> 2-> 4\n"
     ]
    }
   ],
   "source": [
    "chain_vars = wrapper(1,2,4)\n",
    "print(chain_vars(\"->\"))"
   ]
  },
  {
   "cell_type": "code",
   "execution_count": 15,
   "metadata": {},
   "outputs": [
    {
     "name": "stdout",
     "output_type": "stream",
     "text": [
      "1&& 2&& 4\n"
     ]
    }
   ],
   "source": [
    "print(chain_vars(\"&&\"))"
   ]
  },
  {
   "cell_type": "code",
   "execution_count": 24,
   "metadata": {},
   "outputs": [],
   "source": [
    "# where it can go wrong\n",
    "# functions can return function\n",
    "from typing import Callable\n",
    "def wrapper(\n",
    "        x: str,\n",
    ")-> Callable[[str], str]:\n",
    "    def inner(chain_command:str)-> str:\n",
    "        # will have access to the variables defined in outer scope.\n",
    "        nonlocal x\n",
    "        x = f\"{chain_command} * {x}\"\n",
    "        return x\n",
    "    return inner"
   ]
  },
  {
   "cell_type": "code",
   "execution_count": 26,
   "metadata": {},
   "outputs": [
    {
     "name": "stdout",
     "output_type": "stream",
     "text": [
      "4 * 3\n"
     ]
    }
   ],
   "source": [
    "vars = wrapper(3)\n",
    "print(vars('4'))"
   ]
  },
  {
   "cell_type": "code",
   "execution_count": 27,
   "metadata": {},
   "outputs": [
    {
     "name": "stdout",
     "output_type": "stream",
     "text": [
      "10 * 4 * 3\n"
     ]
    }
   ],
   "source": [
    "print(vars('10'))"
   ]
  },
  {
   "cell_type": "code",
   "execution_count": 31,
   "metadata": {},
   "outputs": [],
   "source": [
    "# doing cumulative sum\n",
    "def initialize(x):\n",
    "    def adder(y):\n",
    "        nonlocal x\n",
    "        x = x + y\n",
    "        return x\n",
    "    return adder"
   ]
  },
  {
   "cell_type": "code",
   "execution_count": 32,
   "metadata": {},
   "outputs": [],
   "source": [
    "updater = initialize(2)"
   ]
  },
  {
   "cell_type": "code",
   "execution_count": 33,
   "metadata": {},
   "outputs": [
    {
     "data": {
      "text/plain": [
       "22"
      ]
     },
     "execution_count": 33,
     "metadata": {},
     "output_type": "execute_result"
    }
   ],
   "source": [
    "updater(20)"
   ]
  },
  {
   "cell_type": "code",
   "execution_count": 34,
   "metadata": {},
   "outputs": [
    {
     "data": {
      "text/plain": [
       "32"
      ]
     },
     "execution_count": 34,
     "metadata": {},
     "output_type": "execute_result"
    }
   ],
   "source": [
    "updater(10)"
   ]
  },
  {
   "cell_type": "code",
   "execution_count": null,
   "metadata": {},
   "outputs": [],
   "source": []
  }
 ],
 "metadata": {
  "kernelspec": {
   "display_name": "Python 3",
   "language": "python",
   "name": "python3"
  },
  "language_info": {
   "codemirror_mode": {
    "name": "ipython",
    "version": 3
   },
   "file_extension": ".py",
   "mimetype": "text/x-python",
   "name": "python",
   "nbconvert_exporter": "python",
   "pygments_lexer": "ipython3",
   "version": "3.10.0"
  }
 },
 "nbformat": 4,
 "nbformat_minor": 2
}
