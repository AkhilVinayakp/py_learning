{
 "cells": [
  {
   "cell_type": "code",
   "execution_count": 1,
   "metadata": {},
   "outputs": [],
   "source": [
    "# Contains very basic sample questions and Soln"
   ]
  },
  {
   "cell_type": "code",
   "execution_count": 2,
   "metadata": {},
   "outputs": [],
   "source": [
    "# Find the count for the occurrence of a particular character in a string."
   ]
  },
  {
   "cell_type": "code",
   "execution_count": 19,
   "metadata": {},
   "outputs": [
    {
     "data": {
      "text/plain": [
       "Counter({'H': 2,\n",
       "         'e': 2,\n",
       "         'l': 2,\n",
       "         'o': 3,\n",
       "         ' ': 3,\n",
       "         'w': 1,\n",
       "         'a': 1,\n",
       "         'r': 1,\n",
       "         'y': 1,\n",
       "         'u': 1})"
      ]
     },
     "execution_count": 19,
     "metadata": {},
     "output_type": "execute_result"
    }
   ],
   "source": [
    "from collections import Counter\n",
    "sample = \"Hello How are you\"\n",
    "sample_counter = Counter(sample)\n",
    "sample_counter"
   ]
  },
  {
   "cell_type": "code",
   "execution_count": 17,
   "metadata": {},
   "outputs": [],
   "source": [
    "counter = {}\n",
    "for item in sample:\n",
    "    if item in counter:\n",
    "        counter[item] += 1\n",
    "    else:\n",
    "        counter[item] = 1"
   ]
  },
  {
   "cell_type": "code",
   "execution_count": 18,
   "metadata": {},
   "outputs": [
    {
     "data": {
      "text/plain": [
       "{'H': 2,\n",
       " 'e': 2,\n",
       " 'l': 2,\n",
       " 'o': 3,\n",
       " ' ': 3,\n",
       " 'w': 1,\n",
       " 'a': 1,\n",
       " 'r': 1,\n",
       " 'y': 1,\n",
       " 'u': 1}"
      ]
     },
     "execution_count": 18,
     "metadata": {},
     "output_type": "execute_result"
    }
   ],
   "source": [
    "counter"
   ]
  },
  {
   "cell_type": "code",
   "execution_count": 28,
   "metadata": {},
   "outputs": [],
   "source": [
    "# Determine the second largest element of an array.\n",
    "array = [12,42,42,512,41,90,100]\n",
    "\n",
    "max_ = 0\n",
    "max2 = 0\n",
    "for item in array:\n",
    "    if item > max_:\n",
    "        max_ = item\n",
    "    if item < max_ and item > max2:\n",
    "        max2 = item\n",
    "    \n",
    "\n",
    "\n",
    "\n",
    "\n"
   ]
  },
  {
   "cell_type": "code",
   "execution_count": 29,
   "metadata": {},
   "outputs": [
    {
     "data": {
      "text/plain": [
       "(512, 100)"
      ]
     },
     "execution_count": 29,
     "metadata": {},
     "output_type": "execute_result"
    }
   ],
   "source": [
    "max_, max2"
   ]
  },
  {
   "cell_type": "code",
   "execution_count": 50,
   "metadata": {},
   "outputs": [
    {
     "data": {
      "text/plain": [
       "[9, 8, 7, 6, 5, 4, 3, 2, 1]"
      ]
     },
     "execution_count": 50,
     "metadata": {},
     "output_type": "execute_result"
    }
   ],
   "source": [
    "# List reversal with out built in function\n",
    "array = list(range(1,10))\n",
    "# array.reverse()\n",
    "for i in range(0, len(array)):\n",
    "    val = array.pop()\n",
    "    array.insert(i,val)\n",
    "array"
   ]
  },
  {
   "cell_type": "code",
   "execution_count": 52,
   "metadata": {},
   "outputs": [
    {
     "data": {
      "text/plain": [
       "'T IS WONDERFULL'"
      ]
     },
     "execution_count": 52,
     "metadata": {},
     "output_type": "execute_result"
    }
   ],
   "source": [
    "# How to remove all the lowercase letters in a string\n",
    "from string import ascii_lowercase\n",
    "s = \"This IS WONDERFULL\"\n",
    "''.join([x for x in s if x not in ascii_lowercase])"
   ]
  },
  {
   "cell_type": "code",
   "execution_count": 48,
   "metadata": {},
   "outputs": [],
   "source": [
    "# basic implimentation of linked list\n",
    "class Node:\n",
    "    def __init__(self, val, next_=None) -> None:\n",
    "        self.value = val\n",
    "        self.next = next_\n",
    "\n",
    "class LinkedList:\n",
    "    def __init__(self) -> None:\n",
    "        self.head = None"
   ]
  },
  {
   "cell_type": "code",
   "execution_count": 49,
   "metadata": {},
   "outputs": [
    {
     "data": {
      "text/plain": [
       "'abcdefghijklmnopqrstuvwxyz'"
      ]
     },
     "execution_count": 49,
     "metadata": {},
     "output_type": "execute_result"
    }
   ],
   "source": [
    "ascii_lowercase"
   ]
  },
  {
   "cell_type": "code",
   "execution_count": null,
   "metadata": {},
   "outputs": [],
   "source": []
  }
 ],
 "metadata": {
  "kernelspec": {
   "display_name": "Python 3",
   "language": "python",
   "name": "python3"
  },
  "language_info": {
   "codemirror_mode": {
    "name": "ipython",
    "version": 3
   },
   "file_extension": ".py",
   "mimetype": "text/x-python",
   "name": "python",
   "nbconvert_exporter": "python",
   "pygments_lexer": "ipython3",
   "version": "3.10.0"
  },
  "orig_nbformat": 4,
  "vscode": {
   "interpreter": {
    "hash": "208bcf22c938a65cdb1bd8dd171fb2e3633d342488f088e149f138423e000178"
   }
  }
 },
 "nbformat": 4,
 "nbformat_minor": 2
}
